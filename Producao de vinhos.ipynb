{
 "cells": [
  {
   "cell_type": "code",
   "execution_count": null,
   "id": "1cd3f8ba",
   "metadata": {},
   "outputs": [],
   "source": [
    "# Bibliotecas padrão\n",
    "import pandas as pd\n",
    "import numpy as np\n",
    "import matplotlib.pyplot as plt\n",
    "import seaborn as sns\n",
    "import matplotlib.ticker as ticker\n",
    "import requests\n",
    "import warnings\n"
   ]
  },
  {
   "cell_type": "code",
   "execution_count": null,
   "id": "a06ee45b",
   "metadata": {},
   "outputs": [
    {
     "data": {
      "application/vnd.microsoft.datawrangler.viewer.v0+json": {
       "columns": [
        {
         "name": "index",
         "rawType": "int64",
         "type": "integer"
        },
        {
         "name": "Id",
         "rawType": "int64",
         "type": "integer"
        },
        {
         "name": "País",
         "rawType": "object",
         "type": "string"
        },
        {
         "name": "1970",
         "rawType": "int64",
         "type": "integer"
        },
        {
         "name": "1970.1",
         "rawType": "int64",
         "type": "integer"
        },
        {
         "name": "1971",
         "rawType": "int64",
         "type": "integer"
        },
        {
         "name": "1971.1",
         "rawType": "int64",
         "type": "integer"
        },
        {
         "name": "1972",
         "rawType": "int64",
         "type": "integer"
        },
        {
         "name": "1972.1",
         "rawType": "int64",
         "type": "integer"
        },
        {
         "name": "1973",
         "rawType": "int64",
         "type": "integer"
        },
        {
         "name": "1973.1",
         "rawType": "int64",
         "type": "integer"
        },
        {
         "name": "1974",
         "rawType": "int64",
         "type": "integer"
        },
        {
         "name": "1974.1",
         "rawType": "int64",
         "type": "integer"
        },
        {
         "name": "1975",
         "rawType": "int64",
         "type": "integer"
        },
        {
         "name": "1975.1",
         "rawType": "int64",
         "type": "integer"
        },
        {
         "name": "1976",
         "rawType": "int64",
         "type": "integer"
        },
        {
         "name": "1976.1",
         "rawType": "int64",
         "type": "integer"
        },
        {
         "name": "1977",
         "rawType": "int64",
         "type": "integer"
        },
        {
         "name": "1977.1",
         "rawType": "int64",
         "type": "integer"
        },
        {
         "name": "1978",
         "rawType": "int64",
         "type": "integer"
        },
        {
         "name": "1978.1",
         "rawType": "int64",
         "type": "integer"
        },
        {
         "name": "1979",
         "rawType": "int64",
         "type": "integer"
        },
        {
         "name": "1979.1",
         "rawType": "int64",
         "type": "integer"
        },
        {
         "name": "1980",
         "rawType": "int64",
         "type": "integer"
        },
        {
         "name": "1980.1",
         "rawType": "int64",
         "type": "integer"
        },
        {
         "name": "1981",
         "rawType": "int64",
         "type": "integer"
        },
        {
         "name": "1981.1",
         "rawType": "int64",
         "type": "integer"
        },
        {
         "name": "1982",
         "rawType": "int64",
         "type": "integer"
        },
        {
         "name": "1982.1",
         "rawType": "int64",
         "type": "integer"
        },
        {
         "name": "1983",
         "rawType": "int64",
         "type": "integer"
        },
        {
         "name": "1983.1",
         "rawType": "int64",
         "type": "integer"
        },
        {
         "name": "1984",
         "rawType": "int64",
         "type": "integer"
        },
        {
         "name": "1984.1",
         "rawType": "int64",
         "type": "integer"
        },
        {
         "name": "1985",
         "rawType": "int64",
         "type": "integer"
        },
        {
         "name": "1985.1",
         "rawType": "int64",
         "type": "integer"
        },
        {
         "name": "1986",
         "rawType": "int64",
         "type": "integer"
        },
        {
         "name": "1986.1",
         "rawType": "int64",
         "type": "integer"
        },
        {
         "name": "1987",
         "rawType": "int64",
         "type": "integer"
        },
        {
         "name": "1987.1",
         "rawType": "int64",
         "type": "integer"
        },
        {
         "name": "1988",
         "rawType": "int64",
         "type": "integer"
        },
        {
         "name": "1988.1",
         "rawType": "int64",
         "type": "integer"
        },
        {
         "name": "1989",
         "rawType": "int64",
         "type": "integer"
        },
        {
         "name": "1989.1",
         "rawType": "int64",
         "type": "integer"
        },
        {
         "name": "1990",
         "rawType": "int64",
         "type": "integer"
        },
        {
         "name": "1990.1",
         "rawType": "int64",
         "type": "integer"
        },
        {
         "name": "1991",
         "rawType": "int64",
         "type": "integer"
        },
        {
         "name": "1991.1",
         "rawType": "int64",
         "type": "integer"
        },
        {
         "name": "1992",
         "rawType": "int64",
         "type": "integer"
        },
        {
         "name": "1992.1",
         "rawType": "int64",
         "type": "integer"
        },
        {
         "name": "1993",
         "rawType": "int64",
         "type": "integer"
        },
        {
         "name": "1993.1",
         "rawType": "int64",
         "type": "integer"
        },
        {
         "name": "1994",
         "rawType": "int64",
         "type": "integer"
        },
        {
         "name": "1994.1",
         "rawType": "int64",
         "type": "integer"
        },
        {
         "name": "1995",
         "rawType": "int64",
         "type": "integer"
        },
        {
         "name": "1995.1",
         "rawType": "int64",
         "type": "integer"
        },
        {
         "name": "1996",
         "rawType": "int64",
         "type": "integer"
        },
        {
         "name": "1996.1",
         "rawType": "int64",
         "type": "integer"
        },
        {
         "name": "1997",
         "rawType": "int64",
         "type": "integer"
        },
        {
         "name": "1997.1",
         "rawType": "int64",
         "type": "integer"
        },
        {
         "name": "1998",
         "rawType": "int64",
         "type": "integer"
        },
        {
         "name": "1998.1",
         "rawType": "int64",
         "type": "integer"
        },
        {
         "name": "1999",
         "rawType": "int64",
         "type": "integer"
        },
        {
         "name": "1999.1",
         "rawType": "int64",
         "type": "integer"
        },
        {
         "name": "2000",
         "rawType": "int64",
         "type": "integer"
        },
        {
         "name": "2000.1",
         "rawType": "int64",
         "type": "integer"
        },
        {
         "name": "2001",
         "rawType": "int64",
         "type": "integer"
        },
        {
         "name": "2001.1",
         "rawType": "int64",
         "type": "integer"
        },
        {
         "name": "2002",
         "rawType": "int64",
         "type": "integer"
        },
        {
         "name": "2002.1",
         "rawType": "int64",
         "type": "integer"
        },
        {
         "name": "2003",
         "rawType": "int64",
         "type": "integer"
        },
        {
         "name": "2003.1",
         "rawType": "int64",
         "type": "integer"
        },
        {
         "name": "2004",
         "rawType": "int64",
         "type": "integer"
        },
        {
         "name": "2004.1",
         "rawType": "int64",
         "type": "integer"
        },
        {
         "name": "2005",
         "rawType": "int64",
         "type": "integer"
        },
        {
         "name": "2005.1",
         "rawType": "int64",
         "type": "integer"
        },
        {
         "name": "2006",
         "rawType": "int64",
         "type": "integer"
        },
        {
         "name": "2006.1",
         "rawType": "int64",
         "type": "integer"
        },
        {
         "name": "2007",
         "rawType": "int64",
         "type": "integer"
        },
        {
         "name": "2007.1",
         "rawType": "int64",
         "type": "integer"
        },
        {
         "name": "2008",
         "rawType": "int64",
         "type": "integer"
        },
        {
         "name": "2008.1",
         "rawType": "int64",
         "type": "integer"
        },
        {
         "name": "2009",
         "rawType": "int64",
         "type": "integer"
        },
        {
         "name": "2009.1",
         "rawType": "int64",
         "type": "integer"
        },
        {
         "name": "2010",
         "rawType": "int64",
         "type": "integer"
        },
        {
         "name": "2010.1",
         "rawType": "int64",
         "type": "integer"
        },
        {
         "name": "2011",
         "rawType": "int64",
         "type": "integer"
        },
        {
         "name": "2011.1",
         "rawType": "int64",
         "type": "integer"
        },
        {
         "name": "2012",
         "rawType": "int64",
         "type": "integer"
        },
        {
         "name": "2012.1",
         "rawType": "int64",
         "type": "integer"
        },
        {
         "name": "2013",
         "rawType": "int64",
         "type": "integer"
        },
        {
         "name": "2013.1",
         "rawType": "int64",
         "type": "integer"
        },
        {
         "name": "2014",
         "rawType": "int64",
         "type": "integer"
        },
        {
         "name": "2014.1",
         "rawType": "int64",
         "type": "integer"
        },
        {
         "name": "2015",
         "rawType": "int64",
         "type": "integer"
        },
        {
         "name": "2015.1",
         "rawType": "int64",
         "type": "integer"
        },
        {
         "name": "2016",
         "rawType": "int64",
         "type": "integer"
        },
        {
         "name": "2016.1",
         "rawType": "int64",
         "type": "integer"
        },
        {
         "name": "2017",
         "rawType": "int64",
         "type": "integer"
        },
        {
         "name": "2017.1",
         "rawType": "int64",
         "type": "integer"
        },
        {
         "name": "2018",
         "rawType": "int64",
         "type": "integer"
        },
        {
         "name": "2018.1",
         "rawType": "int64",
         "type": "integer"
        },
        {
         "name": "2019",
         "rawType": "int64",
         "type": "integer"
        },
        {
         "name": "2019.1",
         "rawType": "int64",
         "type": "integer"
        },
        {
         "name": "2020",
         "rawType": "int64",
         "type": "integer"
        },
        {
         "name": "2020.1",
         "rawType": "int64",
         "type": "integer"
        },
        {
         "name": "2021",
         "rawType": "int64",
         "type": "integer"
        },
        {
         "name": "2021.1",
         "rawType": "int64",
         "type": "integer"
        },
        {
         "name": "2022",
         "rawType": "int64",
         "type": "integer"
        },
        {
         "name": "2022.1",
         "rawType": "int64",
         "type": "integer"
        },
        {
         "name": "2023",
         "rawType": "int64",
         "type": "integer"
        },
        {
         "name": "2023.1",
         "rawType": "int64",
         "type": "integer"
        }
       ],
       "ref": "eab0bb8d-cad8-4805-b0de-45962aeaa77e",
       "rows": [
        [
         "0",
         "1",
         "Afeganistão",
         "0",
         "0",
         "0",
         "0",
         "0",
         "0",
         "0",
         "0",
         "0",
         "0",
         "0",
         "0",
         "0",
         "0",
         "0",
         "0",
         "0",
         "0",
         "0",
         "0",
         "0",
         "0",
         "0",
         "0",
         "0",
         "0",
         "0",
         "0",
         "0",
         "0",
         "0",
         "0",
         "0",
         "0",
         "0",
         "0",
         "0",
         "0",
         "0",
         "0",
         "0",
         "0",
         "0",
         "0",
         "0",
         "0",
         "0",
         "0",
         "0",
         "0",
         "0",
         "0",
         "0",
         "0",
         "0",
         "0",
         "0",
         "0",
         "0",
         "0",
         "0",
         "0",
         "0",
         "0",
         "0",
         "0",
         "0",
         "0",
         "0",
         "0",
         "0",
         "0",
         "0",
         "0",
         "0",
         "0",
         "0",
         "0",
         "0",
         "0",
         "0",
         "0",
         "0",
         "0",
         "0",
         "0",
         "0",
         "0",
         "0",
         "0",
         "0",
         "0",
         "0",
         "0",
         "0",
         "0",
         "0",
         "0",
         "0",
         "0",
         "0",
         "0",
         "11",
         "46",
         "0",
         "0",
         "0",
         "0"
        ],
        [
         "1",
         "2",
         "África do Sul",
         "0",
         "0",
         "0",
         "0",
         "0",
         "0",
         "0",
         "0",
         "0",
         "0",
         "0",
         "0",
         "0",
         "0",
         "0",
         "0",
         "0",
         "0",
         "0",
         "0",
         "0",
         "0",
         "0",
         "0",
         "0",
         "0",
         "0",
         "0",
         "0",
         "0",
         "0",
         "0",
         "0",
         "0",
         "0",
         "0",
         "0",
         "0",
         "0",
         "0",
         "0",
         "0",
         "0",
         "0",
         "0",
         "0",
         "0",
         "0",
         "0",
         "0",
         "0",
         "0",
         "0",
         "0",
         "463",
         "1673",
         "0",
         "0",
         "0",
         "0",
         "0",
         "0",
         "0",
         "0",
         "0",
         "0",
         "0",
         "0",
         "0",
         "0",
         "0",
         "0",
         "0",
         "0",
         "0",
         "0",
         "0",
         "0",
         "0",
         "0",
         "0",
         "0",
         "0",
         "0",
         "0",
         "0",
         "0",
         "0",
         "0",
         "0",
         "0",
         "0",
         "0",
         "0",
         "0",
         "0",
         "0",
         "0",
         "26",
         "95",
         "4",
         "21",
         "0",
         "0",
         "0",
         "0",
         "117",
         "698"
        ],
        [
         "2",
         "3",
         "Alemanha, República Democrática",
         "0",
         "0",
         "0",
         "0",
         "4168",
         "2630",
         "12000",
         "8250",
         "0",
         "0",
         "0",
         "0",
         "0",
         "0",
         "0",
         "0",
         "0",
         "0",
         "5400",
         "6500",
         "0",
         "0",
         "0",
         "0",
         "0",
         "0",
         "0",
         "0",
         "0",
         "0",
         "67",
         "136",
         "1037",
         "1750",
         "2700",
         "4044",
         "2205",
         "3921",
         "197",
         "510",
         "0",
         "0",
         "3780",
         "7182",
         "2700",
         "5143",
         "0",
         "0",
         "0",
         "0",
         "20700",
         "40590",
         "0",
         "0",
         "43",
         "307",
         "504",
         "700",
         "0",
         "0",
         "9900",
         "15620",
         "1673",
         "11157",
         "1080",
         "4626",
         "0",
         "0",
         "13589",
         "28140",
         "57393",
         "106702",
         "38302",
         "89231",
         "119512",
         "238052",
         "265742",
         "429970",
         "225086",
         "393482",
         "27715",
         "138666",
         "36070",
         "144150",
         "8189",
         "56342",
         "61699",
         "265978",
         "213348",
         "761653",
         "10680",
         "44780",
         "14012",
         "68109",
         "15467",
         "87702",
         "10794",
         "45382",
         "3660",
         "25467",
         "6261",
         "32605",
         "2698",
         "6741",
         "7630",
         "45367",
         "4806",
         "31853"
        ],
        [
         "3",
         "4",
         "Angola",
         "0",
         "0",
         "0",
         "0",
         "0",
         "0",
         "0",
         "0",
         "0",
         "0",
         "0",
         "0",
         "0",
         "0",
         "0",
         "0",
         "0",
         "0",
         "3465756",
         "2387643",
         "1682244",
         "1118023",
         "0",
         "0",
         "0",
         "0",
         "0",
         "0",
         "0",
         "0",
         "339",
         "1082",
         "774",
         "1718",
         "1316",
         "3847",
         "18500",
         "12950",
         "168",
         "134",
         "930",
         "1090",
         "125",
         "116",
         "292",
         "332",
         "189",
         "238",
         "0",
         "0",
         "24",
         "46",
         "2118",
         "6401",
         "68494",
         "146017",
         "15780",
         "34732",
         "10998",
         "16738",
         "249717",
         "368817",
         "12150",
         "15529",
         "9812",
         "5290",
         "19937",
         "11437",
         "37573",
         "50382",
         "24056",
         "33039",
         "3766",
         "18293",
         "25931",
         "49753",
         "25721",
         "71083",
         "54786",
         "84235",
         "33557",
         "189891",
         "13889",
         "69001",
         "2833",
         "8861",
         "1573",
         "9300",
         "12182",
         "23124",
         "1908",
         "17089",
         "7359",
         "35390",
         "10170",
         "61680",
         "477",
         "709",
         "345",
         "1065",
         "0",
         "0",
         "0",
         "0",
         "4068",
         "4761",
         "0",
         "0"
        ],
        [
         "4",
         "5",
         "Anguilla",
         "0",
         "0",
         "0",
         "0",
         "0",
         "0",
         "0",
         "0",
         "0",
         "0",
         "0",
         "0",
         "0",
         "0",
         "0",
         "0",
         "0",
         "0",
         "0",
         "0",
         "0",
         "0",
         "0",
         "0",
         "0",
         "0",
         "0",
         "0",
         "0",
         "0",
         "0",
         "0",
         "130",
         "80",
         "324",
         "106",
         "0",
         "0",
         "0",
         "0",
         "0",
         "0",
         "0",
         "0",
         "0",
         "0",
         "0",
         "0",
         "0",
         "0",
         "0",
         "0",
         "0",
         "0",
         "0",
         "0",
         "0",
         "0",
         "0",
         "0",
         "0",
         "0",
         "0",
         "0",
         "0",
         "0",
         "0",
         "0",
         "0",
         "0",
         "0",
         "0",
         "0",
         "0",
         "0",
         "0",
         "0",
         "0",
         "0",
         "0",
         "0",
         "0",
         "0",
         "0",
         "0",
         "0",
         "0",
         "0",
         "0",
         "0",
         "0",
         "0",
         "0",
         "0",
         "0",
         "0",
         "0",
         "0",
         "0",
         "0",
         "0",
         "0",
         "0",
         "0",
         "0",
         "0",
         "0",
         "0"
        ]
       ],
       "shape": {
        "columns": 110,
        "rows": 5
       }
      },
      "text/html": [
       "<div>\n",
       "<style scoped>\n",
       "    .dataframe tbody tr th:only-of-type {\n",
       "        vertical-align: middle;\n",
       "    }\n",
       "\n",
       "    .dataframe tbody tr th {\n",
       "        vertical-align: top;\n",
       "    }\n",
       "\n",
       "    .dataframe thead th {\n",
       "        text-align: right;\n",
       "    }\n",
       "</style>\n",
       "<table border=\"1\" class=\"dataframe\">\n",
       "  <thead>\n",
       "    <tr style=\"text-align: right;\">\n",
       "      <th></th>\n",
       "      <th>Id</th>\n",
       "      <th>País</th>\n",
       "      <th>1970</th>\n",
       "      <th>1970.1</th>\n",
       "      <th>1971</th>\n",
       "      <th>1971.1</th>\n",
       "      <th>1972</th>\n",
       "      <th>1972.1</th>\n",
       "      <th>1973</th>\n",
       "      <th>1973.1</th>\n",
       "      <th>...</th>\n",
       "      <th>2019</th>\n",
       "      <th>2019.1</th>\n",
       "      <th>2020</th>\n",
       "      <th>2020.1</th>\n",
       "      <th>2021</th>\n",
       "      <th>2021.1</th>\n",
       "      <th>2022</th>\n",
       "      <th>2022.1</th>\n",
       "      <th>2023</th>\n",
       "      <th>2023.1</th>\n",
       "    </tr>\n",
       "  </thead>\n",
       "  <tbody>\n",
       "    <tr>\n",
       "      <th>0</th>\n",
       "      <td>1</td>\n",
       "      <td>Afeganistão</td>\n",
       "      <td>0</td>\n",
       "      <td>0</td>\n",
       "      <td>0</td>\n",
       "      <td>0</td>\n",
       "      <td>0</td>\n",
       "      <td>0</td>\n",
       "      <td>0</td>\n",
       "      <td>0</td>\n",
       "      <td>...</td>\n",
       "      <td>0</td>\n",
       "      <td>0</td>\n",
       "      <td>0</td>\n",
       "      <td>0</td>\n",
       "      <td>11</td>\n",
       "      <td>46</td>\n",
       "      <td>0</td>\n",
       "      <td>0</td>\n",
       "      <td>0</td>\n",
       "      <td>0</td>\n",
       "    </tr>\n",
       "    <tr>\n",
       "      <th>1</th>\n",
       "      <td>2</td>\n",
       "      <td>África do Sul</td>\n",
       "      <td>0</td>\n",
       "      <td>0</td>\n",
       "      <td>0</td>\n",
       "      <td>0</td>\n",
       "      <td>0</td>\n",
       "      <td>0</td>\n",
       "      <td>0</td>\n",
       "      <td>0</td>\n",
       "      <td>...</td>\n",
       "      <td>26</td>\n",
       "      <td>95</td>\n",
       "      <td>4</td>\n",
       "      <td>21</td>\n",
       "      <td>0</td>\n",
       "      <td>0</td>\n",
       "      <td>0</td>\n",
       "      <td>0</td>\n",
       "      <td>117</td>\n",
       "      <td>698</td>\n",
       "    </tr>\n",
       "    <tr>\n",
       "      <th>2</th>\n",
       "      <td>3</td>\n",
       "      <td>Alemanha, República Democrática</td>\n",
       "      <td>0</td>\n",
       "      <td>0</td>\n",
       "      <td>0</td>\n",
       "      <td>0</td>\n",
       "      <td>4168</td>\n",
       "      <td>2630</td>\n",
       "      <td>12000</td>\n",
       "      <td>8250</td>\n",
       "      <td>...</td>\n",
       "      <td>3660</td>\n",
       "      <td>25467</td>\n",
       "      <td>6261</td>\n",
       "      <td>32605</td>\n",
       "      <td>2698</td>\n",
       "      <td>6741</td>\n",
       "      <td>7630</td>\n",
       "      <td>45367</td>\n",
       "      <td>4806</td>\n",
       "      <td>31853</td>\n",
       "    </tr>\n",
       "    <tr>\n",
       "      <th>3</th>\n",
       "      <td>4</td>\n",
       "      <td>Angola</td>\n",
       "      <td>0</td>\n",
       "      <td>0</td>\n",
       "      <td>0</td>\n",
       "      <td>0</td>\n",
       "      <td>0</td>\n",
       "      <td>0</td>\n",
       "      <td>0</td>\n",
       "      <td>0</td>\n",
       "      <td>...</td>\n",
       "      <td>345</td>\n",
       "      <td>1065</td>\n",
       "      <td>0</td>\n",
       "      <td>0</td>\n",
       "      <td>0</td>\n",
       "      <td>0</td>\n",
       "      <td>4068</td>\n",
       "      <td>4761</td>\n",
       "      <td>0</td>\n",
       "      <td>0</td>\n",
       "    </tr>\n",
       "    <tr>\n",
       "      <th>4</th>\n",
       "      <td>5</td>\n",
       "      <td>Anguilla</td>\n",
       "      <td>0</td>\n",
       "      <td>0</td>\n",
       "      <td>0</td>\n",
       "      <td>0</td>\n",
       "      <td>0</td>\n",
       "      <td>0</td>\n",
       "      <td>0</td>\n",
       "      <td>0</td>\n",
       "      <td>...</td>\n",
       "      <td>0</td>\n",
       "      <td>0</td>\n",
       "      <td>0</td>\n",
       "      <td>0</td>\n",
       "      <td>0</td>\n",
       "      <td>0</td>\n",
       "      <td>0</td>\n",
       "      <td>0</td>\n",
       "      <td>0</td>\n",
       "      <td>0</td>\n",
       "    </tr>\n",
       "  </tbody>\n",
       "</table>\n",
       "<p>5 rows × 110 columns</p>\n",
       "</div>"
      ],
      "text/plain": [
       "   Id                             País  1970  1970.1  1971  1971.1  1972  \\\n",
       "0   1                      Afeganistão     0       0     0       0     0   \n",
       "1   2                    África do Sul     0       0     0       0     0   \n",
       "2   3  Alemanha, República Democrática     0       0     0       0  4168   \n",
       "3   4                           Angola     0       0     0       0     0   \n",
       "4   5                         Anguilla     0       0     0       0     0   \n",
       "\n",
       "   1972.1   1973  1973.1  ...  2019  2019.1  2020  2020.1  2021  2021.1  2022  \\\n",
       "0       0      0       0  ...     0       0     0       0    11      46     0   \n",
       "1       0      0       0  ...    26      95     4      21     0       0     0   \n",
       "2    2630  12000    8250  ...  3660   25467  6261   32605  2698    6741  7630   \n",
       "3       0      0       0  ...   345    1065     0       0     0       0  4068   \n",
       "4       0      0       0  ...     0       0     0       0     0       0     0   \n",
       "\n",
       "   2022.1  2023  2023.1  \n",
       "0       0     0       0  \n",
       "1       0   117     698  \n",
       "2   45367  4806   31853  \n",
       "3    4761     0       0  \n",
       "4       0     0       0  \n",
       "\n",
       "[5 rows x 110 columns]"
      ]
     },
     "execution_count": 3,
     "metadata": {},
     "output_type": "execute_result"
    }
   ],
   "source": [
    "producao = pd.read_csv('Dados/Dados_Embrapa/Producao/Tbl_Producao.csv', sep=';', encoding='utf-8')\n"
   ]
  },
  {
   "cell_type": "code",
   "execution_count": 4,
   "id": "e315aa9f",
   "metadata": {},
   "outputs": [
    {
     "data": {
      "application/vnd.microsoft.datawrangler.viewer.v0+json": {
       "columns": [
        {
         "name": "index",
         "rawType": "int64",
         "type": "integer"
        },
        {
         "name": "id",
         "rawType": "int64",
         "type": "integer"
        },
        {
         "name": "control",
         "rawType": "object",
         "type": "string"
        },
        {
         "name": "produto",
         "rawType": "object",
         "type": "string"
        },
        {
         "name": "1970",
         "rawType": "int64",
         "type": "integer"
        },
        {
         "name": "1971",
         "rawType": "int64",
         "type": "integer"
        },
        {
         "name": "1972",
         "rawType": "int64",
         "type": "integer"
        },
        {
         "name": "1973",
         "rawType": "int64",
         "type": "integer"
        },
        {
         "name": "1974",
         "rawType": "int64",
         "type": "integer"
        },
        {
         "name": "1975",
         "rawType": "int64",
         "type": "integer"
        },
        {
         "name": "1976",
         "rawType": "int64",
         "type": "integer"
        },
        {
         "name": "1977",
         "rawType": "int64",
         "type": "integer"
        },
        {
         "name": "1978",
         "rawType": "int64",
         "type": "integer"
        },
        {
         "name": "1979",
         "rawType": "int64",
         "type": "integer"
        },
        {
         "name": "1980",
         "rawType": "int64",
         "type": "integer"
        },
        {
         "name": "1981",
         "rawType": "int64",
         "type": "integer"
        },
        {
         "name": "1982",
         "rawType": "int64",
         "type": "integer"
        },
        {
         "name": "1983",
         "rawType": "int64",
         "type": "integer"
        },
        {
         "name": "1984",
         "rawType": "int64",
         "type": "integer"
        },
        {
         "name": "1985",
         "rawType": "int64",
         "type": "integer"
        },
        {
         "name": "1986",
         "rawType": "int64",
         "type": "integer"
        },
        {
         "name": "1987",
         "rawType": "int64",
         "type": "integer"
        },
        {
         "name": "1988",
         "rawType": "int64",
         "type": "integer"
        },
        {
         "name": "1989",
         "rawType": "int64",
         "type": "integer"
        },
        {
         "name": "1990",
         "rawType": "int64",
         "type": "integer"
        },
        {
         "name": "1991",
         "rawType": "int64",
         "type": "integer"
        },
        {
         "name": "1992",
         "rawType": "int64",
         "type": "integer"
        },
        {
         "name": "1993",
         "rawType": "int64",
         "type": "integer"
        },
        {
         "name": "1994",
         "rawType": "int64",
         "type": "integer"
        },
        {
         "name": "1995",
         "rawType": "int64",
         "type": "integer"
        },
        {
         "name": "1996",
         "rawType": "int64",
         "type": "integer"
        },
        {
         "name": "1997",
         "rawType": "int64",
         "type": "integer"
        },
        {
         "name": "1998",
         "rawType": "int64",
         "type": "integer"
        },
        {
         "name": "1999",
         "rawType": "int64",
         "type": "integer"
        },
        {
         "name": "2000",
         "rawType": "int64",
         "type": "integer"
        },
        {
         "name": "2001",
         "rawType": "int64",
         "type": "integer"
        },
        {
         "name": "2002",
         "rawType": "int64",
         "type": "integer"
        },
        {
         "name": "2003",
         "rawType": "int64",
         "type": "integer"
        },
        {
         "name": "2004",
         "rawType": "int64",
         "type": "integer"
        },
        {
         "name": "2005",
         "rawType": "int64",
         "type": "integer"
        },
        {
         "name": "2006",
         "rawType": "int64",
         "type": "integer"
        },
        {
         "name": "2007",
         "rawType": "int64",
         "type": "integer"
        },
        {
         "name": "2008",
         "rawType": "int64",
         "type": "integer"
        },
        {
         "name": "2009",
         "rawType": "int64",
         "type": "integer"
        },
        {
         "name": "2010",
         "rawType": "int64",
         "type": "integer"
        },
        {
         "name": "2011",
         "rawType": "int64",
         "type": "integer"
        },
        {
         "name": "2012",
         "rawType": "int64",
         "type": "integer"
        },
        {
         "name": "2013",
         "rawType": "int64",
         "type": "integer"
        },
        {
         "name": "2014",
         "rawType": "int64",
         "type": "integer"
        },
        {
         "name": "2015",
         "rawType": "int64",
         "type": "integer"
        },
        {
         "name": "2016",
         "rawType": "int64",
         "type": "integer"
        },
        {
         "name": "2017",
         "rawType": "int64",
         "type": "integer"
        },
        {
         "name": "2018",
         "rawType": "int64",
         "type": "integer"
        },
        {
         "name": "2019",
         "rawType": "int64",
         "type": "integer"
        },
        {
         "name": "2020",
         "rawType": "int64",
         "type": "integer"
        },
        {
         "name": "2021",
         "rawType": "int64",
         "type": "integer"
        },
        {
         "name": "2022",
         "rawType": "int64",
         "type": "integer"
        },
        {
         "name": "2023",
         "rawType": "int64",
         "type": "integer"
        }
       ],
       "ref": "708e03bf-1e83-474e-a2b7-5c76329b4c2b",
       "rows": [
        [
         "0",
         "1",
         "VINHO DE MESA",
         "VINHO DE MESA",
         "217208604",
         "154264651",
         "146953297",
         "116710345",
         "193875345",
         "177401209",
         "144565438",
         "195359778",
         "200053669",
         "211252982",
         "130308185",
         "186129728",
         "234754564",
         "120261544",
         "177680331",
         "275338955",
         "157711522",
         "150467184",
         "244791058",
         "181801961",
         "210548199",
         "126768254",
         "163248419",
         "171754995",
         "202073263",
         "214788304",
         "152917771",
         "182816047",
         "150814943",
         "226520776",
         "273025576",
         "228932458",
         "259589740",
         "202545724",
         "313962284",
         "226080432",
         "185100887",
         "275287908",
         "287506811",
         "205418206",
         "195267980",
         "257840749",
         "212777037",
         "196904222",
         "196173123",
         "210308560",
         "86319015",
         "255015187",
         "218375636",
         "144629737",
         "124200414",
         "173899995",
         "195031611",
         "169762429"
        ],
        [
         "1",
         "2",
         "vm_Tinto",
         "Tinto",
         "174224052",
         "121133369",
         "118180926",
         "88589019",
         "146544484",
         "144274134",
         "118360170",
         "154801826",
         "162917363",
         "154736439",
         "101659755",
         "134156175",
         "183349460",
         "87080528",
         "119615028",
         "216732390",
         "118766694",
         "97841160",
         "173747942",
         "136931173",
         "154359897",
         "90320836",
         "118638894",
         "125172218",
         "161479717",
         "167174017",
         "115896909",
         "116458841",
         "102127865",
         "168149414",
         "208242670",
         "175267437",
         "215892333",
         "155513687",
         "254172425",
         "180698666",
         "149552555",
         "228156220",
         "241057928",
         "164143454",
         "157290088",
         "210113358",
         "175875432",
         "163111797",
         "157776363",
         "169811472",
         "75279191",
         "1365957",
         "188270142",
         "121045115",
         "103916391",
         "146075996",
         "162844214",
         "139320884"
        ],
        [
         "2",
         "3",
         "vm_Branco",
         "Branco",
         "748400",
         "1160500",
         "1812367",
         "243900",
         "4138768",
         "1441507",
         "1871473",
         "4954387",
         "5079748",
         "7146395",
         "5363452",
         "12547739",
         "15782499",
         "12191896",
         "19502230",
         "23010666",
         "16872183",
         "27497857",
         "32660045",
         "24603265",
         "33512030",
         "25046588",
         "25446255",
         "31986075",
         "28291853",
         "15472732",
         "24073622",
         "41842945",
         "32140249",
         "42528150",
         "44902276",
         "44322836",
         "35329657",
         "40861639",
         "51719967",
         "39212146",
         "31738390",
         "42118552",
         "42942053",
         "39211278",
         "35408083",
         "46007504",
         "34938249",
         "32066403",
         "37438069",
         "39557250",
         "10727099",
         "217527985",
         "29229970",
         "22032828",
         "19568734",
         "26432799",
         "30198430",
         "27910299"
        ],
        [
         "3",
         "4",
         "vm_Rosado",
         "Rosado",
         "42236152",
         "31970782",
         "26960004",
         "27877426",
         "43192093",
         "31685568",
         "24333795",
         "35603565",
         "32056558",
         "49370148",
         "23284978",
         "39425814",
         "35622605",
         "20989120",
         "38563073",
         "35595899",
         "22072645",
         "25128167",
         "38383071",
         "20267523",
         "22676272",
         "11400830",
         "19163270",
         "14596702",
         "12301693",
         "32141555",
         "12947240",
         "24514261",
         "16546829",
         "15843212",
         "19880630",
         "9342185",
         "8367750",
         "6170398",
         "8069892",
         "6169620",
         "3809942",
         "5013136",
         "3506830",
         "2063474",
         "2569809",
         "1719887",
         "1963356",
         "1726022",
         "958691",
         "939838",
         "312725",
         "36121245",
         "875524",
         "1551794",
         "715289",
         "1391200",
         "1988968",
         "2531246"
        ],
        [
         "4",
         "5",
         "VINHO FINO DE MESA (VINIFERA)",
         "VINHO FINO DE MESA (VINIFERA)",
         "23899346",
         "23586062",
         "21078771",
         "12368410",
         "31644124",
         "39424590",
         "34500590",
         "41264971",
         "36750933",
         "46129710",
         "31740663",
         "49348047",
         "57453581",
         "40616812",
         "48289279",
         "67035393",
         "48559180",
         "47301266",
         "76560765",
         "72772144",
         "73689124",
         "45519167",
         "52612778",
         "53054225",
         "58733741",
         "47126229",
         "45325058",
         "46988414",
         "33898630",
         "45830497",
         "56209739",
         "34159277",
         "31655226",
         "29551457",
         "42902608",
         "45453898",
         "32168977",
         "43176484",
         "47334501",
         "39900568",
         "24805713",
         "47598471",
         "45200730",
         "45782530",
         "38464314",
         "37148982",
         "18070626",
         "44537870",
         "38707220",
         "37615422",
         "32516686",
         "43474998",
         "47511796",
         "46268556"
        ]
       ],
       "shape": {
        "columns": 57,
        "rows": 5
       }
      },
      "text/html": [
       "<div>\n",
       "<style scoped>\n",
       "    .dataframe tbody tr th:only-of-type {\n",
       "        vertical-align: middle;\n",
       "    }\n",
       "\n",
       "    .dataframe tbody tr th {\n",
       "        vertical-align: top;\n",
       "    }\n",
       "\n",
       "    .dataframe thead th {\n",
       "        text-align: right;\n",
       "    }\n",
       "</style>\n",
       "<table border=\"1\" class=\"dataframe\">\n",
       "  <thead>\n",
       "    <tr style=\"text-align: right;\">\n",
       "      <th></th>\n",
       "      <th>id</th>\n",
       "      <th>control</th>\n",
       "      <th>produto</th>\n",
       "      <th>1970</th>\n",
       "      <th>1971</th>\n",
       "      <th>1972</th>\n",
       "      <th>1973</th>\n",
       "      <th>1974</th>\n",
       "      <th>1975</th>\n",
       "      <th>1976</th>\n",
       "      <th>...</th>\n",
       "      <th>2014</th>\n",
       "      <th>2015</th>\n",
       "      <th>2016</th>\n",
       "      <th>2017</th>\n",
       "      <th>2018</th>\n",
       "      <th>2019</th>\n",
       "      <th>2020</th>\n",
       "      <th>2021</th>\n",
       "      <th>2022</th>\n",
       "      <th>2023</th>\n",
       "    </tr>\n",
       "  </thead>\n",
       "  <tbody>\n",
       "    <tr>\n",
       "      <th>0</th>\n",
       "      <td>1</td>\n",
       "      <td>VINHO DE MESA</td>\n",
       "      <td>VINHO DE MESA</td>\n",
       "      <td>217208604</td>\n",
       "      <td>154264651</td>\n",
       "      <td>146953297</td>\n",
       "      <td>116710345</td>\n",
       "      <td>193875345</td>\n",
       "      <td>177401209</td>\n",
       "      <td>144565438</td>\n",
       "      <td>...</td>\n",
       "      <td>196173123</td>\n",
       "      <td>210308560</td>\n",
       "      <td>86319015</td>\n",
       "      <td>255015187</td>\n",
       "      <td>218375636</td>\n",
       "      <td>144629737</td>\n",
       "      <td>124200414</td>\n",
       "      <td>173899995</td>\n",
       "      <td>195031611</td>\n",
       "      <td>169762429</td>\n",
       "    </tr>\n",
       "    <tr>\n",
       "      <th>1</th>\n",
       "      <td>2</td>\n",
       "      <td>vm_Tinto</td>\n",
       "      <td>Tinto</td>\n",
       "      <td>174224052</td>\n",
       "      <td>121133369</td>\n",
       "      <td>118180926</td>\n",
       "      <td>88589019</td>\n",
       "      <td>146544484</td>\n",
       "      <td>144274134</td>\n",
       "      <td>118360170</td>\n",
       "      <td>...</td>\n",
       "      <td>157776363</td>\n",
       "      <td>169811472</td>\n",
       "      <td>75279191</td>\n",
       "      <td>1365957</td>\n",
       "      <td>188270142</td>\n",
       "      <td>121045115</td>\n",
       "      <td>103916391</td>\n",
       "      <td>146075996</td>\n",
       "      <td>162844214</td>\n",
       "      <td>139320884</td>\n",
       "    </tr>\n",
       "    <tr>\n",
       "      <th>2</th>\n",
       "      <td>3</td>\n",
       "      <td>vm_Branco</td>\n",
       "      <td>Branco</td>\n",
       "      <td>748400</td>\n",
       "      <td>1160500</td>\n",
       "      <td>1812367</td>\n",
       "      <td>243900</td>\n",
       "      <td>4138768</td>\n",
       "      <td>1441507</td>\n",
       "      <td>1871473</td>\n",
       "      <td>...</td>\n",
       "      <td>37438069</td>\n",
       "      <td>39557250</td>\n",
       "      <td>10727099</td>\n",
       "      <td>217527985</td>\n",
       "      <td>29229970</td>\n",
       "      <td>22032828</td>\n",
       "      <td>19568734</td>\n",
       "      <td>26432799</td>\n",
       "      <td>30198430</td>\n",
       "      <td>27910299</td>\n",
       "    </tr>\n",
       "    <tr>\n",
       "      <th>3</th>\n",
       "      <td>4</td>\n",
       "      <td>vm_Rosado</td>\n",
       "      <td>Rosado</td>\n",
       "      <td>42236152</td>\n",
       "      <td>31970782</td>\n",
       "      <td>26960004</td>\n",
       "      <td>27877426</td>\n",
       "      <td>43192093</td>\n",
       "      <td>31685568</td>\n",
       "      <td>24333795</td>\n",
       "      <td>...</td>\n",
       "      <td>958691</td>\n",
       "      <td>939838</td>\n",
       "      <td>312725</td>\n",
       "      <td>36121245</td>\n",
       "      <td>875524</td>\n",
       "      <td>1551794</td>\n",
       "      <td>715289</td>\n",
       "      <td>1391200</td>\n",
       "      <td>1988968</td>\n",
       "      <td>2531246</td>\n",
       "    </tr>\n",
       "    <tr>\n",
       "      <th>4</th>\n",
       "      <td>5</td>\n",
       "      <td>VINHO FINO DE MESA (VINIFERA)</td>\n",
       "      <td>VINHO FINO DE MESA (VINIFERA)</td>\n",
       "      <td>23899346</td>\n",
       "      <td>23586062</td>\n",
       "      <td>21078771</td>\n",
       "      <td>12368410</td>\n",
       "      <td>31644124</td>\n",
       "      <td>39424590</td>\n",
       "      <td>34500590</td>\n",
       "      <td>...</td>\n",
       "      <td>38464314</td>\n",
       "      <td>37148982</td>\n",
       "      <td>18070626</td>\n",
       "      <td>44537870</td>\n",
       "      <td>38707220</td>\n",
       "      <td>37615422</td>\n",
       "      <td>32516686</td>\n",
       "      <td>43474998</td>\n",
       "      <td>47511796</td>\n",
       "      <td>46268556</td>\n",
       "    </tr>\n",
       "  </tbody>\n",
       "</table>\n",
       "<p>5 rows × 57 columns</p>\n",
       "</div>"
      ],
      "text/plain": [
       "   id                        control                        produto  \\\n",
       "0   1                  VINHO DE MESA                  VINHO DE MESA   \n",
       "1   2                       vm_Tinto                          Tinto   \n",
       "2   3                      vm_Branco                         Branco   \n",
       "3   4                      vm_Rosado                         Rosado   \n",
       "4   5  VINHO FINO DE MESA (VINIFERA)  VINHO FINO DE MESA (VINIFERA)   \n",
       "\n",
       "        1970       1971       1972       1973       1974       1975  \\\n",
       "0  217208604  154264651  146953297  116710345  193875345  177401209   \n",
       "1  174224052  121133369  118180926   88589019  146544484  144274134   \n",
       "2     748400    1160500    1812367     243900    4138768    1441507   \n",
       "3   42236152   31970782   26960004   27877426   43192093   31685568   \n",
       "4   23899346   23586062   21078771   12368410   31644124   39424590   \n",
       "\n",
       "        1976  ...       2014       2015      2016       2017       2018  \\\n",
       "0  144565438  ...  196173123  210308560  86319015  255015187  218375636   \n",
       "1  118360170  ...  157776363  169811472  75279191    1365957  188270142   \n",
       "2    1871473  ...   37438069   39557250  10727099  217527985   29229970   \n",
       "3   24333795  ...     958691     939838    312725   36121245     875524   \n",
       "4   34500590  ...   38464314   37148982  18070626   44537870   38707220   \n",
       "\n",
       "        2019       2020       2021       2022       2023  \n",
       "0  144629737  124200414  173899995  195031611  169762429  \n",
       "1  121045115  103916391  146075996  162844214  139320884  \n",
       "2   22032828   19568734   26432799   30198430   27910299  \n",
       "3    1551794     715289    1391200    1988968    2531246  \n",
       "4   37615422   32516686   43474998   47511796   46268556  \n",
       "\n",
       "[5 rows x 57 columns]"
      ]
     },
     "execution_count": 4,
     "metadata": {},
     "output_type": "execute_result"
    }
   ],
   "source": [
    "producao.head()"
   ]
  },
  {
   "cell_type": "code",
   "execution_count": null,
   "id": "642e6656",
   "metadata": {},
   "outputs": [
    {
     "name": "stdout",
     "output_type": "stream",
     "text": [
      "Linhas da tabela Produção: 51\n",
      "Colunas da tabela Produção: 57\n",
      "Linhas da tabela Comercio: 62\n",
      "Colunas da tabela Comercio: 57\n",
      "Colunas da tabela Produção: 42\n"
     ]
    }
   ],
   "source": [
    "# Visualizar o tamanho do dataframe Producao\n",
    "print(f\"Linhas da tabela Produção: {producao.shape[0]}\")\n",
    "print(f\"Colunas da tabela Produção: {producao.shape[1]}\")\n",
    "\n",
    "colum_ness = producao.shape[1] - 15 # Verificar o número de colunas\n",
    "print(f\"Colunas da tabela Produção: {colum_ness}\")"
   ]
  },
  {
   "cell_type": "code",
   "execution_count": 6,
   "id": "53188df6",
   "metadata": {},
   "outputs": [],
   "source": [
    "# Manter primeiras 3 colunas e as últimas 15 colunas\n",
    "producao_tratada = pd.concat([producao.iloc[:, :3], producao.iloc[:, -15:]], axis=1)\n",
    "producao_tratada.head(10)\n",
    "\n",
    "# Adiciona a coluna 'categoria' com valores vazios inicialmente\n",
    "producao_tratada['categoria'] = None\n",
    "\n",
    "# Preenche os valores com base na coluna 'control'\n",
    "producao_tratada.loc[producao_tratada['control'].str.startswith('vm_'), 'categoria'] = 'VINHO DE MESA'\n",
    "producao_tratada.loc[producao_tratada['control'].str.startswith('vv_'), 'categoria'] = 'VINHO FINO DE MESA'\n",
    "producao_tratada.loc[producao_tratada['control'].str.startswith('su_'), 'categoria'] = 'SUCO'\n",
    "producao_tratada.loc[producao_tratada['control'].str.startswith('de'), 'categoria'] = 'DERIVADOS'\n",
    "\n",
    "producao_final = producao_tratada.dropna(axis='columns')\n"
   ]
  },
  {
   "cell_type": "code",
   "execution_count": 7,
   "id": "a4e0802f",
   "metadata": {},
   "outputs": [],
   "source": [
    "# Retira os dados somados e cria uma categoria para os dados de produção\n",
    "colunas_para_manter = ['categoria'] + producao_tratada.dropna(axis='columns').columns.tolist()\n",
    "producao_tratada = producao_tratada[colunas_para_manter]\n",
    "producao_tratada = producao_tratada.dropna(subset=['categoria'])"
   ]
  },
  {
   "cell_type": "code",
   "execution_count": 8,
   "id": "723d2135",
   "metadata": {},
   "outputs": [
    {
     "data": {
      "application/vnd.microsoft.datawrangler.viewer.v0+json": {
       "columns": [
        {
         "name": "index",
         "rawType": "int64",
         "type": "integer"
        },
        {
         "name": "categoria",
         "rawType": "object",
         "type": "string"
        },
        {
         "name": "id",
         "rawType": "int64",
         "type": "integer"
        },
        {
         "name": "control",
         "rawType": "object",
         "type": "string"
        },
        {
         "name": "produto",
         "rawType": "object",
         "type": "string"
        },
        {
         "name": "2009",
         "rawType": "int64",
         "type": "integer"
        },
        {
         "name": "2010",
         "rawType": "int64",
         "type": "integer"
        },
        {
         "name": "2011",
         "rawType": "int64",
         "type": "integer"
        },
        {
         "name": "2012",
         "rawType": "int64",
         "type": "integer"
        },
        {
         "name": "2013",
         "rawType": "int64",
         "type": "integer"
        },
        {
         "name": "2014",
         "rawType": "int64",
         "type": "integer"
        },
        {
         "name": "2015",
         "rawType": "int64",
         "type": "integer"
        },
        {
         "name": "2016",
         "rawType": "int64",
         "type": "integer"
        },
        {
         "name": "2017",
         "rawType": "int64",
         "type": "integer"
        },
        {
         "name": "2018",
         "rawType": "int64",
         "type": "integer"
        },
        {
         "name": "2019",
         "rawType": "int64",
         "type": "integer"
        },
        {
         "name": "2020",
         "rawType": "int64",
         "type": "integer"
        },
        {
         "name": "2021",
         "rawType": "int64",
         "type": "integer"
        },
        {
         "name": "2022",
         "rawType": "int64",
         "type": "integer"
        },
        {
         "name": "2023",
         "rawType": "int64",
         "type": "integer"
        }
       ],
       "ref": "ff7208d2-798a-4725-9a75-4eddcccbe1e7",
       "rows": [
        [
         "1",
         "VINHO DE MESA",
         "2",
         "vm_Tinto",
         "Tinto",
         "164143454",
         "157290088",
         "210113358",
         "175875432",
         "163111797",
         "157776363",
         "169811472",
         "75279191",
         "1365957",
         "188270142",
         "121045115",
         "103916391",
         "146075996",
         "162844214",
         "139320884"
        ],
        [
         "2",
         "VINHO DE MESA",
         "3",
         "vm_Branco",
         "Branco",
         "39211278",
         "35408083",
         "46007504",
         "34938249",
         "32066403",
         "37438069",
         "39557250",
         "10727099",
         "217527985",
         "29229970",
         "22032828",
         "19568734",
         "26432799",
         "30198430",
         "27910299"
        ],
        [
         "3",
         "VINHO DE MESA",
         "4",
         "vm_Rosado",
         "Rosado",
         "2063474",
         "2569809",
         "1719887",
         "1963356",
         "1726022",
         "958691",
         "939838",
         "312725",
         "36121245",
         "875524",
         "1551794",
         "715289",
         "1391200",
         "1988968",
         "2531246"
        ],
        [
         "5",
         "VINHO FINO DE MESA",
         "6",
         "vv_Tinto",
         "Tinto",
         "18209043",
         "11401406",
         "24104740",
         "24027589",
         "23156458",
         "17208996",
         "16745896",
         "8774847",
         "21442212",
         "19118254",
         "17389377",
         "15451883",
         "20433249",
         "24417918",
         "23615783"
        ],
        [
         "6",
         "VINHO FINO DE MESA",
         "7",
         "vv_Branco",
         "Branco",
         "21366975",
         "13013027",
         "22739426",
         "20647238",
         "21906349",
         "20054804",
         "19561966",
         "8705066",
         "21928400",
         "18297257",
         "18193055",
         "15487915",
         "20867999",
         "20896613",
         "20693437"
        ]
       ],
       "shape": {
        "columns": 19,
        "rows": 5
       }
      },
      "text/html": [
       "<div>\n",
       "<style scoped>\n",
       "    .dataframe tbody tr th:only-of-type {\n",
       "        vertical-align: middle;\n",
       "    }\n",
       "\n",
       "    .dataframe tbody tr th {\n",
       "        vertical-align: top;\n",
       "    }\n",
       "\n",
       "    .dataframe thead th {\n",
       "        text-align: right;\n",
       "    }\n",
       "</style>\n",
       "<table border=\"1\" class=\"dataframe\">\n",
       "  <thead>\n",
       "    <tr style=\"text-align: right;\">\n",
       "      <th></th>\n",
       "      <th>categoria</th>\n",
       "      <th>id</th>\n",
       "      <th>control</th>\n",
       "      <th>produto</th>\n",
       "      <th>2009</th>\n",
       "      <th>2010</th>\n",
       "      <th>2011</th>\n",
       "      <th>2012</th>\n",
       "      <th>2013</th>\n",
       "      <th>2014</th>\n",
       "      <th>2015</th>\n",
       "      <th>2016</th>\n",
       "      <th>2017</th>\n",
       "      <th>2018</th>\n",
       "      <th>2019</th>\n",
       "      <th>2020</th>\n",
       "      <th>2021</th>\n",
       "      <th>2022</th>\n",
       "      <th>2023</th>\n",
       "    </tr>\n",
       "  </thead>\n",
       "  <tbody>\n",
       "    <tr>\n",
       "      <th>1</th>\n",
       "      <td>VINHO DE MESA</td>\n",
       "      <td>2</td>\n",
       "      <td>vm_Tinto</td>\n",
       "      <td>Tinto</td>\n",
       "      <td>164143454</td>\n",
       "      <td>157290088</td>\n",
       "      <td>210113358</td>\n",
       "      <td>175875432</td>\n",
       "      <td>163111797</td>\n",
       "      <td>157776363</td>\n",
       "      <td>169811472</td>\n",
       "      <td>75279191</td>\n",
       "      <td>1365957</td>\n",
       "      <td>188270142</td>\n",
       "      <td>121045115</td>\n",
       "      <td>103916391</td>\n",
       "      <td>146075996</td>\n",
       "      <td>162844214</td>\n",
       "      <td>139320884</td>\n",
       "    </tr>\n",
       "    <tr>\n",
       "      <th>2</th>\n",
       "      <td>VINHO DE MESA</td>\n",
       "      <td>3</td>\n",
       "      <td>vm_Branco</td>\n",
       "      <td>Branco</td>\n",
       "      <td>39211278</td>\n",
       "      <td>35408083</td>\n",
       "      <td>46007504</td>\n",
       "      <td>34938249</td>\n",
       "      <td>32066403</td>\n",
       "      <td>37438069</td>\n",
       "      <td>39557250</td>\n",
       "      <td>10727099</td>\n",
       "      <td>217527985</td>\n",
       "      <td>29229970</td>\n",
       "      <td>22032828</td>\n",
       "      <td>19568734</td>\n",
       "      <td>26432799</td>\n",
       "      <td>30198430</td>\n",
       "      <td>27910299</td>\n",
       "    </tr>\n",
       "    <tr>\n",
       "      <th>3</th>\n",
       "      <td>VINHO DE MESA</td>\n",
       "      <td>4</td>\n",
       "      <td>vm_Rosado</td>\n",
       "      <td>Rosado</td>\n",
       "      <td>2063474</td>\n",
       "      <td>2569809</td>\n",
       "      <td>1719887</td>\n",
       "      <td>1963356</td>\n",
       "      <td>1726022</td>\n",
       "      <td>958691</td>\n",
       "      <td>939838</td>\n",
       "      <td>312725</td>\n",
       "      <td>36121245</td>\n",
       "      <td>875524</td>\n",
       "      <td>1551794</td>\n",
       "      <td>715289</td>\n",
       "      <td>1391200</td>\n",
       "      <td>1988968</td>\n",
       "      <td>2531246</td>\n",
       "    </tr>\n",
       "    <tr>\n",
       "      <th>5</th>\n",
       "      <td>VINHO FINO DE MESA</td>\n",
       "      <td>6</td>\n",
       "      <td>vv_Tinto</td>\n",
       "      <td>Tinto</td>\n",
       "      <td>18209043</td>\n",
       "      <td>11401406</td>\n",
       "      <td>24104740</td>\n",
       "      <td>24027589</td>\n",
       "      <td>23156458</td>\n",
       "      <td>17208996</td>\n",
       "      <td>16745896</td>\n",
       "      <td>8774847</td>\n",
       "      <td>21442212</td>\n",
       "      <td>19118254</td>\n",
       "      <td>17389377</td>\n",
       "      <td>15451883</td>\n",
       "      <td>20433249</td>\n",
       "      <td>24417918</td>\n",
       "      <td>23615783</td>\n",
       "    </tr>\n",
       "    <tr>\n",
       "      <th>6</th>\n",
       "      <td>VINHO FINO DE MESA</td>\n",
       "      <td>7</td>\n",
       "      <td>vv_Branco</td>\n",
       "      <td>Branco</td>\n",
       "      <td>21366975</td>\n",
       "      <td>13013027</td>\n",
       "      <td>22739426</td>\n",
       "      <td>20647238</td>\n",
       "      <td>21906349</td>\n",
       "      <td>20054804</td>\n",
       "      <td>19561966</td>\n",
       "      <td>8705066</td>\n",
       "      <td>21928400</td>\n",
       "      <td>18297257</td>\n",
       "      <td>18193055</td>\n",
       "      <td>15487915</td>\n",
       "      <td>20867999</td>\n",
       "      <td>20896613</td>\n",
       "      <td>20693437</td>\n",
       "    </tr>\n",
       "  </tbody>\n",
       "</table>\n",
       "</div>"
      ],
      "text/plain": [
       "            categoria  id    control produto       2009       2010       2011  \\\n",
       "1       VINHO DE MESA   2   vm_Tinto   Tinto  164143454  157290088  210113358   \n",
       "2       VINHO DE MESA   3  vm_Branco  Branco   39211278   35408083   46007504   \n",
       "3       VINHO DE MESA   4  vm_Rosado  Rosado    2063474    2569809    1719887   \n",
       "5  VINHO FINO DE MESA   6   vv_Tinto   Tinto   18209043   11401406   24104740   \n",
       "6  VINHO FINO DE MESA   7  vv_Branco  Branco   21366975   13013027   22739426   \n",
       "\n",
       "        2012       2013       2014       2015      2016       2017       2018  \\\n",
       "1  175875432  163111797  157776363  169811472  75279191    1365957  188270142   \n",
       "2   34938249   32066403   37438069   39557250  10727099  217527985   29229970   \n",
       "3    1963356    1726022     958691     939838    312725   36121245     875524   \n",
       "5   24027589   23156458   17208996   16745896   8774847   21442212   19118254   \n",
       "6   20647238   21906349   20054804   19561966   8705066   21928400   18297257   \n",
       "\n",
       "        2019       2020       2021       2022       2023  \n",
       "1  121045115  103916391  146075996  162844214  139320884  \n",
       "2   22032828   19568734   26432799   30198430   27910299  \n",
       "3    1551794     715289    1391200    1988968    2531246  \n",
       "5   17389377   15451883   20433249   24417918   23615783  \n",
       "6   18193055   15487915   20867999   20896613   20693437  "
      ]
     },
     "execution_count": 8,
     "metadata": {},
     "output_type": "execute_result"
    }
   ],
   "source": [
    "producao_tratada.head()"
   ]
  },
  {
   "cell_type": "code",
   "execution_count": 9,
   "id": "00021679",
   "metadata": {},
   "outputs": [],
   "source": [
    "producao_final = pd.melt(producao_tratada, id_vars=['categoria', 'produto','id'], value_vars= producao_tratada.iloc[:,-15:], var_name=\"Ano\", value_name=\"Total_Produzido\")\n"
   ]
  },
  {
   "cell_type": "code",
   "execution_count": 10,
   "id": "2e4b5562",
   "metadata": {},
   "outputs": [
    {
     "data": {
      "application/vnd.microsoft.datawrangler.viewer.v0+json": {
       "columns": [
        {
         "name": "index",
         "rawType": "int64",
         "type": "integer"
        },
        {
         "name": "categoria",
         "rawType": "object",
         "type": "string"
        },
        {
         "name": "produto",
         "rawType": "object",
         "type": "string"
        },
        {
         "name": "id",
         "rawType": "int64",
         "type": "integer"
        },
        {
         "name": "Ano",
         "rawType": "object",
         "type": "string"
        },
        {
         "name": "Total_Produzido",
         "rawType": "int64",
         "type": "integer"
        }
       ],
       "ref": "9182b251-8d0a-41c7-b6b3-fb0c1e271435",
       "rows": [
        [
         "0",
         "VINHO DE MESA",
         "Tinto",
         "2",
         "2009",
         "164143454"
        ],
        [
         "1",
         "VINHO DE MESA",
         "Branco",
         "3",
         "2009",
         "39211278"
        ],
        [
         "2",
         "VINHO DE MESA",
         "Rosado",
         "4",
         "2009",
         "2063474"
        ],
        [
         "3",
         "VINHO FINO DE MESA",
         "Tinto",
         "6",
         "2009",
         "18209043"
        ],
        [
         "4",
         "VINHO FINO DE MESA",
         "Branco",
         "7",
         "2009",
         "21366975"
        ],
        [
         "5",
         "VINHO FINO DE MESA",
         "Rosado",
         "8",
         "2009",
         "324550"
        ],
        [
         "6",
         "SUCO",
         "Suco de uva integral",
         "10",
         "2009",
         "16034003"
        ],
        [
         "7",
         "SUCO",
         "Suco de uva concentrado",
         "11",
         "2009",
         "23006457"
        ],
        [
         "8",
         "SUCO",
         "Suco de uva adoçado",
         "12",
         "2009",
         "674638"
        ],
        [
         "9",
         "SUCO",
         "Suco de uva orgânico",
         "13",
         "2009",
         "0"
        ],
        [
         "10",
         "SUCO",
         "Suco de uva reconstituído",
         "14",
         "2009",
         "0"
        ],
        [
         "11",
         "DERIVADOS",
         "Espumante",
         "16",
         "2009",
         "0"
        ],
        [
         "12",
         "DERIVADOS",
         "Espumante moscatel",
         "17",
         "2009",
         "1190500"
        ],
        [
         "13",
         "DERIVADOS",
         "Base espumante",
         "18",
         "2009",
         "335850"
        ],
        [
         "14",
         "DERIVADOS",
         "Base espumante moscatel",
         "19",
         "2009",
         "442150"
        ],
        [
         "15",
         "DERIVADOS",
         "Base Champenoise champanha",
         "20",
         "2009",
         "0"
        ],
        [
         "16",
         "DERIVADOS",
         "Base Charmat champanha",
         "21",
         "2009",
         "0"
        ],
        [
         "17",
         "DERIVADOS",
         "Bebida de uva",
         "22",
         "2009",
         "420"
        ],
        [
         "18",
         "DERIVADOS",
         "Polpa de uva",
         "23",
         "2009",
         "1352417"
        ],
        [
         "19",
         "DERIVADOS",
         "Mosto simples",
         "24",
         "2009",
         "53418555"
        ]
       ],
       "shape": {
        "columns": 5,
        "rows": 20
       }
      },
      "text/html": [
       "<div>\n",
       "<style scoped>\n",
       "    .dataframe tbody tr th:only-of-type {\n",
       "        vertical-align: middle;\n",
       "    }\n",
       "\n",
       "    .dataframe tbody tr th {\n",
       "        vertical-align: top;\n",
       "    }\n",
       "\n",
       "    .dataframe thead th {\n",
       "        text-align: right;\n",
       "    }\n",
       "</style>\n",
       "<table border=\"1\" class=\"dataframe\">\n",
       "  <thead>\n",
       "    <tr style=\"text-align: right;\">\n",
       "      <th></th>\n",
       "      <th>categoria</th>\n",
       "      <th>produto</th>\n",
       "      <th>id</th>\n",
       "      <th>Ano</th>\n",
       "      <th>Total_Produzido</th>\n",
       "    </tr>\n",
       "  </thead>\n",
       "  <tbody>\n",
       "    <tr>\n",
       "      <th>0</th>\n",
       "      <td>VINHO DE MESA</td>\n",
       "      <td>Tinto</td>\n",
       "      <td>2</td>\n",
       "      <td>2009</td>\n",
       "      <td>164143454</td>\n",
       "    </tr>\n",
       "    <tr>\n",
       "      <th>1</th>\n",
       "      <td>VINHO DE MESA</td>\n",
       "      <td>Branco</td>\n",
       "      <td>3</td>\n",
       "      <td>2009</td>\n",
       "      <td>39211278</td>\n",
       "    </tr>\n",
       "    <tr>\n",
       "      <th>2</th>\n",
       "      <td>VINHO DE MESA</td>\n",
       "      <td>Rosado</td>\n",
       "      <td>4</td>\n",
       "      <td>2009</td>\n",
       "      <td>2063474</td>\n",
       "    </tr>\n",
       "    <tr>\n",
       "      <th>3</th>\n",
       "      <td>VINHO FINO DE MESA</td>\n",
       "      <td>Tinto</td>\n",
       "      <td>6</td>\n",
       "      <td>2009</td>\n",
       "      <td>18209043</td>\n",
       "    </tr>\n",
       "    <tr>\n",
       "      <th>4</th>\n",
       "      <td>VINHO FINO DE MESA</td>\n",
       "      <td>Branco</td>\n",
       "      <td>7</td>\n",
       "      <td>2009</td>\n",
       "      <td>21366975</td>\n",
       "    </tr>\n",
       "    <tr>\n",
       "      <th>5</th>\n",
       "      <td>VINHO FINO DE MESA</td>\n",
       "      <td>Rosado</td>\n",
       "      <td>8</td>\n",
       "      <td>2009</td>\n",
       "      <td>324550</td>\n",
       "    </tr>\n",
       "    <tr>\n",
       "      <th>6</th>\n",
       "      <td>SUCO</td>\n",
       "      <td>Suco de uva integral</td>\n",
       "      <td>10</td>\n",
       "      <td>2009</td>\n",
       "      <td>16034003</td>\n",
       "    </tr>\n",
       "    <tr>\n",
       "      <th>7</th>\n",
       "      <td>SUCO</td>\n",
       "      <td>Suco de uva concentrado</td>\n",
       "      <td>11</td>\n",
       "      <td>2009</td>\n",
       "      <td>23006457</td>\n",
       "    </tr>\n",
       "    <tr>\n",
       "      <th>8</th>\n",
       "      <td>SUCO</td>\n",
       "      <td>Suco de uva adoçado</td>\n",
       "      <td>12</td>\n",
       "      <td>2009</td>\n",
       "      <td>674638</td>\n",
       "    </tr>\n",
       "    <tr>\n",
       "      <th>9</th>\n",
       "      <td>SUCO</td>\n",
       "      <td>Suco de uva orgânico</td>\n",
       "      <td>13</td>\n",
       "      <td>2009</td>\n",
       "      <td>0</td>\n",
       "    </tr>\n",
       "    <tr>\n",
       "      <th>10</th>\n",
       "      <td>SUCO</td>\n",
       "      <td>Suco de uva reconstituído</td>\n",
       "      <td>14</td>\n",
       "      <td>2009</td>\n",
       "      <td>0</td>\n",
       "    </tr>\n",
       "    <tr>\n",
       "      <th>11</th>\n",
       "      <td>DERIVADOS</td>\n",
       "      <td>Espumante</td>\n",
       "      <td>16</td>\n",
       "      <td>2009</td>\n",
       "      <td>0</td>\n",
       "    </tr>\n",
       "    <tr>\n",
       "      <th>12</th>\n",
       "      <td>DERIVADOS</td>\n",
       "      <td>Espumante moscatel</td>\n",
       "      <td>17</td>\n",
       "      <td>2009</td>\n",
       "      <td>1190500</td>\n",
       "    </tr>\n",
       "    <tr>\n",
       "      <th>13</th>\n",
       "      <td>DERIVADOS</td>\n",
       "      <td>Base espumante</td>\n",
       "      <td>18</td>\n",
       "      <td>2009</td>\n",
       "      <td>335850</td>\n",
       "    </tr>\n",
       "    <tr>\n",
       "      <th>14</th>\n",
       "      <td>DERIVADOS</td>\n",
       "      <td>Base espumante moscatel</td>\n",
       "      <td>19</td>\n",
       "      <td>2009</td>\n",
       "      <td>442150</td>\n",
       "    </tr>\n",
       "    <tr>\n",
       "      <th>15</th>\n",
       "      <td>DERIVADOS</td>\n",
       "      <td>Base Champenoise champanha</td>\n",
       "      <td>20</td>\n",
       "      <td>2009</td>\n",
       "      <td>0</td>\n",
       "    </tr>\n",
       "    <tr>\n",
       "      <th>16</th>\n",
       "      <td>DERIVADOS</td>\n",
       "      <td>Base Charmat champanha</td>\n",
       "      <td>21</td>\n",
       "      <td>2009</td>\n",
       "      <td>0</td>\n",
       "    </tr>\n",
       "    <tr>\n",
       "      <th>17</th>\n",
       "      <td>DERIVADOS</td>\n",
       "      <td>Bebida de uva</td>\n",
       "      <td>22</td>\n",
       "      <td>2009</td>\n",
       "      <td>420</td>\n",
       "    </tr>\n",
       "    <tr>\n",
       "      <th>18</th>\n",
       "      <td>DERIVADOS</td>\n",
       "      <td>Polpa de uva</td>\n",
       "      <td>23</td>\n",
       "      <td>2009</td>\n",
       "      <td>1352417</td>\n",
       "    </tr>\n",
       "    <tr>\n",
       "      <th>19</th>\n",
       "      <td>DERIVADOS</td>\n",
       "      <td>Mosto simples</td>\n",
       "      <td>24</td>\n",
       "      <td>2009</td>\n",
       "      <td>53418555</td>\n",
       "    </tr>\n",
       "  </tbody>\n",
       "</table>\n",
       "</div>"
      ],
      "text/plain": [
       "             categoria                     produto  id   Ano  Total_Produzido\n",
       "0        VINHO DE MESA                       Tinto   2  2009        164143454\n",
       "1        VINHO DE MESA                      Branco   3  2009         39211278\n",
       "2        VINHO DE MESA                      Rosado   4  2009          2063474\n",
       "3   VINHO FINO DE MESA                       Tinto   6  2009         18209043\n",
       "4   VINHO FINO DE MESA                      Branco   7  2009         21366975\n",
       "5   VINHO FINO DE MESA                      Rosado   8  2009           324550\n",
       "6                 SUCO        Suco de uva integral  10  2009         16034003\n",
       "7                 SUCO     Suco de uva concentrado  11  2009         23006457\n",
       "8                 SUCO         Suco de uva adoçado  12  2009           674638\n",
       "9                 SUCO        Suco de uva orgânico  13  2009                0\n",
       "10                SUCO   Suco de uva reconstituído  14  2009                0\n",
       "11           DERIVADOS                   Espumante  16  2009                0\n",
       "12           DERIVADOS          Espumante moscatel  17  2009          1190500\n",
       "13           DERIVADOS              Base espumante  18  2009           335850\n",
       "14           DERIVADOS     Base espumante moscatel  19  2009           442150\n",
       "15           DERIVADOS  Base Champenoise champanha  20  2009                0\n",
       "16           DERIVADOS      Base Charmat champanha  21  2009                0\n",
       "17           DERIVADOS               Bebida de uva  22  2009              420\n",
       "18           DERIVADOS                Polpa de uva  23  2009          1352417\n",
       "19           DERIVADOS               Mosto simples  24  2009         53418555"
      ]
     },
     "execution_count": 10,
     "metadata": {},
     "output_type": "execute_result"
    }
   ],
   "source": [
    "producao_final.head(20)\n"
   ]
  },
  {
   "cell_type": "code",
   "execution_count": 12,
   "id": "4a286da1",
   "metadata": {},
   "outputs": [
    {
     "name": "stdout",
     "output_type": "stream",
     "text": [
      "Linhas da tabela Produção apos o tratamento: 705\n",
      "Colunas da tabela Produção apos o tratamento: 5\n",
      "O primeiro ano registrado na tabela é : 2009\n",
      "O último ano registrado na tabela é : 2023\n"
     ]
    }
   ],
   "source": [
    "# Visualizar o tamanho do dataframe Producao\n",
    "print(f\"Linhas da tabela Produção apos o tratamento: {producao_final.shape[0]}\")\n",
    "print(f\"Colunas da tabela Produção apos o tratamento: {producao_final.shape[1]}\")\n",
    "# Visualizar o ano inicial e o ano final da base \n",
    "print(f\"O primeiro ano registrado na tabela é : {producao_final['Ano'].min()}\")\n",
    "print(f\"O último ano registrado na tabela é : {producao_final['Ano'].max()}\")"
   ]
  },
  {
   "cell_type": "code",
   "execution_count": 17,
   "id": "8d9def04",
   "metadata": {},
   "outputs": [
    {
     "data": {
      "image/png": "[encoded data removed]",
      "text/plain": [
       "<Figure size 1000x500 with 1 Axes>"
      ]
     },
     "metadata": {},
     "output_type": "display_data"
    }
   ],
   "source": [
    "\n",
    "# Preparar dados\n",
    "vinho_fino = dados_grafico[dados_grafico['categoria'] == 'VINHO FINO DE MESA']\n",
    "vinho_mesa = dados_grafico[dados_grafico['categoria'] == 'VINHO DE MESA']\n",
    "\n",
    "anos_fino = vinho_fino['Ano']\n",
    "anos_mesa = vinho_mesa['Ano']\n",
    "\n",
    "# converter para milhões\n",
    "valores_fino = vinho_fino['Total_Produzido'] / 1_000_000\n",
    "valores_mesa = vinho_mesa['Total_Produzido'] / 1_000_000\n",
    "\n",
    "# Criar o gráfico\n",
    "fig, ax1 = plt.subplots(figsize=(10, 5))\n",
    "ax1.plot(anos_fino, valores_fino, marker='o', color='black', label='Vinho Fino')\n",
    "ax1.plot(anos_mesa, valores_mesa, marker='o', color='red', label='Vinho de Mesa')\n",
    "\n",
    "# Adicionar rótulos nos pontos\n",
    "for i in range(len(anos_fino)):\n",
    "    ax1.text(anos_fino.iloc[i], valores_fino.iloc[i] + 2, f'{valores_fino.iloc[i]:.0f}M', color='black', ha='center')\n",
    "for i in range(len(anos_mesa)):\n",
    "    ax1.text(anos_mesa.iloc[i], valores_mesa.iloc[i] + 2, f'{valores_mesa.iloc[i]:.0f}M', color='red', ha='center')\n",
    "\n",
    "# Títulos e eixos\n",
    "ax1.set_title(\"Evolução da Produção de Vinhos Brasileiros (2009–2023)\")\n",
    "ax1.set_xlabel(\"Ano\")\n",
    "ax1.set_ylabel(\"Volume Produzido (Milhões de Litros)\")\n",
    "ax1.legend()\n",
    "ax1.grid(True)\n",
    "plt.tight_layout()\n",
    "plt.show()\n"
   ]
  },
  {
   "cell_type": "code",
   "execution_count": 31,
   "id": "ad03337d",
   "metadata": {},
   "outputs": [
    {
     "data": {
      "application/vnd.microsoft.datawrangler.viewer.v0+json": {
       "columns": [
        {
         "name": "index",
         "rawType": "int64",
         "type": "integer"
        },
        {
         "name": "categoria",
         "rawType": "object",
         "type": "string"
        },
        {
         "name": "produto",
         "rawType": "object",
         "type": "string"
        },
        {
         "name": "id",
         "rawType": "int64",
         "type": "integer"
        },
        {
         "name": "Ano",
         "rawType": "int64",
         "type": "integer"
        },
        {
         "name": "Total_Produzido",
         "rawType": "int64",
         "type": "integer"
        }
       ],
       "ref": "a925ac5d-9e63-4a0f-8fd3-1625b61a25c4",
       "rows": [
        [
         "0",
         "VINHO DE MESA",
         "Tinto",
         "2",
         "2009",
         "164143454"
        ],
        [
         "1",
         "VINHO DE MESA",
         "Branco",
         "3",
         "2009",
         "39211278"
        ],
        [
         "2",
         "VINHO DE MESA",
         "Rosado",
         "4",
         "2009",
         "2063474"
        ],
        [
         "3",
         "VINHO FINO DE MESA",
         "Tinto",
         "6",
         "2009",
         "18209043"
        ],
        [
         "4",
         "VINHO FINO DE MESA",
         "Branco",
         "7",
         "2009",
         "21366975"
        ]
       ],
       "shape": {
        "columns": 5,
        "rows": 5
       }
      },
      "text/html": [
       "<div>\n",
       "<style scoped>\n",
       "    .dataframe tbody tr th:only-of-type {\n",
       "        vertical-align: middle;\n",
       "    }\n",
       "\n",
       "    .dataframe tbody tr th {\n",
       "        vertical-align: top;\n",
       "    }\n",
       "\n",
       "    .dataframe thead th {\n",
       "        text-align: right;\n",
       "    }\n",
       "</style>\n",
       "<table border=\"1\" class=\"dataframe\">\n",
       "  <thead>\n",
       "    <tr style=\"text-align: right;\">\n",
       "      <th></th>\n",
       "      <th>categoria</th>\n",
       "      <th>produto</th>\n",
       "      <th>id</th>\n",
       "      <th>Ano</th>\n",
       "      <th>Total_Produzido</th>\n",
       "    </tr>\n",
       "  </thead>\n",
       "  <tbody>\n",
       "    <tr>\n",
       "      <th>0</th>\n",
       "      <td>VINHO DE MESA</td>\n",
       "      <td>Tinto</td>\n",
       "      <td>2</td>\n",
       "      <td>2009</td>\n",
       "      <td>164143454</td>\n",
       "    </tr>\n",
       "    <tr>\n",
       "      <th>1</th>\n",
       "      <td>VINHO DE MESA</td>\n",
       "      <td>Branco</td>\n",
       "      <td>3</td>\n",
       "      <td>2009</td>\n",
       "      <td>39211278</td>\n",
       "    </tr>\n",
       "    <tr>\n",
       "      <th>2</th>\n",
       "      <td>VINHO DE MESA</td>\n",
       "      <td>Rosado</td>\n",
       "      <td>4</td>\n",
       "      <td>2009</td>\n",
       "      <td>2063474</td>\n",
       "    </tr>\n",
       "    <tr>\n",
       "      <th>3</th>\n",
       "      <td>VINHO FINO DE MESA</td>\n",
       "      <td>Tinto</td>\n",
       "      <td>6</td>\n",
       "      <td>2009</td>\n",
       "      <td>18209043</td>\n",
       "    </tr>\n",
       "    <tr>\n",
       "      <th>4</th>\n",
       "      <td>VINHO FINO DE MESA</td>\n",
       "      <td>Branco</td>\n",
       "      <td>7</td>\n",
       "      <td>2009</td>\n",
       "      <td>21366975</td>\n",
       "    </tr>\n",
       "  </tbody>\n",
       "</table>\n",
       "</div>"
      ],
      "text/plain": [
       "            categoria produto  id   Ano  Total_Produzido\n",
       "0       VINHO DE MESA   Tinto   2  2009        164143454\n",
       "1       VINHO DE MESA  Branco   3  2009         39211278\n",
       "2       VINHO DE MESA  Rosado   4  2009          2063474\n",
       "3  VINHO FINO DE MESA   Tinto   6  2009         18209043\n",
       "4  VINHO FINO DE MESA  Branco   7  2009         21366975"
      ]
     },
     "execution_count": 31,
     "metadata": {},
     "output_type": "execute_result"
    }
   ],
   "source": [
    "producao_final.head(5)"
   ]
  },
  {
   "cell_type": "code",
   "execution_count": 43,
   "id": "135b570c",
   "metadata": {},
   "outputs": [],
   "source": [
    "\n",
    "# Agrupar por categoria e ano (somar os tipos)\n",
    "producao_final['Ano'] = producao_final['Ano'].astype(int)\n",
    "df_grouped = producao_final.groupby(['categoria', 'Ano'])['Total_Produzido'].sum().reset_index()\n",
    "df_grouped = df_grouped[df_grouped['categoria'].isin(['VINHO DE MESA', 'VINHO FINO DE MESA'])]\n",
    "# Criar resumo por categoria\n",
    "resumo = []\n",
    "\n",
    "for categoria in df_grouped['categoria'].unique():\n",
    "    df_cat = df_grouped[df_grouped['categoria'] == categoria]\n",
    "    total_15anos = df_cat['Total_Produzido'].sum()\n",
    "    media_ate_2016 = df_cat[df_cat['Ano'] <= 2016]['Total_Produzido'].mean()\n",
    "    media_pos_16_19 = df_cat[df_cat['Ano'].between(2016, 2019)]['Total_Produzido'].mean()\n",
    "    media_pos_19 = df_cat[df_cat['Ano'] > 2019]['Total_Produzido'].mean()\n",
    "    yoy = (df_cat[df_cat['Ano'] == 2023]['Total_Produzido'].sum() / df_cat[df_cat['Ano'] == 2022]['Total_Produzido'].sum()) -1 \n",
    "\n",
    "    resumo.append({\n",
    "        'Categoria': categoria,\n",
    "        'Total (2009–2023)': total_15anos,\n",
    "        'Média até 2016': media_ate_2016,\n",
    "        'Média após 2016': media_pos_16_19,\n",
    "        'Média após 2019': media_pos_19,\n",
    "        'Crescimento Anual (2023-2024)': yoy\n",
    "    })\n",
    "\n",
    "df_resumo_final = pd.DataFrame(resumo)\n"
   ]
  },
  {
   "cell_type": "code",
   "execution_count": 44,
   "id": "d9e12f23",
   "metadata": {},
   "outputs": [
    {
     "data": {
      "application/vnd.microsoft.datawrangler.viewer.v0+json": {
       "columns": [
        {
         "name": "index",
         "rawType": "int64",
         "type": "integer"
        },
        {
         "name": "Categoria",
         "rawType": "object",
         "type": "string"
        },
        {
         "name": "Total (2009–2023)",
         "rawType": "int64",
         "type": "integer"
        },
        {
         "name": "Média até 2016",
         "rawType": "float64",
         "type": "float"
        },
        {
         "name": "Média após 2016",
         "rawType": "float64",
         "type": "float"
        },
        {
         "name": "Média após 2019",
         "rawType": "float64",
         "type": "float"
        },
        {
         "name": "Crescimento Anual (2023-2024)",
         "rawType": "float64",
         "type": "float"
        }
       ],
       "ref": "e785e26f-cbf6-4f00-b5bb-851dedd4924c",
       "rows": [
        [
         "0",
         "VINHO DE MESA",
         "2841923902",
         "195126111.5",
         "176084893.75",
         "165723612.5",
         "-0.12956454977155185"
        ],
        [
         "1",
         "VINHO FINO DE MESA",
         "587604482",
         "37121491.75",
         "34732784.5",
         "42443009.0",
         "-0.026166975460157338"
        ]
       ],
       "shape": {
        "columns": 6,
        "rows": 2
       }
      },
      "text/html": [
       "<div>\n",
       "<style scoped>\n",
       "    .dataframe tbody tr th:only-of-type {\n",
       "        vertical-align: middle;\n",
       "    }\n",
       "\n",
       "    .dataframe tbody tr th {\n",
       "        vertical-align: top;\n",
       "    }\n",
       "\n",
       "    .dataframe thead th {\n",
       "        text-align: right;\n",
       "    }\n",
       "</style>\n",
       "<table border=\"1\" class=\"dataframe\">\n",
       "  <thead>\n",
       "    <tr style=\"text-align: right;\">\n",
       "      <th></th>\n",
       "      <th>Categoria</th>\n",
       "      <th>Total (2009–2023)</th>\n",
       "      <th>Média até 2016</th>\n",
       "      <th>Média após 2016</th>\n",
       "      <th>Média após 2019</th>\n",
       "      <th>Crescimento Anual (2023-2024)</th>\n",
       "    </tr>\n",
       "  </thead>\n",
       "  <tbody>\n",
       "    <tr>\n",
       "      <th>0</th>\n",
       "      <td>VINHO DE MESA</td>\n",
       "      <td>2841923902</td>\n",
       "      <td>1.951261e+08</td>\n",
       "      <td>1.760849e+08</td>\n",
       "      <td>165723612.5</td>\n",
       "      <td>-0.129565</td>\n",
       "    </tr>\n",
       "    <tr>\n",
       "      <th>1</th>\n",
       "      <td>VINHO FINO DE MESA</td>\n",
       "      <td>587604482</td>\n",
       "      <td>3.712149e+07</td>\n",
       "      <td>3.473278e+07</td>\n",
       "      <td>42443009.0</td>\n",
       "      <td>-0.026167</td>\n",
       "    </tr>\n",
       "  </tbody>\n",
       "</table>\n",
       "</div>"
      ],
      "text/plain": [
       "            Categoria  Total (2009–2023)  Média até 2016  Média após 2016  \\\n",
       "0       VINHO DE MESA         2841923902    1.951261e+08     1.760849e+08   \n",
       "1  VINHO FINO DE MESA          587604482    3.712149e+07     3.473278e+07   \n",
       "\n",
       "   Média após 2019  Crescimento Anual (2023-2024)  \n",
       "0      165723612.5                      -0.129565  \n",
       "1       42443009.0                      -0.026167  "
      ]
     },
     "execution_count": 44,
     "metadata": {},
     "output_type": "execute_result"
    }
   ],
   "source": [
    "df_resumo_final.head()"
   ]
  },
  {
   "cell_type": "code",
   "execution_count": null,
   "id": "c198a9b8",
   "metadata": {},
   "outputs": [
    {
     "data": {
      "application/vnd.microsoft.datawrangler.viewer.v0+json": {
       "columns": [
        {
         "name": "index",
         "rawType": "int64",
         "type": "integer"
        },
        {
         "name": "Categoria",
         "rawType": "object",
         "type": "string"
        },
        {
         "name": "Total (2009–2023)",
         "rawType": "int64",
         "type": "integer"
        },
        {
         "name": "Média até 2016",
         "rawType": "float64",
         "type": "float"
        },
        {
         "name": "Média após 2016",
         "rawType": "float64",
         "type": "float"
        }
       ],
       "ref": "58a9b6c6-89cb-4114-a903-c3daf0ca00f1",
       "rows": [
        [
         "0",
         "VINHO FINO DE MESA",
         "5958766442",
         "7823789.909574468",
         "9170277.920972645"
        ]
       ],
       "shape": {
        "columns": 4,
        "rows": 1
       }
      },
      "text/html": [
       "<div>\n",
       "<style scoped>\n",
       "    .dataframe tbody tr th:only-of-type {\n",
       "        vertical-align: middle;\n",
       "    }\n",
       "\n",
       "    .dataframe tbody tr th {\n",
       "        vertical-align: top;\n",
       "    }\n",
       "\n",
       "    .dataframe thead th {\n",
       "        text-align: right;\n",
       "    }\n",
       "</style>\n",
       "<table border=\"1\" class=\"dataframe\">\n",
       "  <thead>\n",
       "    <tr style=\"text-align: right;\">\n",
       "      <th></th>\n",
       "      <th>Categoria</th>\n",
       "      <th>Total (2009–2023)</th>\n",
       "      <th>Média até 2016</th>\n",
       "      <th>Média após 2016</th>\n",
       "    </tr>\n",
       "  </thead>\n",
       "  <tbody>\n",
       "    <tr>\n",
       "      <th>0</th>\n",
       "      <td>VINHO FINO DE MESA</td>\n",
       "      <td>5958766442</td>\n",
       "      <td>7.823790e+06</td>\n",
       "      <td>9.170278e+06</td>\n",
       "    </tr>\n",
       "  </tbody>\n",
       "</table>\n",
       "</div>"
      ],
      "text/plain": [
       "            Categoria  Total (2009–2023)  Média até 2016  Média após 2016\n",
       "0  VINHO FINO DE MESA         5958766442    7.823790e+06     9.170278e+06"
      ]
     },
     "execution_count": 34,
     "metadata": {},
     "output_type": "execute_result"
    }
   ],
   "source": [
    "\n",
    "anos = list(range(2009, 2024))\n",
    "\n",
    "# Agrupar por categoria e calcular as métricas\n",
    "grupo = producao_final.groupby('categoria')\n",
    "\n",
    "for categoria, dados in grupo:\n",
    "    dados_15 = producao_final[producao_final['Ano'].between(2009, 2023)]\n",
    "    media_ate_2016 = producao_final[producao_final['Ano'] <= 2016]['Total_Produzido'].mean()\n",
    "    media_pos_2016 = producao_final[producao_final['Ano'] > 2016]['Total_Produzido'].mean()\n",
    "    total = producao_final['Total_Produzido'].sum()\n",
    "\n",
    "resultados = []\n",
    "\n",
    "resultados.append({\n",
    "        'Categoria': categoria,\n",
    "        'Total (2009–2023)': total,\n",
    "        'Média até 2016': media_ate_2016,\n",
    "        'Média após 2016': media_pos_2016\n",
    "    })\n",
    "\n",
    "\n",
    "# Transformar em DataFrame\n",
    "df_resultado_final = pd.DataFrame(resultados)\n",
    "df_resultado_final.head()"
   ]
  },
  {
   "cell_type": "code",
   "execution_count": 18,
   "id": "37d61453",
   "metadata": {},
   "outputs": [
    {
     "data": {
      "application/vnd.microsoft.datawrangler.viewer.v0+json": {
       "columns": [
        {
         "name": "index",
         "rawType": "int64",
         "type": "integer"
        },
        {
         "name": "categoria",
         "rawType": "object",
         "type": "string"
        },
        {
         "name": "produto",
         "rawType": "object",
         "type": "string"
        },
        {
         "name": "id",
         "rawType": "int64",
         "type": "integer"
        },
        {
         "name": "Ano",
         "rawType": "object",
         "type": "string"
        },
        {
         "name": "Total_Produzido",
         "rawType": "int64",
         "type": "integer"
        }
       ],
       "ref": "51c26844-5f4f-484f-ab09-c43932e93611",
       "rows": [
        [
         "0",
         "VINHO DE MESA",
         "Tinto",
         "2",
         "2009",
         "164143454"
        ],
        [
         "1",
         "VINHO DE MESA",
         "Branco",
         "3",
         "2009",
         "39211278"
        ],
        [
         "2",
         "VINHO DE MESA",
         "Rosado",
         "4",
         "2009",
         "2063474"
        ],
        [
         "3",
         "VINHO FINO DE MESA",
         "Tinto",
         "6",
         "2009",
         "18209043"
        ],
        [
         "4",
         "VINHO FINO DE MESA",
         "Branco",
         "7",
         "2009",
         "21366975"
        ]
       ],
       "shape": {
        "columns": 5,
        "rows": 5
       }
      },
      "text/html": [
       "<div>\n",
       "<style scoped>\n",
       "    .dataframe tbody tr th:only-of-type {\n",
       "        vertical-align: middle;\n",
       "    }\n",
       "\n",
       "    .dataframe tbody tr th {\n",
       "        vertical-align: top;\n",
       "    }\n",
       "\n",
       "    .dataframe thead th {\n",
       "        text-align: right;\n",
       "    }\n",
       "</style>\n",
       "<table border=\"1\" class=\"dataframe\">\n",
       "  <thead>\n",
       "    <tr style=\"text-align: right;\">\n",
       "      <th></th>\n",
       "      <th>categoria</th>\n",
       "      <th>produto</th>\n",
       "      <th>id</th>\n",
       "      <th>Ano</th>\n",
       "      <th>Total_Produzido</th>\n",
       "    </tr>\n",
       "  </thead>\n",
       "  <tbody>\n",
       "    <tr>\n",
       "      <th>0</th>\n",
       "      <td>VINHO DE MESA</td>\n",
       "      <td>Tinto</td>\n",
       "      <td>2</td>\n",
       "      <td>2009</td>\n",
       "      <td>164143454</td>\n",
       "    </tr>\n",
       "    <tr>\n",
       "      <th>1</th>\n",
       "      <td>VINHO DE MESA</td>\n",
       "      <td>Branco</td>\n",
       "      <td>3</td>\n",
       "      <td>2009</td>\n",
       "      <td>39211278</td>\n",
       "    </tr>\n",
       "    <tr>\n",
       "      <th>2</th>\n",
       "      <td>VINHO DE MESA</td>\n",
       "      <td>Rosado</td>\n",
       "      <td>4</td>\n",
       "      <td>2009</td>\n",
       "      <td>2063474</td>\n",
       "    </tr>\n",
       "    <tr>\n",
       "      <th>3</th>\n",
       "      <td>VINHO FINO DE MESA</td>\n",
       "      <td>Tinto</td>\n",
       "      <td>6</td>\n",
       "      <td>2009</td>\n",
       "      <td>18209043</td>\n",
       "    </tr>\n",
       "    <tr>\n",
       "      <th>4</th>\n",
       "      <td>VINHO FINO DE MESA</td>\n",
       "      <td>Branco</td>\n",
       "      <td>7</td>\n",
       "      <td>2009</td>\n",
       "      <td>21366975</td>\n",
       "    </tr>\n",
       "  </tbody>\n",
       "</table>\n",
       "</div>"
      ],
      "text/plain": [
       "            categoria produto  id   Ano  Total_Produzido\n",
       "0       VINHO DE MESA   Tinto   2  2009        164143454\n",
       "1       VINHO DE MESA  Branco   3  2009         39211278\n",
       "2       VINHO DE MESA  Rosado   4  2009          2063474\n",
       "3  VINHO FINO DE MESA   Tinto   6  2009         18209043\n",
       "4  VINHO FINO DE MESA  Branco   7  2009         21366975"
      ]
     },
     "execution_count": 18,
     "metadata": {},
     "output_type": "execute_result"
    }
   ],
   "source": [
    "producao_final.head()"
   ]
  },
  {
   "cell_type": "code",
   "execution_count": null,
   "id": "f7b9f3fd",
   "metadata": {},
   "outputs": [
    {
     "name": "stdout",
     "output_type": "stream",
     "text": [
      "Quantidade total produzido de vinho pelo Brasil: 3429.53 milhões de litros\n",
      "Quantidade total produzido de vinho de mesa pelo Brasil: 2841.92 milhões de litros\n",
      "Quantidade total produzido de vinho fino de mesa pelo Brasil: 587.60 milhões de litros\n"
     ]
    }
   ],
   "source": [
    "#Estatisticas\n",
    "\n",
    "producao_final['Ano'] = producao_final['Ano'].astype(int)\n",
    "\n",
    "quantidade_total = producao_final[\n",
    "\t(producao_final['Ano'].between(2009, 2023)) &\n",
    "\t(producao_final['categoria'].isin(['VINHO DE MESA', 'VINHO FINO DE MESA']))\n",
    "]['Total_Produzido'].sum() / 1_000_000\n",
    "print(f\"Quantidade total produzido de vinho pelo Brasil: {quantidade_total:.2f} milhões de litros\")\n",
    "\n",
    "\n",
    "\n",
    "quantidade_total_mesa = producao_final[\n",
    "\t(producao_final['Ano'].between(2009, 2023)) &\n",
    "\t(producao_final['categoria'].isin(['VINHO DE MESA']))\n",
    "]['Total_Produzido'].sum() / 1_000_000\n",
    "print(f\"Quantidade total produzido de vinho de mesa pelo Brasil: {quantidade_total_mesa:.2f} milhões de litros\")\n",
    "\n",
    "\n",
    "quantidade_total_finos = producao_final[\n",
    "\t(producao_final['Ano'].between(2009, 2023)) &\n",
    "\t(producao_final['categoria'].isin(['VINHO FINO DE MESA']))\n",
    "]['Total_Produzido'].sum() / 1_000_000\n",
    "print(f\"Quantidade total produzido de vinho fino de mesa pelo Brasil: {quantidade_total_finos:.2f} milhões de litros\")\n"
   ]
  },
  {
   "cell_type": "code",
   "execution_count": null,
   "id": "d718cdcc",
   "metadata": {},
   "outputs": [],
   "source": []
  }
 ],
 "metadata": {
  "kernelspec": {
   "display_name": "Python 3",
   "language": "python",
   "name": "python3"
  },
  "language_info": {
   "codemirror_mode": {
    "name": "ipython",
    "version": 3
   },
   "file_extension": ".py",
   "mimetype": "text/x-python",
   "name": "python",
   "nbconvert_exporter": "python",
   "pygments_lexer": "ipython3",
   "version": "3.13.2"
  }
 },
 "nbformat": 4,
 "nbformat_minor": 5
}
