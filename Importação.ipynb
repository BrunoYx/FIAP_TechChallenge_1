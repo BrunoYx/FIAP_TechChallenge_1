{
 "cells": [
  {
   "cell_type": "code",
   "execution_count": 3,
   "id": "d0cc750b",
   "metadata": {},
   "outputs": [
    {
     "data": {
      "application/vnd.microsoft.datawrangler.viewer.v0+json": {
       "columns": [
        {
         "name": "index",
         "rawType": "int64",
         "type": "integer"
        },
        {
         "name": "Id",
         "rawType": "int64",
         "type": "integer"
        },
        {
         "name": "País",
         "rawType": "object",
         "type": "string"
        },
        {
         "name": "1970",
         "rawType": "int64",
         "type": "integer"
        },
        {
         "name": "1970.1",
         "rawType": "float64",
         "type": "float"
        },
        {
         "name": "1971",
         "rawType": "int64",
         "type": "integer"
        },
        {
         "name": "1971.1",
         "rawType": "int64",
         "type": "integer"
        },
        {
         "name": "1972",
         "rawType": "int64",
         "type": "integer"
        },
        {
         "name": "1972.1",
         "rawType": "int64",
         "type": "integer"
        },
        {
         "name": "1973",
         "rawType": "int64",
         "type": "integer"
        },
        {
         "name": "1973.1",
         "rawType": "int64",
         "type": "integer"
        },
        {
         "name": "1974",
         "rawType": "int64",
         "type": "integer"
        },
        {
         "name": "1974.1",
         "rawType": "int64",
         "type": "integer"
        },
        {
         "name": "1975",
         "rawType": "int64",
         "type": "integer"
        },
        {
         "name": "1975.1",
         "rawType": "int64",
         "type": "integer"
        },
        {
         "name": "1976",
         "rawType": "int64",
         "type": "integer"
        },
        {
         "name": "1976.1",
         "rawType": "int64",
         "type": "integer"
        },
        {
         "name": "1977",
         "rawType": "int64",
         "type": "integer"
        },
        {
         "name": "1977.1",
         "rawType": "int64",
         "type": "integer"
        },
        {
         "name": "1978",
         "rawType": "int64",
         "type": "integer"
        },
        {
         "name": "1978.1",
         "rawType": "int64",
         "type": "integer"
        },
        {
         "name": "1979",
         "rawType": "int64",
         "type": "integer"
        },
        {
         "name": "1979.1",
         "rawType": "int64",
         "type": "integer"
        },
        {
         "name": "1980",
         "rawType": "int64",
         "type": "integer"
        },
        {
         "name": "1980.1",
         "rawType": "int64",
         "type": "integer"
        },
        {
         "name": "1981",
         "rawType": "int64",
         "type": "integer"
        },
        {
         "name": "1981.1",
         "rawType": "int64",
         "type": "integer"
        },
        {
         "name": "1982",
         "rawType": "int64",
         "type": "integer"
        },
        {
         "name": "1982.1",
         "rawType": "int64",
         "type": "integer"
        },
        {
         "name": "1983",
         "rawType": "int64",
         "type": "integer"
        },
        {
         "name": "1983.1",
         "rawType": "int64",
         "type": "integer"
        },
        {
         "name": "1984",
         "rawType": "int64",
         "type": "integer"
        },
        {
         "name": "1984.1",
         "rawType": "int64",
         "type": "integer"
        },
        {
         "name": "1985",
         "rawType": "int64",
         "type": "integer"
        },
        {
         "name": "1985.1",
         "rawType": "int64",
         "type": "integer"
        },
        {
         "name": "1986",
         "rawType": "int64",
         "type": "integer"
        },
        {
         "name": "1986.1",
         "rawType": "int64",
         "type": "integer"
        },
        {
         "name": "1987",
         "rawType": "int64",
         "type": "integer"
        },
        {
         "name": "1987.1",
         "rawType": "int64",
         "type": "integer"
        },
        {
         "name": "1988",
         "rawType": "int64",
         "type": "integer"
        },
        {
         "name": "1988.1",
         "rawType": "int64",
         "type": "integer"
        },
        {
         "name": "1989",
         "rawType": "int64",
         "type": "integer"
        },
        {
         "name": "1989.1",
         "rawType": "int64",
         "type": "integer"
        },
        {
         "name": "1990",
         "rawType": "int64",
         "type": "integer"
        },
        {
         "name": "1990.1",
         "rawType": "int64",
         "type": "integer"
        },
        {
         "name": "1991",
         "rawType": "int64",
         "type": "integer"
        },
        {
         "name": "1991.1",
         "rawType": "int64",
         "type": "integer"
        },
        {
         "name": "1992",
         "rawType": "int64",
         "type": "integer"
        },
        {
         "name": "1992.1",
         "rawType": "int64",
         "type": "integer"
        },
        {
         "name": "1993",
         "rawType": "int64",
         "type": "integer"
        },
        {
         "name": "1993.1",
         "rawType": "int64",
         "type": "integer"
        },
        {
         "name": "1994",
         "rawType": "int64",
         "type": "integer"
        },
        {
         "name": "1994.1",
         "rawType": "int64",
         "type": "integer"
        },
        {
         "name": "1995",
         "rawType": "int64",
         "type": "integer"
        },
        {
         "name": "1995.1",
         "rawType": "int64",
         "type": "integer"
        },
        {
         "name": "1996",
         "rawType": "int64",
         "type": "integer"
        },
        {
         "name": "1996.1",
         "rawType": "int64",
         "type": "integer"
        },
        {
         "name": "1997",
         "rawType": "int64",
         "type": "integer"
        },
        {
         "name": "1997.1",
         "rawType": "int64",
         "type": "integer"
        },
        {
         "name": "1998",
         "rawType": "int64",
         "type": "integer"
        },
        {
         "name": "1998.1",
         "rawType": "int64",
         "type": "integer"
        },
        {
         "name": "1999",
         "rawType": "int64",
         "type": "integer"
        },
        {
         "name": "1999.1",
         "rawType": "int64",
         "type": "integer"
        },
        {
         "name": "2000",
         "rawType": "int64",
         "type": "integer"
        },
        {
         "name": "2000.1",
         "rawType": "int64",
         "type": "integer"
        },
        {
         "name": "2001",
         "rawType": "int64",
         "type": "integer"
        },
        {
         "name": "2001.1",
         "rawType": "int64",
         "type": "integer"
        },
        {
         "name": "2002",
         "rawType": "int64",
         "type": "integer"
        },
        {
         "name": "2002.1",
         "rawType": "int64",
         "type": "integer"
        },
        {
         "name": "2003",
         "rawType": "int64",
         "type": "integer"
        },
        {
         "name": "2003.1",
         "rawType": "int64",
         "type": "integer"
        },
        {
         "name": "2004",
         "rawType": "int64",
         "type": "integer"
        },
        {
         "name": "2004.1",
         "rawType": "int64",
         "type": "integer"
        },
        {
         "name": "2005",
         "rawType": "int64",
         "type": "integer"
        },
        {
         "name": "2005.1",
         "rawType": "int64",
         "type": "integer"
        },
        {
         "name": "2006",
         "rawType": "int64",
         "type": "integer"
        },
        {
         "name": "2006.1",
         "rawType": "int64",
         "type": "integer"
        },
        {
         "name": "2007",
         "rawType": "int64",
         "type": "integer"
        },
        {
         "name": "2007.1",
         "rawType": "int64",
         "type": "integer"
        },
        {
         "name": "2008",
         "rawType": "int64",
         "type": "integer"
        },
        {
         "name": "2008.1",
         "rawType": "int64",
         "type": "integer"
        },
        {
         "name": "2009",
         "rawType": "int64",
         "type": "integer"
        },
        {
         "name": "2009.1",
         "rawType": "int64",
         "type": "integer"
        },
        {
         "name": "2010",
         "rawType": "int64",
         "type": "integer"
        },
        {
         "name": "2010.1",
         "rawType": "int64",
         "type": "integer"
        },
        {
         "name": "2011",
         "rawType": "int64",
         "type": "integer"
        },
        {
         "name": "2011.1",
         "rawType": "int64",
         "type": "integer"
        },
        {
         "name": "2012",
         "rawType": "int64",
         "type": "integer"
        },
        {
         "name": "2012.1",
         "rawType": "int64",
         "type": "integer"
        },
        {
         "name": "2013",
         "rawType": "int64",
         "type": "integer"
        },
        {
         "name": "2013.1",
         "rawType": "int64",
         "type": "integer"
        },
        {
         "name": "2014",
         "rawType": "int64",
         "type": "integer"
        },
        {
         "name": "2014.1",
         "rawType": "int64",
         "type": "integer"
        },
        {
         "name": "2015",
         "rawType": "int64",
         "type": "integer"
        },
        {
         "name": "2015.1",
         "rawType": "int64",
         "type": "integer"
        },
        {
         "name": "2016",
         "rawType": "int64",
         "type": "integer"
        },
        {
         "name": "2016.1",
         "rawType": "int64",
         "type": "integer"
        },
        {
         "name": "2017",
         "rawType": "int64",
         "type": "integer"
        },
        {
         "name": "2017.1",
         "rawType": "int64",
         "type": "integer"
        },
        {
         "name": "2018",
         "rawType": "int64",
         "type": "integer"
        },
        {
         "name": "2018.1",
         "rawType": "int64",
         "type": "integer"
        },
        {
         "name": "2019",
         "rawType": "int64",
         "type": "integer"
        },
        {
         "name": "2019.1",
         "rawType": "int64",
         "type": "integer"
        },
        {
         "name": "2020",
         "rawType": "int64",
         "type": "integer"
        },
        {
         "name": "2020.1",
         "rawType": "int64",
         "type": "integer"
        },
        {
         "name": "2021",
         "rawType": "int64",
         "type": "integer"
        },
        {
         "name": "2021.1",
         "rawType": "int64",
         "type": "integer"
        },
        {
         "name": "2022",
         "rawType": "int64",
         "type": "integer"
        },
        {
         "name": "2022.1",
         "rawType": "int64",
         "type": "integer"
        },
        {
         "name": "2023",
         "rawType": "int64",
         "type": "integer"
        },
        {
         "name": "2023.1",
         "rawType": "int64",
         "type": "integer"
        }
       ],
       "ref": "0aa0945b-615b-432f-b55a-756cb422ee42",
       "rows": [
        [
         "0",
         "1",
         "Africa do Sul",
         "0",
         "0.0",
         "0",
         "0",
         "0",
         "0",
         "0",
         "0",
         "0",
         "0",
         "0",
         "0",
         "0",
         "0",
         "0",
         "0",
         "0",
         "0",
         "0",
         "0",
         "0",
         "0",
         "0",
         "0",
         "0",
         "0",
         "0",
         "0",
         "0",
         "0",
         "0",
         "0",
         "0",
         "0",
         "0",
         "0",
         "0",
         "0",
         "0",
         "0",
         "0",
         "0",
         "0",
         "0",
         "0",
         "0",
         "0",
         "0",
         "0",
         "0",
         "0",
         "0",
         "0",
         "0",
         "0",
         "0",
         "0",
         "0",
         "0",
         "0",
         "0",
         "0",
         "42661",
         "99201",
         "32194",
         "106317",
         "157239",
         "305701",
         "303489",
         "665101",
         "407413",
         "775421",
         "358870",
         "1164032",
         "386425",
         "1320244",
         "315380",
         "1151699",
         "493093",
         "1931449",
         "966276",
         "3600658",
         "507509",
         "2136394",
         "722327",
         "3041449",
         "475331",
         "1985184",
         "722715",
         "3033932",
         "743335",
         "2996543",
         "578829",
         "1686226",
         "1138732",
         "3241298",
         "1127053",
         "3574371",
         "1092042",
         "3604038",
         "627150",
         "1701072",
         "859169",
         "2508140",
         "738116",
         "2266827",
         "522733",
         "1732850"
        ],
        [
         "1",
         "2",
         "Alemanha",
         "52297",
         "30498.0",
         "34606",
         "26027",
         "134438",
         "92103",
         "111523",
         "98638",
         "219173",
         "202502",
         "134354",
         "149931",
         "168134",
         "171308",
         "160926",
         "201840",
         "437831",
         "668631",
         "433478",
         "691404",
         "457033",
         "704307",
         "707194",
         "853830",
         "996948",
         "1126928",
         "850055",
         "908380",
         "586645",
         "564129",
         "1069717",
         "1122438",
         "2357113",
         "3008737",
         "1307519",
         "1863924",
         "2029271",
         "2757417",
         "2885143",
         "4074739",
         "3342223",
         "5875679",
         "3096425",
         "4545305",
         "2515557",
         "3644055",
         "5721360",
         "7155615",
         "11047710",
         "16068528",
         "11919346",
         "19758144",
         "8680860",
         "10629243",
         "4867017",
         "5108215",
         "3014081",
         "4834030",
         "2576557",
         "4539354",
         "1164724",
         "1668539",
         "909077",
         "1169872",
         "759712",
         "829695",
         "573198",
         "629664",
         "420075",
         "550750",
         "253685",
         "382599",
         "314749",
         "634870",
         "234006",
         "647626",
         "293935",
         "1063825",
         "56075",
         "291876",
         "192661",
         "784674",
         "198025",
         "933545",
         "113243",
         "591167",
         "114866",
         "414070",
         "115804",
         "483316",
         "95171",
         "358275",
         "158386",
         "606333",
         "83289",
         "315959",
         "142971",
         "516975",
         "101055",
         "412794",
         "136992",
         "504168",
         "106541",
         "546967",
         "92600",
         "438595",
         "102456",
         "557947"
        ],
        [
         "2",
         "3",
         "Argélia",
         "0",
         "0.0",
         "0",
         "0",
         "0",
         "0",
         "0",
         "0",
         "0",
         "0",
         "0",
         "0",
         "0",
         "0",
         "0",
         "0",
         "0",
         "0",
         "0",
         "0",
         "0",
         "0",
         "0",
         "0",
         "0",
         "0",
         "0",
         "0",
         "0",
         "0",
         "0",
         "0",
         "0",
         "0",
         "0",
         "0",
         "0",
         "0",
         "0",
         "0",
         "0",
         "0",
         "0",
         "0",
         "0",
         "0",
         "0",
         "0",
         "0",
         "0",
         "0",
         "0",
         "0",
         "0",
         "0",
         "0",
         "0",
         "0",
         "0",
         "0",
         "0",
         "0",
         "0",
         "0",
         "0",
         "0",
         "0",
         "0",
         "0",
         "0",
         "0",
         "0",
         "0",
         "0",
         "0",
         "0",
         "0",
         "0",
         "0",
         "0",
         "0",
         "0",
         "0",
         "0",
         "0",
         "0",
         "0",
         "0",
         "0",
         "0",
         "0",
         "0",
         "0",
         "43",
         "0",
         "0",
         "0",
         "0",
         "0",
         "0",
         "0",
         "0",
         "0",
         "0",
         "0",
         "0",
         "0",
         "0"
        ],
        [
         "3",
         "4",
         "Arábia Saudita",
         "0",
         "0.0",
         "0",
         "0",
         "0",
         "0",
         "0",
         "0",
         "0",
         "0",
         "0",
         "0",
         "0",
         "0",
         "0",
         "0",
         "0",
         "0",
         "0",
         "0",
         "0",
         "0",
         "0",
         "0",
         "0",
         "0",
         "0",
         "0",
         "0",
         "0",
         "0",
         "0",
         "0",
         "0",
         "0",
         "0",
         "0",
         "0",
         "0",
         "0",
         "0",
         "0",
         "0",
         "0",
         "0",
         "0",
         "0",
         "0",
         "0",
         "0",
         "0",
         "0",
         "0",
         "0",
         "0",
         "0",
         "0",
         "0",
         "0",
         "0",
         "0",
         "0",
         "0",
         "0",
         "0",
         "0",
         "0",
         "0",
         "0",
         "0",
         "0",
         "0",
         "0",
         "0",
         "0",
         "0",
         "0",
         "0",
         "0",
         "0",
         "0",
         "0",
         "0",
         "0",
         "0",
         "0",
         "0",
         "0",
         "0",
         "0",
         "0",
         "0",
         "0",
         "43",
         "0",
         "0",
         "563",
         "3249",
         "0",
         "0",
         "0",
         "0",
         "2510",
         "8761",
         "0",
         "0",
         "8",
         "161"
        ],
        [
         "4",
         "5",
         "Argentina",
         "19525",
         "12260.0",
         "24942",
         "15022",
         "104906",
         "58137",
         "116887",
         "76121",
         "215930",
         "167473",
         "145823",
         "90855",
         "348653",
         "277507",
         "408399",
         "395615",
         "614134",
         "709813",
         "646978",
         "888941",
         "298471",
         "479464",
         "131738",
         "209173",
         "191972",
         "264487",
         "132634",
         "188625",
         "42438",
         "64603",
         "114570",
         "164424",
         "170413",
         "242678",
         "98854",
         "136841",
         "414931",
         "590758",
         "716062",
         "1153585",
         "455774",
         "721398",
         "852441",
         "1493649",
         "444896",
         "815668",
         "359542",
         "795068",
         "446315",
         "730091",
         "1397904",
         "1992083",
         "779008",
         "1438076",
         "1013306",
         "2089559",
         "1295190",
         "3073775",
         "2475780",
         "5284871",
         "2724941",
         "6556544",
         "2585537",
         "6196286",
         "3867336",
         "6894469",
         "5720024",
         "9653634",
         "10202602",
         "17142493",
         "10845213",
         "21623751",
         "11939727",
         "25822840",
         "15621172",
         "36160548",
         "14417761",
         "37382581",
         "13902750",
         "38521731",
         "16965266",
         "52126581",
         "16673491",
         "58806736",
         "14613839",
         "55633562",
         "12732815",
         "49524694",
         "13437321",
         "53815956",
         "12465041",
         "48043201",
         "14098009",
         "45214862",
         "15461740",
         "51770842",
         "15221318",
         "52817642",
         "16548931",
         "54527380",
         "22610267",
         "66322932",
         "26869241",
         "79527959",
         "27980574",
         "87519642",
         "25276991",
         "83918138"
        ]
       ],
       "shape": {
        "columns": 110,
        "rows": 5
       }
      },
      "text/html": [
       "<div>\n",
       "<style scoped>\n",
       "    .dataframe tbody tr th:only-of-type {\n",
       "        vertical-align: middle;\n",
       "    }\n",
       "\n",
       "    .dataframe tbody tr th {\n",
       "        vertical-align: top;\n",
       "    }\n",
       "\n",
       "    .dataframe thead th {\n",
       "        text-align: right;\n",
       "    }\n",
       "</style>\n",
       "<table border=\"1\" class=\"dataframe\">\n",
       "  <thead>\n",
       "    <tr style=\"text-align: right;\">\n",
       "      <th></th>\n",
       "      <th>Id</th>\n",
       "      <th>País</th>\n",
       "      <th>1970</th>\n",
       "      <th>1970.1</th>\n",
       "      <th>1971</th>\n",
       "      <th>1971.1</th>\n",
       "      <th>1972</th>\n",
       "      <th>1972.1</th>\n",
       "      <th>1973</th>\n",
       "      <th>1973.1</th>\n",
       "      <th>...</th>\n",
       "      <th>2019</th>\n",
       "      <th>2019.1</th>\n",
       "      <th>2020</th>\n",
       "      <th>2020.1</th>\n",
       "      <th>2021</th>\n",
       "      <th>2021.1</th>\n",
       "      <th>2022</th>\n",
       "      <th>2022.1</th>\n",
       "      <th>2023</th>\n",
       "      <th>2023.1</th>\n",
       "    </tr>\n",
       "  </thead>\n",
       "  <tbody>\n",
       "    <tr>\n",
       "      <th>0</th>\n",
       "      <td>1</td>\n",
       "      <td>Africa do Sul</td>\n",
       "      <td>0</td>\n",
       "      <td>0.0</td>\n",
       "      <td>0</td>\n",
       "      <td>0</td>\n",
       "      <td>0</td>\n",
       "      <td>0</td>\n",
       "      <td>0</td>\n",
       "      <td>0</td>\n",
       "      <td>...</td>\n",
       "      <td>1092042</td>\n",
       "      <td>3604038</td>\n",
       "      <td>627150</td>\n",
       "      <td>1701072</td>\n",
       "      <td>859169</td>\n",
       "      <td>2508140</td>\n",
       "      <td>738116</td>\n",
       "      <td>2266827</td>\n",
       "      <td>522733</td>\n",
       "      <td>1732850</td>\n",
       "    </tr>\n",
       "    <tr>\n",
       "      <th>1</th>\n",
       "      <td>2</td>\n",
       "      <td>Alemanha</td>\n",
       "      <td>52297</td>\n",
       "      <td>30498.0</td>\n",
       "      <td>34606</td>\n",
       "      <td>26027</td>\n",
       "      <td>134438</td>\n",
       "      <td>92103</td>\n",
       "      <td>111523</td>\n",
       "      <td>98638</td>\n",
       "      <td>...</td>\n",
       "      <td>101055</td>\n",
       "      <td>412794</td>\n",
       "      <td>136992</td>\n",
       "      <td>504168</td>\n",
       "      <td>106541</td>\n",
       "      <td>546967</td>\n",
       "      <td>92600</td>\n",
       "      <td>438595</td>\n",
       "      <td>102456</td>\n",
       "      <td>557947</td>\n",
       "    </tr>\n",
       "    <tr>\n",
       "      <th>2</th>\n",
       "      <td>3</td>\n",
       "      <td>Argélia</td>\n",
       "      <td>0</td>\n",
       "      <td>0.0</td>\n",
       "      <td>0</td>\n",
       "      <td>0</td>\n",
       "      <td>0</td>\n",
       "      <td>0</td>\n",
       "      <td>0</td>\n",
       "      <td>0</td>\n",
       "      <td>...</td>\n",
       "      <td>0</td>\n",
       "      <td>0</td>\n",
       "      <td>0</td>\n",
       "      <td>0</td>\n",
       "      <td>0</td>\n",
       "      <td>0</td>\n",
       "      <td>0</td>\n",
       "      <td>0</td>\n",
       "      <td>0</td>\n",
       "      <td>0</td>\n",
       "    </tr>\n",
       "    <tr>\n",
       "      <th>3</th>\n",
       "      <td>4</td>\n",
       "      <td>Arábia Saudita</td>\n",
       "      <td>0</td>\n",
       "      <td>0.0</td>\n",
       "      <td>0</td>\n",
       "      <td>0</td>\n",
       "      <td>0</td>\n",
       "      <td>0</td>\n",
       "      <td>0</td>\n",
       "      <td>0</td>\n",
       "      <td>...</td>\n",
       "      <td>0</td>\n",
       "      <td>0</td>\n",
       "      <td>0</td>\n",
       "      <td>0</td>\n",
       "      <td>2510</td>\n",
       "      <td>8761</td>\n",
       "      <td>0</td>\n",
       "      <td>0</td>\n",
       "      <td>8</td>\n",
       "      <td>161</td>\n",
       "    </tr>\n",
       "    <tr>\n",
       "      <th>4</th>\n",
       "      <td>5</td>\n",
       "      <td>Argentina</td>\n",
       "      <td>19525</td>\n",
       "      <td>12260.0</td>\n",
       "      <td>24942</td>\n",
       "      <td>15022</td>\n",
       "      <td>104906</td>\n",
       "      <td>58137</td>\n",
       "      <td>116887</td>\n",
       "      <td>76121</td>\n",
       "      <td>...</td>\n",
       "      <td>16548931</td>\n",
       "      <td>54527380</td>\n",
       "      <td>22610267</td>\n",
       "      <td>66322932</td>\n",
       "      <td>26869241</td>\n",
       "      <td>79527959</td>\n",
       "      <td>27980574</td>\n",
       "      <td>87519642</td>\n",
       "      <td>25276991</td>\n",
       "      <td>83918138</td>\n",
       "    </tr>\n",
       "  </tbody>\n",
       "</table>\n",
       "<p>5 rows × 110 columns</p>\n",
       "</div>"
      ],
      "text/plain": [
       "   Id            País   1970   1970.1   1971  1971.1    1972  1972.1    1973  \\\n",
       "0   1   Africa do Sul      0      0.0      0       0       0       0       0   \n",
       "1   2        Alemanha  52297  30498.0  34606   26027  134438   92103  111523   \n",
       "2   3         Argélia      0      0.0      0       0       0       0       0   \n",
       "3   4  Arábia Saudita      0      0.0      0       0       0       0       0   \n",
       "4   5       Argentina  19525  12260.0  24942   15022  104906   58137  116887   \n",
       "\n",
       "   1973.1  ...      2019    2019.1      2020    2020.1      2021    2021.1  \\\n",
       "0       0  ...   1092042   3604038    627150   1701072    859169   2508140   \n",
       "1   98638  ...    101055    412794    136992    504168    106541    546967   \n",
       "2       0  ...         0         0         0         0         0         0   \n",
       "3       0  ...         0         0         0         0      2510      8761   \n",
       "4   76121  ...  16548931  54527380  22610267  66322932  26869241  79527959   \n",
       "\n",
       "       2022    2022.1      2023    2023.1  \n",
       "0    738116   2266827    522733   1732850  \n",
       "1     92600    438595    102456    557947  \n",
       "2         0         0         0         0  \n",
       "3         0         0         8       161  \n",
       "4  27980574  87519642  25276991  83918138  \n",
       "\n",
       "[5 rows x 110 columns]"
      ]
     },
     "execution_count": 3,
     "metadata": {},
     "output_type": "execute_result"
    }
   ],
   "source": [
    "# Bibliotecas padrão\n",
    "import pandas as pd\n",
    "import numpy as np\n",
    "import matplotlib.pyplot as plt\n",
    "import seaborn as sns\n",
    "import matplotlib.ticker as ticker\n",
    "import requests\n",
    "\n",
    "import warnings\n",
    "\n",
    "# Desabilitar todos os warnings\n",
    "warnings.filterwarnings(\"ignore\")\n",
    "\n",
    "importacao = pd.read_csv('Dados/Dados_Embrapa/Importacao/Tbl_ImpVinhos.csv', sep=';', encoding='utf-8')\n",
    "importacao.head()"
   ]
  },
  {
   "cell_type": "code",
   "execution_count": 4,
   "id": "a77e2392",
   "metadata": {},
   "outputs": [
    {
     "name": "stdout",
     "output_type": "stream",
     "text": [
      "Linhas da tabela Produção: 68\n",
      "Colunas da tabela Produção: 110\n",
      "Colunas da tabela Produção: 80\n"
     ]
    }
   ],
   "source": [
    "# Visualizar o tamanho do dataframe Producao\n",
    "print(f\"Linhas da tabela Produção: {importacao.shape[0]}\")\n",
    "print(f\"Colunas da tabela Produção: {importacao.shape[1]}\")\n",
    "\n",
    "\n",
    "colum_ness = importacao.shape[1] - 30 # Verificar o número de colunas trazidas dado a separação entre quantidade e valor\n",
    "print(f\"Colunas da tabela Produção: {colum_ness}\")"
   ]
  },
  {
   "cell_type": "code",
   "execution_count": 5,
   "id": "ad446e0d",
   "metadata": {},
   "outputs": [
    {
     "data": {
      "application/vnd.microsoft.datawrangler.viewer.v0+json": {
       "columns": [
        {
         "name": "index",
         "rawType": "int64",
         "type": "integer"
        },
        {
         "name": "Pa",
         "rawType": "object",
         "type": "string"
        },
        {
         "name": "1970",
         "rawType": "float64",
         "type": "float"
        },
        {
         "name": "1971",
         "rawType": "int64",
         "type": "integer"
        },
        {
         "name": "1972",
         "rawType": "int64",
         "type": "integer"
        },
        {
         "name": "1973",
         "rawType": "int64",
         "type": "integer"
        },
        {
         "name": "1974",
         "rawType": "int64",
         "type": "integer"
        },
        {
         "name": "1975",
         "rawType": "int64",
         "type": "integer"
        },
        {
         "name": "1976",
         "rawType": "int64",
         "type": "integer"
        },
        {
         "name": "1977",
         "rawType": "int64",
         "type": "integer"
        },
        {
         "name": "1978",
         "rawType": "int64",
         "type": "integer"
        },
        {
         "name": "1979",
         "rawType": "int64",
         "type": "integer"
        },
        {
         "name": "1980",
         "rawType": "int64",
         "type": "integer"
        },
        {
         "name": "1981",
         "rawType": "int64",
         "type": "integer"
        },
        {
         "name": "1982",
         "rawType": "int64",
         "type": "integer"
        },
        {
         "name": "1983",
         "rawType": "int64",
         "type": "integer"
        },
        {
         "name": "1984",
         "rawType": "int64",
         "type": "integer"
        },
        {
         "name": "1985",
         "rawType": "int64",
         "type": "integer"
        },
        {
         "name": "1986",
         "rawType": "int64",
         "type": "integer"
        },
        {
         "name": "1987",
         "rawType": "int64",
         "type": "integer"
        },
        {
         "name": "1988",
         "rawType": "int64",
         "type": "integer"
        },
        {
         "name": "1989",
         "rawType": "int64",
         "type": "integer"
        },
        {
         "name": "1990",
         "rawType": "int64",
         "type": "integer"
        },
        {
         "name": "1991",
         "rawType": "int64",
         "type": "integer"
        },
        {
         "name": "1992",
         "rawType": "int64",
         "type": "integer"
        },
        {
         "name": "1993",
         "rawType": "int64",
         "type": "integer"
        },
        {
         "name": "1994",
         "rawType": "int64",
         "type": "integer"
        },
        {
         "name": "1995",
         "rawType": "int64",
         "type": "integer"
        },
        {
         "name": "1996",
         "rawType": "int64",
         "type": "integer"
        },
        {
         "name": "1997",
         "rawType": "int64",
         "type": "integer"
        },
        {
         "name": "1998",
         "rawType": "int64",
         "type": "integer"
        },
        {
         "name": "1999",
         "rawType": "int64",
         "type": "integer"
        },
        {
         "name": "2000",
         "rawType": "int64",
         "type": "integer"
        },
        {
         "name": "2001",
         "rawType": "int64",
         "type": "integer"
        },
        {
         "name": "2002",
         "rawType": "int64",
         "type": "integer"
        },
        {
         "name": "2003",
         "rawType": "int64",
         "type": "integer"
        },
        {
         "name": "2004",
         "rawType": "int64",
         "type": "integer"
        },
        {
         "name": "2005",
         "rawType": "int64",
         "type": "integer"
        },
        {
         "name": "2006",
         "rawType": "int64",
         "type": "integer"
        },
        {
         "name": "2007",
         "rawType": "int64",
         "type": "integer"
        },
        {
         "name": "2008",
         "rawType": "int64",
         "type": "integer"
        },
        {
         "name": "2009",
         "rawType": "int64",
         "type": "integer"
        },
        {
         "name": "2010",
         "rawType": "int64",
         "type": "integer"
        },
        {
         "name": "2011",
         "rawType": "int64",
         "type": "integer"
        },
        {
         "name": "2012",
         "rawType": "int64",
         "type": "integer"
        },
        {
         "name": "2013",
         "rawType": "int64",
         "type": "integer"
        },
        {
         "name": "2014",
         "rawType": "int64",
         "type": "integer"
        },
        {
         "name": "2015",
         "rawType": "int64",
         "type": "integer"
        },
        {
         "name": "2016",
         "rawType": "int64",
         "type": "integer"
        },
        {
         "name": "2017",
         "rawType": "int64",
         "type": "integer"
        },
        {
         "name": "2018",
         "rawType": "int64",
         "type": "integer"
        },
        {
         "name": "2019",
         "rawType": "int64",
         "type": "integer"
        },
        {
         "name": "2020",
         "rawType": "int64",
         "type": "integer"
        },
        {
         "name": "2021",
         "rawType": "int64",
         "type": "integer"
        },
        {
         "name": "2022",
         "rawType": "int64",
         "type": "integer"
        },
        {
         "name": "2023",
         "rawType": "int64",
         "type": "integer"
        }
       ],
       "ref": "526040ce-7831-4580-9805-08bde78c24f0",
       "rows": [
        [
         "0",
         "Africa do Sul",
         "0.0",
         "0",
         "0",
         "0",
         "0",
         "0",
         "0",
         "0",
         "0",
         "0",
         "0",
         "0",
         "0",
         "0",
         "0",
         "0",
         "0",
         "0",
         "0",
         "0",
         "0",
         "0",
         "0",
         "0",
         "0",
         "0",
         "0",
         "0",
         "0",
         "0",
         "0",
         "99201",
         "106317",
         "305701",
         "665101",
         "775421",
         "1164032",
         "1320244",
         "1151699",
         "1931449",
         "3600658",
         "2136394",
         "3041449",
         "1985184",
         "3033932",
         "2996543",
         "1686226",
         "3241298",
         "3574371",
         "3604038",
         "1701072",
         "2508140",
         "2266827",
         "1732850"
        ],
        [
         "1",
         "Alemanha",
         "30498.0",
         "26027",
         "92103",
         "98638",
         "202502",
         "149931",
         "171308",
         "201840",
         "668631",
         "691404",
         "704307",
         "853830",
         "1126928",
         "908380",
         "564129",
         "1122438",
         "3008737",
         "1863924",
         "2757417",
         "4074739",
         "5875679",
         "4545305",
         "3644055",
         "7155615",
         "16068528",
         "19758144",
         "10629243",
         "5108215",
         "4834030",
         "4539354",
         "1668539",
         "1169872",
         "829695",
         "629664",
         "550750",
         "382599",
         "634870",
         "647626",
         "1063825",
         "291876",
         "784674",
         "933545",
         "591167",
         "414070",
         "483316",
         "358275",
         "606333",
         "315959",
         "516975",
         "412794",
         "504168",
         "546967",
         "438595",
         "557947"
        ],
        [
         "2",
         "Argélia",
         "0.0",
         "0",
         "0",
         "0",
         "0",
         "0",
         "0",
         "0",
         "0",
         "0",
         "0",
         "0",
         "0",
         "0",
         "0",
         "0",
         "0",
         "0",
         "0",
         "0",
         "0",
         "0",
         "0",
         "0",
         "0",
         "0",
         "0",
         "0",
         "0",
         "0",
         "0",
         "0",
         "0",
         "0",
         "0",
         "0",
         "0",
         "0",
         "0",
         "0",
         "0",
         "0",
         "0",
         "0",
         "0",
         "0",
         "43",
         "0",
         "0",
         "0",
         "0",
         "0",
         "0",
         "0"
        ],
        [
         "3",
         "Arábia Saudita",
         "0.0",
         "0",
         "0",
         "0",
         "0",
         "0",
         "0",
         "0",
         "0",
         "0",
         "0",
         "0",
         "0",
         "0",
         "0",
         "0",
         "0",
         "0",
         "0",
         "0",
         "0",
         "0",
         "0",
         "0",
         "0",
         "0",
         "0",
         "0",
         "0",
         "0",
         "0",
         "0",
         "0",
         "0",
         "0",
         "0",
         "0",
         "0",
         "0",
         "0",
         "0",
         "0",
         "0",
         "0",
         "0",
         "0",
         "43",
         "0",
         "3249",
         "0",
         "0",
         "8761",
         "0",
         "161"
        ],
        [
         "4",
         "Argentina",
         "12260.0",
         "15022",
         "58137",
         "76121",
         "167473",
         "90855",
         "277507",
         "395615",
         "709813",
         "888941",
         "479464",
         "209173",
         "264487",
         "188625",
         "64603",
         "164424",
         "242678",
         "136841",
         "590758",
         "1153585",
         "721398",
         "1493649",
         "815668",
         "795068",
         "730091",
         "1992083",
         "1438076",
         "2089559",
         "3073775",
         "5284871",
         "6556544",
         "6196286",
         "6894469",
         "9653634",
         "17142493",
         "21623751",
         "25822840",
         "36160548",
         "37382581",
         "38521731",
         "52126581",
         "58806736",
         "55633562",
         "49524694",
         "53815956",
         "48043201",
         "45214862",
         "51770842",
         "52817642",
         "54527380",
         "66322932",
         "79527959",
         "87519642",
         "83918138"
        ]
       ],
       "shape": {
        "columns": 55,
        "rows": 5
       }
      },
      "text/html": [
       "<div>\n",
       "<style scoped>\n",
       "    .dataframe tbody tr th:only-of-type {\n",
       "        vertical-align: middle;\n",
       "    }\n",
       "\n",
       "    .dataframe tbody tr th {\n",
       "        vertical-align: top;\n",
       "    }\n",
       "\n",
       "    .dataframe thead th {\n",
       "        text-align: right;\n",
       "    }\n",
       "</style>\n",
       "<table border=\"1\" class=\"dataframe\">\n",
       "  <thead>\n",
       "    <tr style=\"text-align: right;\">\n",
       "      <th></th>\n",
       "      <th>Pa</th>\n",
       "      <th>1970</th>\n",
       "      <th>1971</th>\n",
       "      <th>1972</th>\n",
       "      <th>1973</th>\n",
       "      <th>1974</th>\n",
       "      <th>1975</th>\n",
       "      <th>1976</th>\n",
       "      <th>1977</th>\n",
       "      <th>1978</th>\n",
       "      <th>...</th>\n",
       "      <th>2014</th>\n",
       "      <th>2015</th>\n",
       "      <th>2016</th>\n",
       "      <th>2017</th>\n",
       "      <th>2018</th>\n",
       "      <th>2019</th>\n",
       "      <th>2020</th>\n",
       "      <th>2021</th>\n",
       "      <th>2022</th>\n",
       "      <th>2023</th>\n",
       "    </tr>\n",
       "  </thead>\n",
       "  <tbody>\n",
       "    <tr>\n",
       "      <th>0</th>\n",
       "      <td>Africa do Sul</td>\n",
       "      <td>0.0</td>\n",
       "      <td>0</td>\n",
       "      <td>0</td>\n",
       "      <td>0</td>\n",
       "      <td>0</td>\n",
       "      <td>0</td>\n",
       "      <td>0</td>\n",
       "      <td>0</td>\n",
       "      <td>0</td>\n",
       "      <td>...</td>\n",
       "      <td>3033932</td>\n",
       "      <td>2996543</td>\n",
       "      <td>1686226</td>\n",
       "      <td>3241298</td>\n",
       "      <td>3574371</td>\n",
       "      <td>3604038</td>\n",
       "      <td>1701072</td>\n",
       "      <td>2508140</td>\n",
       "      <td>2266827</td>\n",
       "      <td>1732850</td>\n",
       "    </tr>\n",
       "    <tr>\n",
       "      <th>1</th>\n",
       "      <td>Alemanha</td>\n",
       "      <td>30498.0</td>\n",
       "      <td>26027</td>\n",
       "      <td>92103</td>\n",
       "      <td>98638</td>\n",
       "      <td>202502</td>\n",
       "      <td>149931</td>\n",
       "      <td>171308</td>\n",
       "      <td>201840</td>\n",
       "      <td>668631</td>\n",
       "      <td>...</td>\n",
       "      <td>483316</td>\n",
       "      <td>358275</td>\n",
       "      <td>606333</td>\n",
       "      <td>315959</td>\n",
       "      <td>516975</td>\n",
       "      <td>412794</td>\n",
       "      <td>504168</td>\n",
       "      <td>546967</td>\n",
       "      <td>438595</td>\n",
       "      <td>557947</td>\n",
       "    </tr>\n",
       "    <tr>\n",
       "      <th>2</th>\n",
       "      <td>Argélia</td>\n",
       "      <td>0.0</td>\n",
       "      <td>0</td>\n",
       "      <td>0</td>\n",
       "      <td>0</td>\n",
       "      <td>0</td>\n",
       "      <td>0</td>\n",
       "      <td>0</td>\n",
       "      <td>0</td>\n",
       "      <td>0</td>\n",
       "      <td>...</td>\n",
       "      <td>0</td>\n",
       "      <td>0</td>\n",
       "      <td>43</td>\n",
       "      <td>0</td>\n",
       "      <td>0</td>\n",
       "      <td>0</td>\n",
       "      <td>0</td>\n",
       "      <td>0</td>\n",
       "      <td>0</td>\n",
       "      <td>0</td>\n",
       "    </tr>\n",
       "    <tr>\n",
       "      <th>3</th>\n",
       "      <td>Arábia Saudita</td>\n",
       "      <td>0.0</td>\n",
       "      <td>0</td>\n",
       "      <td>0</td>\n",
       "      <td>0</td>\n",
       "      <td>0</td>\n",
       "      <td>0</td>\n",
       "      <td>0</td>\n",
       "      <td>0</td>\n",
       "      <td>0</td>\n",
       "      <td>...</td>\n",
       "      <td>0</td>\n",
       "      <td>0</td>\n",
       "      <td>43</td>\n",
       "      <td>0</td>\n",
       "      <td>3249</td>\n",
       "      <td>0</td>\n",
       "      <td>0</td>\n",
       "      <td>8761</td>\n",
       "      <td>0</td>\n",
       "      <td>161</td>\n",
       "    </tr>\n",
       "    <tr>\n",
       "      <th>4</th>\n",
       "      <td>Argentina</td>\n",
       "      <td>12260.0</td>\n",
       "      <td>15022</td>\n",
       "      <td>58137</td>\n",
       "      <td>76121</td>\n",
       "      <td>167473</td>\n",
       "      <td>90855</td>\n",
       "      <td>277507</td>\n",
       "      <td>395615</td>\n",
       "      <td>709813</td>\n",
       "      <td>...</td>\n",
       "      <td>53815956</td>\n",
       "      <td>48043201</td>\n",
       "      <td>45214862</td>\n",
       "      <td>51770842</td>\n",
       "      <td>52817642</td>\n",
       "      <td>54527380</td>\n",
       "      <td>66322932</td>\n",
       "      <td>79527959</td>\n",
       "      <td>87519642</td>\n",
       "      <td>83918138</td>\n",
       "    </tr>\n",
       "  </tbody>\n",
       "</table>\n",
       "<p>5 rows × 55 columns</p>\n",
       "</div>"
      ],
      "text/plain": [
       "               Pa     1970   1971   1972   1973    1974    1975    1976  \\\n",
       "0   Africa do Sul      0.0      0      0      0       0       0       0   \n",
       "1        Alemanha  30498.0  26027  92103  98638  202502  149931  171308   \n",
       "2         Argélia      0.0      0      0      0       0       0       0   \n",
       "3  Arábia Saudita      0.0      0      0      0       0       0       0   \n",
       "4       Argentina  12260.0  15022  58137  76121  167473   90855  277507   \n",
       "\n",
       "     1977    1978  ...      2014      2015      2016      2017      2018  \\\n",
       "0       0       0  ...   3033932   2996543   1686226   3241298   3574371   \n",
       "1  201840  668631  ...    483316    358275    606333    315959    516975   \n",
       "2       0       0  ...         0         0        43         0         0   \n",
       "3       0       0  ...         0         0        43         0      3249   \n",
       "4  395615  709813  ...  53815956  48043201  45214862  51770842  52817642   \n",
       "\n",
       "       2019      2020      2021      2022      2023  \n",
       "0   3604038   1701072   2508140   2266827   1732850  \n",
       "1    412794    504168    546967    438595    557947  \n",
       "2         0         0         0         0         0  \n",
       "3         0         0      8761         0       161  \n",
       "4  54527380  66322932  79527959  87519642  83918138  \n",
       "\n",
       "[5 rows x 55 columns]"
      ]
     },
     "execution_count": 5,
     "metadata": {},
     "output_type": "execute_result"
    }
   ],
   "source": [
    "# Pegando apenas as colunas impares que são referentes ao valor importado\n",
    "importacao_valor = importacao.iloc[:, 1::2]\n",
    "# corringindo o nome das colunas\n",
    "importacao_valor.columns = importacao_valor.columns.str[:-2]\n",
    "importacao_valor.head()"
   ]
  },
  {
   "cell_type": "code",
   "execution_count": 6,
   "id": "bcdadffa",
   "metadata": {},
   "outputs": [
    {
     "data": {
      "application/vnd.microsoft.datawrangler.viewer.v0+json": {
       "columns": [
        {
         "name": "index",
         "rawType": "int64",
         "type": "integer"
        },
        {
         "name": "Id",
         "rawType": "int64",
         "type": "integer"
        },
        {
         "name": "1970",
         "rawType": "int64",
         "type": "integer"
        },
        {
         "name": "1971",
         "rawType": "int64",
         "type": "integer"
        },
        {
         "name": "1972",
         "rawType": "int64",
         "type": "integer"
        },
        {
         "name": "1973",
         "rawType": "int64",
         "type": "integer"
        },
        {
         "name": "1974",
         "rawType": "int64",
         "type": "integer"
        },
        {
         "name": "1975",
         "rawType": "int64",
         "type": "integer"
        },
        {
         "name": "1976",
         "rawType": "int64",
         "type": "integer"
        },
        {
         "name": "1977",
         "rawType": "int64",
         "type": "integer"
        },
        {
         "name": "1978",
         "rawType": "int64",
         "type": "integer"
        },
        {
         "name": "1979",
         "rawType": "int64",
         "type": "integer"
        },
        {
         "name": "1980",
         "rawType": "int64",
         "type": "integer"
        },
        {
         "name": "1981",
         "rawType": "int64",
         "type": "integer"
        },
        {
         "name": "1982",
         "rawType": "int64",
         "type": "integer"
        },
        {
         "name": "1983",
         "rawType": "int64",
         "type": "integer"
        },
        {
         "name": "1984",
         "rawType": "int64",
         "type": "integer"
        },
        {
         "name": "1985",
         "rawType": "int64",
         "type": "integer"
        },
        {
         "name": "1986",
         "rawType": "int64",
         "type": "integer"
        },
        {
         "name": "1987",
         "rawType": "int64",
         "type": "integer"
        },
        {
         "name": "1988",
         "rawType": "int64",
         "type": "integer"
        },
        {
         "name": "1989",
         "rawType": "int64",
         "type": "integer"
        },
        {
         "name": "1990",
         "rawType": "int64",
         "type": "integer"
        },
        {
         "name": "1991",
         "rawType": "int64",
         "type": "integer"
        },
        {
         "name": "1992",
         "rawType": "int64",
         "type": "integer"
        },
        {
         "name": "1993",
         "rawType": "int64",
         "type": "integer"
        },
        {
         "name": "1994",
         "rawType": "int64",
         "type": "integer"
        },
        {
         "name": "1995",
         "rawType": "int64",
         "type": "integer"
        },
        {
         "name": "1996",
         "rawType": "int64",
         "type": "integer"
        },
        {
         "name": "1997",
         "rawType": "int64",
         "type": "integer"
        },
        {
         "name": "1998",
         "rawType": "int64",
         "type": "integer"
        },
        {
         "name": "1999",
         "rawType": "int64",
         "type": "integer"
        },
        {
         "name": "2000",
         "rawType": "int64",
         "type": "integer"
        },
        {
         "name": "2001",
         "rawType": "int64",
         "type": "integer"
        },
        {
         "name": "2002",
         "rawType": "int64",
         "type": "integer"
        },
        {
         "name": "2003",
         "rawType": "int64",
         "type": "integer"
        },
        {
         "name": "2004",
         "rawType": "int64",
         "type": "integer"
        },
        {
         "name": "2005",
         "rawType": "int64",
         "type": "integer"
        },
        {
         "name": "2006",
         "rawType": "int64",
         "type": "integer"
        },
        {
         "name": "2007",
         "rawType": "int64",
         "type": "integer"
        },
        {
         "name": "2008",
         "rawType": "int64",
         "type": "integer"
        },
        {
         "name": "2009",
         "rawType": "int64",
         "type": "integer"
        },
        {
         "name": "2010",
         "rawType": "int64",
         "type": "integer"
        },
        {
         "name": "2011",
         "rawType": "int64",
         "type": "integer"
        },
        {
         "name": "2012",
         "rawType": "int64",
         "type": "integer"
        },
        {
         "name": "2013",
         "rawType": "int64",
         "type": "integer"
        },
        {
         "name": "2014",
         "rawType": "int64",
         "type": "integer"
        },
        {
         "name": "2015",
         "rawType": "int64",
         "type": "integer"
        },
        {
         "name": "2016",
         "rawType": "int64",
         "type": "integer"
        },
        {
         "name": "2017",
         "rawType": "int64",
         "type": "integer"
        },
        {
         "name": "2018",
         "rawType": "int64",
         "type": "integer"
        },
        {
         "name": "2019",
         "rawType": "int64",
         "type": "integer"
        },
        {
         "name": "2020",
         "rawType": "int64",
         "type": "integer"
        },
        {
         "name": "2021",
         "rawType": "int64",
         "type": "integer"
        },
        {
         "name": "2022",
         "rawType": "int64",
         "type": "integer"
        },
        {
         "name": "2023",
         "rawType": "int64",
         "type": "integer"
        }
       ],
       "ref": "91a826f9-fb71-4ddf-b90e-eca368b618fd",
       "rows": [
        [
         "0",
         "1",
         "0",
         "0",
         "0",
         "0",
         "0",
         "0",
         "0",
         "0",
         "0",
         "0",
         "0",
         "0",
         "0",
         "0",
         "0",
         "0",
         "0",
         "0",
         "0",
         "0",
         "0",
         "0",
         "0",
         "0",
         "0",
         "0",
         "0",
         "0",
         "0",
         "0",
         "0",
         "42661",
         "32194",
         "157239",
         "303489",
         "407413",
         "358870",
         "386425",
         "315380",
         "493093",
         "966276",
         "507509",
         "722327",
         "475331",
         "722715",
         "743335",
         "578829",
         "1138732",
         "1127053",
         "1092042",
         "627150",
         "859169",
         "738116",
         "522733"
        ],
        [
         "1",
         "2",
         "52297",
         "34606",
         "134438",
         "111523",
         "219173",
         "134354",
         "168134",
         "160926",
         "437831",
         "433478",
         "457033",
         "707194",
         "996948",
         "850055",
         "586645",
         "1069717",
         "2357113",
         "1307519",
         "2029271",
         "2885143",
         "3342223",
         "3096425",
         "2515557",
         "5721360",
         "11047710",
         "11919346",
         "8680860",
         "4867017",
         "3014081",
         "2576557",
         "1164724",
         "909077",
         "759712",
         "573198",
         "420075",
         "253685",
         "314749",
         "234006",
         "293935",
         "56075",
         "192661",
         "198025",
         "113243",
         "114866",
         "115804",
         "95171",
         "158386",
         "83289",
         "142971",
         "101055",
         "136992",
         "106541",
         "92600",
         "102456"
        ],
        [
         "2",
         "3",
         "0",
         "0",
         "0",
         "0",
         "0",
         "0",
         "0",
         "0",
         "0",
         "0",
         "0",
         "0",
         "0",
         "0",
         "0",
         "0",
         "0",
         "0",
         "0",
         "0",
         "0",
         "0",
         "0",
         "0",
         "0",
         "0",
         "0",
         "0",
         "0",
         "0",
         "0",
         "0",
         "0",
         "0",
         "0",
         "0",
         "0",
         "0",
         "0",
         "0",
         "0",
         "0",
         "0",
         "0",
         "0",
         "0",
         "0",
         "0",
         "0",
         "0",
         "0",
         "0",
         "0",
         "0"
        ],
        [
         "3",
         "4",
         "0",
         "0",
         "0",
         "0",
         "0",
         "0",
         "0",
         "0",
         "0",
         "0",
         "0",
         "0",
         "0",
         "0",
         "0",
         "0",
         "0",
         "0",
         "0",
         "0",
         "0",
         "0",
         "0",
         "0",
         "0",
         "0",
         "0",
         "0",
         "0",
         "0",
         "0",
         "0",
         "0",
         "0",
         "0",
         "0",
         "0",
         "0",
         "0",
         "0",
         "0",
         "0",
         "0",
         "0",
         "0",
         "0",
         "0",
         "0",
         "563",
         "0",
         "0",
         "2510",
         "0",
         "8"
        ],
        [
         "4",
         "5",
         "19525",
         "24942",
         "104906",
         "116887",
         "215930",
         "145823",
         "348653",
         "408399",
         "614134",
         "646978",
         "298471",
         "131738",
         "191972",
         "132634",
         "42438",
         "114570",
         "170413",
         "98854",
         "414931",
         "716062",
         "455774",
         "852441",
         "444896",
         "359542",
         "446315",
         "1397904",
         "779008",
         "1013306",
         "1295190",
         "2475780",
         "2724941",
         "2585537",
         "3867336",
         "5720024",
         "10202602",
         "10845213",
         "11939727",
         "15621172",
         "14417761",
         "13902750",
         "16965266",
         "16673491",
         "14613839",
         "12732815",
         "13437321",
         "12465041",
         "14098009",
         "15461740",
         "15221318",
         "16548931",
         "22610267",
         "26869241",
         "27980574",
         "25276991"
        ]
       ],
       "shape": {
        "columns": 55,
        "rows": 5
       }
      },
      "text/html": [
       "<div>\n",
       "<style scoped>\n",
       "    .dataframe tbody tr th:only-of-type {\n",
       "        vertical-align: middle;\n",
       "    }\n",
       "\n",
       "    .dataframe tbody tr th {\n",
       "        vertical-align: top;\n",
       "    }\n",
       "\n",
       "    .dataframe thead th {\n",
       "        text-align: right;\n",
       "    }\n",
       "</style>\n",
       "<table border=\"1\" class=\"dataframe\">\n",
       "  <thead>\n",
       "    <tr style=\"text-align: right;\">\n",
       "      <th></th>\n",
       "      <th>Id</th>\n",
       "      <th>1970</th>\n",
       "      <th>1971</th>\n",
       "      <th>1972</th>\n",
       "      <th>1973</th>\n",
       "      <th>1974</th>\n",
       "      <th>1975</th>\n",
       "      <th>1976</th>\n",
       "      <th>1977</th>\n",
       "      <th>1978</th>\n",
       "      <th>...</th>\n",
       "      <th>2014</th>\n",
       "      <th>2015</th>\n",
       "      <th>2016</th>\n",
       "      <th>2017</th>\n",
       "      <th>2018</th>\n",
       "      <th>2019</th>\n",
       "      <th>2020</th>\n",
       "      <th>2021</th>\n",
       "      <th>2022</th>\n",
       "      <th>2023</th>\n",
       "    </tr>\n",
       "  </thead>\n",
       "  <tbody>\n",
       "    <tr>\n",
       "      <th>0</th>\n",
       "      <td>1</td>\n",
       "      <td>0</td>\n",
       "      <td>0</td>\n",
       "      <td>0</td>\n",
       "      <td>0</td>\n",
       "      <td>0</td>\n",
       "      <td>0</td>\n",
       "      <td>0</td>\n",
       "      <td>0</td>\n",
       "      <td>0</td>\n",
       "      <td>...</td>\n",
       "      <td>722715</td>\n",
       "      <td>743335</td>\n",
       "      <td>578829</td>\n",
       "      <td>1138732</td>\n",
       "      <td>1127053</td>\n",
       "      <td>1092042</td>\n",
       "      <td>627150</td>\n",
       "      <td>859169</td>\n",
       "      <td>738116</td>\n",
       "      <td>522733</td>\n",
       "    </tr>\n",
       "    <tr>\n",
       "      <th>1</th>\n",
       "      <td>2</td>\n",
       "      <td>52297</td>\n",
       "      <td>34606</td>\n",
       "      <td>134438</td>\n",
       "      <td>111523</td>\n",
       "      <td>219173</td>\n",
       "      <td>134354</td>\n",
       "      <td>168134</td>\n",
       "      <td>160926</td>\n",
       "      <td>437831</td>\n",
       "      <td>...</td>\n",
       "      <td>115804</td>\n",
       "      <td>95171</td>\n",
       "      <td>158386</td>\n",
       "      <td>83289</td>\n",
       "      <td>142971</td>\n",
       "      <td>101055</td>\n",
       "      <td>136992</td>\n",
       "      <td>106541</td>\n",
       "      <td>92600</td>\n",
       "      <td>102456</td>\n",
       "    </tr>\n",
       "    <tr>\n",
       "      <th>2</th>\n",
       "      <td>3</td>\n",
       "      <td>0</td>\n",
       "      <td>0</td>\n",
       "      <td>0</td>\n",
       "      <td>0</td>\n",
       "      <td>0</td>\n",
       "      <td>0</td>\n",
       "      <td>0</td>\n",
       "      <td>0</td>\n",
       "      <td>0</td>\n",
       "      <td>...</td>\n",
       "      <td>0</td>\n",
       "      <td>0</td>\n",
       "      <td>0</td>\n",
       "      <td>0</td>\n",
       "      <td>0</td>\n",
       "      <td>0</td>\n",
       "      <td>0</td>\n",
       "      <td>0</td>\n",
       "      <td>0</td>\n",
       "      <td>0</td>\n",
       "    </tr>\n",
       "    <tr>\n",
       "      <th>3</th>\n",
       "      <td>4</td>\n",
       "      <td>0</td>\n",
       "      <td>0</td>\n",
       "      <td>0</td>\n",
       "      <td>0</td>\n",
       "      <td>0</td>\n",
       "      <td>0</td>\n",
       "      <td>0</td>\n",
       "      <td>0</td>\n",
       "      <td>0</td>\n",
       "      <td>...</td>\n",
       "      <td>0</td>\n",
       "      <td>0</td>\n",
       "      <td>0</td>\n",
       "      <td>0</td>\n",
       "      <td>563</td>\n",
       "      <td>0</td>\n",
       "      <td>0</td>\n",
       "      <td>2510</td>\n",
       "      <td>0</td>\n",
       "      <td>8</td>\n",
       "    </tr>\n",
       "    <tr>\n",
       "      <th>4</th>\n",
       "      <td>5</td>\n",
       "      <td>19525</td>\n",
       "      <td>24942</td>\n",
       "      <td>104906</td>\n",
       "      <td>116887</td>\n",
       "      <td>215930</td>\n",
       "      <td>145823</td>\n",
       "      <td>348653</td>\n",
       "      <td>408399</td>\n",
       "      <td>614134</td>\n",
       "      <td>...</td>\n",
       "      <td>13437321</td>\n",
       "      <td>12465041</td>\n",
       "      <td>14098009</td>\n",
       "      <td>15461740</td>\n",
       "      <td>15221318</td>\n",
       "      <td>16548931</td>\n",
       "      <td>22610267</td>\n",
       "      <td>26869241</td>\n",
       "      <td>27980574</td>\n",
       "      <td>25276991</td>\n",
       "    </tr>\n",
       "  </tbody>\n",
       "</table>\n",
       "<p>5 rows × 55 columns</p>\n",
       "</div>"
      ],
      "text/plain": [
       "   Id   1970   1971    1972    1973    1974    1975    1976    1977    1978  \\\n",
       "0   1      0      0       0       0       0       0       0       0       0   \n",
       "1   2  52297  34606  134438  111523  219173  134354  168134  160926  437831   \n",
       "2   3      0      0       0       0       0       0       0       0       0   \n",
       "3   4      0      0       0       0       0       0       0       0       0   \n",
       "4   5  19525  24942  104906  116887  215930  145823  348653  408399  614134   \n",
       "\n",
       "   ...      2014      2015      2016      2017      2018      2019      2020  \\\n",
       "0  ...    722715    743335    578829   1138732   1127053   1092042    627150   \n",
       "1  ...    115804     95171    158386     83289    142971    101055    136992   \n",
       "2  ...         0         0         0         0         0         0         0   \n",
       "3  ...         0         0         0         0       563         0         0   \n",
       "4  ...  13437321  12465041  14098009  15461740  15221318  16548931  22610267   \n",
       "\n",
       "       2021      2022      2023  \n",
       "0    859169    738116    522733  \n",
       "1    106541     92600    102456  \n",
       "2         0         0         0  \n",
       "3      2510         0         8  \n",
       "4  26869241  27980574  25276991  \n",
       "\n",
       "[5 rows x 55 columns]"
      ]
     },
     "execution_count": 6,
     "metadata": {},
     "output_type": "execute_result"
    }
   ],
   "source": [
    "importacao_qtd = importacao.iloc[:, ::2]\n",
    "importacao_qtd.head()"
   ]
  },
  {
   "cell_type": "code",
   "execution_count": 7,
   "id": "b9f8ce6e",
   "metadata": {},
   "outputs": [
    {
     "data": {
      "application/vnd.microsoft.datawrangler.viewer.v0+json": {
       "columns": [
        {
         "name": "index",
         "rawType": "int64",
         "type": "integer"
        },
        {
         "name": "País",
         "rawType": "object",
         "type": "string"
        },
        {
         "name": "2009",
         "rawType": "int64",
         "type": "integer"
        },
        {
         "name": "2010",
         "rawType": "int64",
         "type": "integer"
        },
        {
         "name": "2011",
         "rawType": "int64",
         "type": "integer"
        },
        {
         "name": "2012",
         "rawType": "int64",
         "type": "integer"
        },
        {
         "name": "2013",
         "rawType": "int64",
         "type": "integer"
        },
        {
         "name": "2014",
         "rawType": "int64",
         "type": "integer"
        },
        {
         "name": "2015",
         "rawType": "int64",
         "type": "integer"
        },
        {
         "name": "2016",
         "rawType": "int64",
         "type": "integer"
        },
        {
         "name": "2017",
         "rawType": "int64",
         "type": "integer"
        },
        {
         "name": "2018",
         "rawType": "int64",
         "type": "integer"
        },
        {
         "name": "2019",
         "rawType": "int64",
         "type": "integer"
        },
        {
         "name": "2020",
         "rawType": "int64",
         "type": "integer"
        },
        {
         "name": "2021",
         "rawType": "int64",
         "type": "integer"
        },
        {
         "name": "2022",
         "rawType": "int64",
         "type": "integer"
        },
        {
         "name": "2023",
         "rawType": "int64",
         "type": "integer"
        }
       ],
       "ref": "57aec9eb-73e4-4bf8-9bf9-cce05c846ffe",
       "rows": [
        [
         "0",
         "Africa do Sul",
         "1931449",
         "3600658",
         "2136394",
         "3041449",
         "1985184",
         "3033932",
         "2996543",
         "1686226",
         "3241298",
         "3574371",
         "3604038",
         "1701072",
         "2508140",
         "2266827",
         "1732850"
        ],
        [
         "1",
         "Alemanha",
         "291876",
         "784674",
         "933545",
         "591167",
         "414070",
         "483316",
         "358275",
         "606333",
         "315959",
         "516975",
         "412794",
         "504168",
         "546967",
         "438595",
         "557947"
        ],
        [
         "2",
         "Argélia",
         "0",
         "0",
         "0",
         "0",
         "0",
         "0",
         "0",
         "43",
         "0",
         "0",
         "0",
         "0",
         "0",
         "0",
         "0"
        ],
        [
         "3",
         "Arábia Saudita",
         "0",
         "0",
         "0",
         "0",
         "0",
         "0",
         "0",
         "43",
         "0",
         "3249",
         "0",
         "0",
         "8761",
         "0",
         "161"
        ],
        [
         "4",
         "Argentina",
         "38521731",
         "52126581",
         "58806736",
         "55633562",
         "49524694",
         "53815956",
         "48043201",
         "45214862",
         "51770842",
         "52817642",
         "54527380",
         "66322932",
         "79527959",
         "87519642",
         "83918138"
        ]
       ],
       "shape": {
        "columns": 16,
        "rows": 5
       }
      },
      "text/html": [
       "<div>\n",
       "<style scoped>\n",
       "    .dataframe tbody tr th:only-of-type {\n",
       "        vertical-align: middle;\n",
       "    }\n",
       "\n",
       "    .dataframe tbody tr th {\n",
       "        vertical-align: top;\n",
       "    }\n",
       "\n",
       "    .dataframe thead th {\n",
       "        text-align: right;\n",
       "    }\n",
       "</style>\n",
       "<table border=\"1\" class=\"dataframe\">\n",
       "  <thead>\n",
       "    <tr style=\"text-align: right;\">\n",
       "      <th></th>\n",
       "      <th>País</th>\n",
       "      <th>2009</th>\n",
       "      <th>2010</th>\n",
       "      <th>2011</th>\n",
       "      <th>2012</th>\n",
       "      <th>2013</th>\n",
       "      <th>2014</th>\n",
       "      <th>2015</th>\n",
       "      <th>2016</th>\n",
       "      <th>2017</th>\n",
       "      <th>2018</th>\n",
       "      <th>2019</th>\n",
       "      <th>2020</th>\n",
       "      <th>2021</th>\n",
       "      <th>2022</th>\n",
       "      <th>2023</th>\n",
       "    </tr>\n",
       "  </thead>\n",
       "  <tbody>\n",
       "    <tr>\n",
       "      <th>0</th>\n",
       "      <td>Africa do Sul</td>\n",
       "      <td>1931449</td>\n",
       "      <td>3600658</td>\n",
       "      <td>2136394</td>\n",
       "      <td>3041449</td>\n",
       "      <td>1985184</td>\n",
       "      <td>3033932</td>\n",
       "      <td>2996543</td>\n",
       "      <td>1686226</td>\n",
       "      <td>3241298</td>\n",
       "      <td>3574371</td>\n",
       "      <td>3604038</td>\n",
       "      <td>1701072</td>\n",
       "      <td>2508140</td>\n",
       "      <td>2266827</td>\n",
       "      <td>1732850</td>\n",
       "    </tr>\n",
       "    <tr>\n",
       "      <th>1</th>\n",
       "      <td>Alemanha</td>\n",
       "      <td>291876</td>\n",
       "      <td>784674</td>\n",
       "      <td>933545</td>\n",
       "      <td>591167</td>\n",
       "      <td>414070</td>\n",
       "      <td>483316</td>\n",
       "      <td>358275</td>\n",
       "      <td>606333</td>\n",
       "      <td>315959</td>\n",
       "      <td>516975</td>\n",
       "      <td>412794</td>\n",
       "      <td>504168</td>\n",
       "      <td>546967</td>\n",
       "      <td>438595</td>\n",
       "      <td>557947</td>\n",
       "    </tr>\n",
       "    <tr>\n",
       "      <th>2</th>\n",
       "      <td>Argélia</td>\n",
       "      <td>0</td>\n",
       "      <td>0</td>\n",
       "      <td>0</td>\n",
       "      <td>0</td>\n",
       "      <td>0</td>\n",
       "      <td>0</td>\n",
       "      <td>0</td>\n",
       "      <td>43</td>\n",
       "      <td>0</td>\n",
       "      <td>0</td>\n",
       "      <td>0</td>\n",
       "      <td>0</td>\n",
       "      <td>0</td>\n",
       "      <td>0</td>\n",
       "      <td>0</td>\n",
       "    </tr>\n",
       "    <tr>\n",
       "      <th>3</th>\n",
       "      <td>Arábia Saudita</td>\n",
       "      <td>0</td>\n",
       "      <td>0</td>\n",
       "      <td>0</td>\n",
       "      <td>0</td>\n",
       "      <td>0</td>\n",
       "      <td>0</td>\n",
       "      <td>0</td>\n",
       "      <td>43</td>\n",
       "      <td>0</td>\n",
       "      <td>3249</td>\n",
       "      <td>0</td>\n",
       "      <td>0</td>\n",
       "      <td>8761</td>\n",
       "      <td>0</td>\n",
       "      <td>161</td>\n",
       "    </tr>\n",
       "    <tr>\n",
       "      <th>4</th>\n",
       "      <td>Argentina</td>\n",
       "      <td>38521731</td>\n",
       "      <td>52126581</td>\n",
       "      <td>58806736</td>\n",
       "      <td>55633562</td>\n",
       "      <td>49524694</td>\n",
       "      <td>53815956</td>\n",
       "      <td>48043201</td>\n",
       "      <td>45214862</td>\n",
       "      <td>51770842</td>\n",
       "      <td>52817642</td>\n",
       "      <td>54527380</td>\n",
       "      <td>66322932</td>\n",
       "      <td>79527959</td>\n",
       "      <td>87519642</td>\n",
       "      <td>83918138</td>\n",
       "    </tr>\n",
       "  </tbody>\n",
       "</table>\n",
       "</div>"
      ],
      "text/plain": [
       "             País      2009      2010      2011      2012      2013      2014  \\\n",
       "0   Africa do Sul   1931449   3600658   2136394   3041449   1985184   3033932   \n",
       "1        Alemanha    291876    784674    933545    591167    414070    483316   \n",
       "2         Argélia         0         0         0         0         0         0   \n",
       "3  Arábia Saudita         0         0         0         0         0         0   \n",
       "4       Argentina  38521731  52126581  58806736  55633562  49524694  53815956   \n",
       "\n",
       "       2015      2016      2017      2018      2019      2020      2021  \\\n",
       "0   2996543   1686226   3241298   3574371   3604038   1701072   2508140   \n",
       "1    358275    606333    315959    516975    412794    504168    546967   \n",
       "2         0        43         0         0         0         0         0   \n",
       "3         0        43         0      3249         0         0      8761   \n",
       "4  48043201  45214862  51770842  52817642  54527380  66322932  79527959   \n",
       "\n",
       "       2022      2023  \n",
       "0   2266827   1732850  \n",
       "1    438595    557947  \n",
       "2         0         0  \n",
       "3         0       161  \n",
       "4  87519642  83918138  "
      ]
     },
     "execution_count": 7,
     "metadata": {},
     "output_type": "execute_result"
    }
   ],
   "source": [
    "importacao_final_valor = pd.concat([importacao_valor.iloc[:, :1], importacao_valor.iloc[:, -15:]], axis=1)\n",
    "importacao_final_valor.head(10)\n",
    "importacao_final_valor = importacao_final_valor.rename(columns={'Pa': 'País'})\n",
    "\n",
    "importacao_qtd = pd.concat([importacao.iloc[:, :2], importacao_qtd.iloc[:, -15:]], axis=1)\n",
    "importacao_qtd.head(10)\n",
    "\n",
    "importacao_final_valor.head(5)\n"
   ]
  },
  {
   "cell_type": "code",
   "execution_count": 8,
   "id": "09638015",
   "metadata": {},
   "outputs": [
    {
     "data": {
      "application/vnd.microsoft.datawrangler.viewer.v0+json": {
       "columns": [
        {
         "name": "index",
         "rawType": "int64",
         "type": "integer"
        },
        {
         "name": "Id",
         "rawType": "int64",
         "type": "integer"
        },
        {
         "name": "País",
         "rawType": "object",
         "type": "string"
        },
        {
         "name": "2009",
         "rawType": "int64",
         "type": "integer"
        },
        {
         "name": "2010",
         "rawType": "int64",
         "type": "integer"
        },
        {
         "name": "2011",
         "rawType": "int64",
         "type": "integer"
        },
        {
         "name": "2012",
         "rawType": "int64",
         "type": "integer"
        },
        {
         "name": "2013",
         "rawType": "int64",
         "type": "integer"
        },
        {
         "name": "2014",
         "rawType": "int64",
         "type": "integer"
        },
        {
         "name": "2015",
         "rawType": "int64",
         "type": "integer"
        },
        {
         "name": "2016",
         "rawType": "int64",
         "type": "integer"
        },
        {
         "name": "2017",
         "rawType": "int64",
         "type": "integer"
        },
        {
         "name": "2018",
         "rawType": "int64",
         "type": "integer"
        },
        {
         "name": "2019",
         "rawType": "int64",
         "type": "integer"
        },
        {
         "name": "2020",
         "rawType": "int64",
         "type": "integer"
        },
        {
         "name": "2021",
         "rawType": "int64",
         "type": "integer"
        },
        {
         "name": "2022",
         "rawType": "int64",
         "type": "integer"
        },
        {
         "name": "2023",
         "rawType": "int64",
         "type": "integer"
        }
       ],
       "ref": "869ec3e9-136c-42ed-83ff-08db05f80f74",
       "rows": [
        [
         "0",
         "1",
         "Africa do Sul",
         "493093",
         "966276",
         "507509",
         "722327",
         "475331",
         "722715",
         "743335",
         "578829",
         "1138732",
         "1127053",
         "1092042",
         "627150",
         "859169",
         "738116",
         "522733"
        ],
        [
         "1",
         "2",
         "Alemanha",
         "56075",
         "192661",
         "198025",
         "113243",
         "114866",
         "115804",
         "95171",
         "158386",
         "83289",
         "142971",
         "101055",
         "136992",
         "106541",
         "92600",
         "102456"
        ],
        [
         "2",
         "3",
         "Argélia",
         "0",
         "0",
         "0",
         "0",
         "0",
         "0",
         "0",
         "0",
         "0",
         "0",
         "0",
         "0",
         "0",
         "0",
         "0"
        ],
        [
         "3",
         "4",
         "Arábia Saudita",
         "0",
         "0",
         "0",
         "0",
         "0",
         "0",
         "0",
         "0",
         "0",
         "563",
         "0",
         "0",
         "2510",
         "0",
         "8"
        ],
        [
         "4",
         "5",
         "Argentina",
         "13902750",
         "16965266",
         "16673491",
         "14613839",
         "12732815",
         "13437321",
         "12465041",
         "14098009",
         "15461740",
         "15221318",
         "16548931",
         "22610267",
         "26869241",
         "27980574",
         "25276991"
        ]
       ],
       "shape": {
        "columns": 17,
        "rows": 5
       }
      },
      "text/html": [
       "<div>\n",
       "<style scoped>\n",
       "    .dataframe tbody tr th:only-of-type {\n",
       "        vertical-align: middle;\n",
       "    }\n",
       "\n",
       "    .dataframe tbody tr th {\n",
       "        vertical-align: top;\n",
       "    }\n",
       "\n",
       "    .dataframe thead th {\n",
       "        text-align: right;\n",
       "    }\n",
       "</style>\n",
       "<table border=\"1\" class=\"dataframe\">\n",
       "  <thead>\n",
       "    <tr style=\"text-align: right;\">\n",
       "      <th></th>\n",
       "      <th>Id</th>\n",
       "      <th>País</th>\n",
       "      <th>2009</th>\n",
       "      <th>2010</th>\n",
       "      <th>2011</th>\n",
       "      <th>2012</th>\n",
       "      <th>2013</th>\n",
       "      <th>2014</th>\n",
       "      <th>2015</th>\n",
       "      <th>2016</th>\n",
       "      <th>2017</th>\n",
       "      <th>2018</th>\n",
       "      <th>2019</th>\n",
       "      <th>2020</th>\n",
       "      <th>2021</th>\n",
       "      <th>2022</th>\n",
       "      <th>2023</th>\n",
       "    </tr>\n",
       "  </thead>\n",
       "  <tbody>\n",
       "    <tr>\n",
       "      <th>0</th>\n",
       "      <td>1</td>\n",
       "      <td>Africa do Sul</td>\n",
       "      <td>493093</td>\n",
       "      <td>966276</td>\n",
       "      <td>507509</td>\n",
       "      <td>722327</td>\n",
       "      <td>475331</td>\n",
       "      <td>722715</td>\n",
       "      <td>743335</td>\n",
       "      <td>578829</td>\n",
       "      <td>1138732</td>\n",
       "      <td>1127053</td>\n",
       "      <td>1092042</td>\n",
       "      <td>627150</td>\n",
       "      <td>859169</td>\n",
       "      <td>738116</td>\n",
       "      <td>522733</td>\n",
       "    </tr>\n",
       "    <tr>\n",
       "      <th>1</th>\n",
       "      <td>2</td>\n",
       "      <td>Alemanha</td>\n",
       "      <td>56075</td>\n",
       "      <td>192661</td>\n",
       "      <td>198025</td>\n",
       "      <td>113243</td>\n",
       "      <td>114866</td>\n",
       "      <td>115804</td>\n",
       "      <td>95171</td>\n",
       "      <td>158386</td>\n",
       "      <td>83289</td>\n",
       "      <td>142971</td>\n",
       "      <td>101055</td>\n",
       "      <td>136992</td>\n",
       "      <td>106541</td>\n",
       "      <td>92600</td>\n",
       "      <td>102456</td>\n",
       "    </tr>\n",
       "    <tr>\n",
       "      <th>2</th>\n",
       "      <td>3</td>\n",
       "      <td>Argélia</td>\n",
       "      <td>0</td>\n",
       "      <td>0</td>\n",
       "      <td>0</td>\n",
       "      <td>0</td>\n",
       "      <td>0</td>\n",
       "      <td>0</td>\n",
       "      <td>0</td>\n",
       "      <td>0</td>\n",
       "      <td>0</td>\n",
       "      <td>0</td>\n",
       "      <td>0</td>\n",
       "      <td>0</td>\n",
       "      <td>0</td>\n",
       "      <td>0</td>\n",
       "      <td>0</td>\n",
       "    </tr>\n",
       "    <tr>\n",
       "      <th>3</th>\n",
       "      <td>4</td>\n",
       "      <td>Arábia Saudita</td>\n",
       "      <td>0</td>\n",
       "      <td>0</td>\n",
       "      <td>0</td>\n",
       "      <td>0</td>\n",
       "      <td>0</td>\n",
       "      <td>0</td>\n",
       "      <td>0</td>\n",
       "      <td>0</td>\n",
       "      <td>0</td>\n",
       "      <td>563</td>\n",
       "      <td>0</td>\n",
       "      <td>0</td>\n",
       "      <td>2510</td>\n",
       "      <td>0</td>\n",
       "      <td>8</td>\n",
       "    </tr>\n",
       "    <tr>\n",
       "      <th>4</th>\n",
       "      <td>5</td>\n",
       "      <td>Argentina</td>\n",
       "      <td>13902750</td>\n",
       "      <td>16965266</td>\n",
       "      <td>16673491</td>\n",
       "      <td>14613839</td>\n",
       "      <td>12732815</td>\n",
       "      <td>13437321</td>\n",
       "      <td>12465041</td>\n",
       "      <td>14098009</td>\n",
       "      <td>15461740</td>\n",
       "      <td>15221318</td>\n",
       "      <td>16548931</td>\n",
       "      <td>22610267</td>\n",
       "      <td>26869241</td>\n",
       "      <td>27980574</td>\n",
       "      <td>25276991</td>\n",
       "    </tr>\n",
       "  </tbody>\n",
       "</table>\n",
       "</div>"
      ],
      "text/plain": [
       "   Id            País      2009      2010      2011      2012      2013  \\\n",
       "0   1   Africa do Sul    493093    966276    507509    722327    475331   \n",
       "1   2        Alemanha     56075    192661    198025    113243    114866   \n",
       "2   3         Argélia         0         0         0         0         0   \n",
       "3   4  Arábia Saudita         0         0         0         0         0   \n",
       "4   5       Argentina  13902750  16965266  16673491  14613839  12732815   \n",
       "\n",
       "       2014      2015      2016      2017      2018      2019      2020  \\\n",
       "0    722715    743335    578829   1138732   1127053   1092042    627150   \n",
       "1    115804     95171    158386     83289    142971    101055    136992   \n",
       "2         0         0         0         0         0         0         0   \n",
       "3         0         0         0         0       563         0         0   \n",
       "4  13437321  12465041  14098009  15461740  15221318  16548931  22610267   \n",
       "\n",
       "       2021      2022      2023  \n",
       "0    859169    738116    522733  \n",
       "1    106541     92600    102456  \n",
       "2         0         0         0  \n",
       "3      2510         0         8  \n",
       "4  26869241  27980574  25276991  "
      ]
     },
     "execution_count": 8,
     "metadata": {},
     "output_type": "execute_result"
    }
   ],
   "source": [
    "importacao_qtd.head(5)"
   ]
  },
  {
   "cell_type": "code",
   "execution_count": 9,
   "id": "60447db2",
   "metadata": {},
   "outputs": [],
   "source": [
    "# Melt \n",
    "importacao_melt_valor = pd.melt(\n",
    "    importacao_final_valor,\n",
    "    id_vars=['País'],\n",
    "    value_vars= importacao_final_valor.iloc[:,-15:],\n",
    "    var_name='Ano',\n",
    "    value_name='Valor(US$)',\n",
    ")\n",
    "\n",
    "importacao_melt_qtd = pd.melt(\n",
    "    importacao_qtd,\n",
    "    id_vars=['País'],\n",
    "    value_vars= importacao_qtd.iloc[:,-15:],\n",
    "    var_name='Ano',\n",
    "    value_name='Quantidade',\n",
    ")\n"
   ]
  },
  {
   "cell_type": "code",
   "execution_count": 10,
   "id": "dd335528",
   "metadata": {},
   "outputs": [
    {
     "data": {
      "application/vnd.microsoft.datawrangler.viewer.v0+json": {
       "columns": [
        {
         "name": "index",
         "rawType": "int64",
         "type": "integer"
        },
        {
         "name": "País",
         "rawType": "object",
         "type": "string"
        },
        {
         "name": "Ano",
         "rawType": "object",
         "type": "string"
        },
        {
         "name": "Quantidade",
         "rawType": "int64",
         "type": "integer"
        }
       ],
       "ref": "c876cdf5-8c29-4105-8387-d6802f5682e1",
       "rows": [
        [
         "0",
         "Africa do Sul",
         "2009",
         "493093"
        ],
        [
         "1",
         "Alemanha",
         "2009",
         "56075"
        ],
        [
         "2",
         "Argélia",
         "2009",
         "0"
        ],
        [
         "3",
         "Arábia Saudita",
         "2009",
         "0"
        ],
        [
         "4",
         "Argentina",
         "2009",
         "13902750"
        ]
       ],
       "shape": {
        "columns": 3,
        "rows": 5
       }
      },
      "text/html": [
       "<div>\n",
       "<style scoped>\n",
       "    .dataframe tbody tr th:only-of-type {\n",
       "        vertical-align: middle;\n",
       "    }\n",
       "\n",
       "    .dataframe tbody tr th {\n",
       "        vertical-align: top;\n",
       "    }\n",
       "\n",
       "    .dataframe thead th {\n",
       "        text-align: right;\n",
       "    }\n",
       "</style>\n",
       "<table border=\"1\" class=\"dataframe\">\n",
       "  <thead>\n",
       "    <tr style=\"text-align: right;\">\n",
       "      <th></th>\n",
       "      <th>País</th>\n",
       "      <th>Ano</th>\n",
       "      <th>Quantidade</th>\n",
       "    </tr>\n",
       "  </thead>\n",
       "  <tbody>\n",
       "    <tr>\n",
       "      <th>0</th>\n",
       "      <td>Africa do Sul</td>\n",
       "      <td>2009</td>\n",
       "      <td>493093</td>\n",
       "    </tr>\n",
       "    <tr>\n",
       "      <th>1</th>\n",
       "      <td>Alemanha</td>\n",
       "      <td>2009</td>\n",
       "      <td>56075</td>\n",
       "    </tr>\n",
       "    <tr>\n",
       "      <th>2</th>\n",
       "      <td>Argélia</td>\n",
       "      <td>2009</td>\n",
       "      <td>0</td>\n",
       "    </tr>\n",
       "    <tr>\n",
       "      <th>3</th>\n",
       "      <td>Arábia Saudita</td>\n",
       "      <td>2009</td>\n",
       "      <td>0</td>\n",
       "    </tr>\n",
       "    <tr>\n",
       "      <th>4</th>\n",
       "      <td>Argentina</td>\n",
       "      <td>2009</td>\n",
       "      <td>13902750</td>\n",
       "    </tr>\n",
       "  </tbody>\n",
       "</table>\n",
       "</div>"
      ],
      "text/plain": [
       "             País   Ano  Quantidade\n",
       "0   Africa do Sul  2009      493093\n",
       "1        Alemanha  2009       56075\n",
       "2         Argélia  2009           0\n",
       "3  Arábia Saudita  2009           0\n",
       "4       Argentina  2009    13902750"
      ]
     },
     "execution_count": 10,
     "metadata": {},
     "output_type": "execute_result"
    }
   ],
   "source": [
    "importacao_melt_qtd.head()"
   ]
  },
  {
   "cell_type": "code",
   "execution_count": 11,
   "id": "bc4dd097",
   "metadata": {},
   "outputs": [
    {
     "data": {
      "application/vnd.microsoft.datawrangler.viewer.v0+json": {
       "columns": [
        {
         "name": "index",
         "rawType": "int64",
         "type": "integer"
        },
        {
         "name": "País",
         "rawType": "object",
         "type": "string"
        },
        {
         "name": "Ano",
         "rawType": "object",
         "type": "string"
        },
        {
         "name": "Valor(US$)",
         "rawType": "int64",
         "type": "integer"
        }
       ],
       "ref": "cfd44263-d1fd-4cf6-b9b7-be1aaa01b27c",
       "rows": [
        [
         "0",
         "Africa do Sul",
         "2009",
         "1931449"
        ],
        [
         "1",
         "Alemanha",
         "2009",
         "291876"
        ],
        [
         "2",
         "Argélia",
         "2009",
         "0"
        ],
        [
         "3",
         "Arábia Saudita",
         "2009",
         "0"
        ],
        [
         "4",
         "Argentina",
         "2009",
         "38521731"
        ]
       ],
       "shape": {
        "columns": 3,
        "rows": 5
       }
      },
      "text/html": [
       "<div>\n",
       "<style scoped>\n",
       "    .dataframe tbody tr th:only-of-type {\n",
       "        vertical-align: middle;\n",
       "    }\n",
       "\n",
       "    .dataframe tbody tr th {\n",
       "        vertical-align: top;\n",
       "    }\n",
       "\n",
       "    .dataframe thead th {\n",
       "        text-align: right;\n",
       "    }\n",
       "</style>\n",
       "<table border=\"1\" class=\"dataframe\">\n",
       "  <thead>\n",
       "    <tr style=\"text-align: right;\">\n",
       "      <th></th>\n",
       "      <th>País</th>\n",
       "      <th>Ano</th>\n",
       "      <th>Valor(US$)</th>\n",
       "    </tr>\n",
       "  </thead>\n",
       "  <tbody>\n",
       "    <tr>\n",
       "      <th>0</th>\n",
       "      <td>Africa do Sul</td>\n",
       "      <td>2009</td>\n",
       "      <td>1931449</td>\n",
       "    </tr>\n",
       "    <tr>\n",
       "      <th>1</th>\n",
       "      <td>Alemanha</td>\n",
       "      <td>2009</td>\n",
       "      <td>291876</td>\n",
       "    </tr>\n",
       "    <tr>\n",
       "      <th>2</th>\n",
       "      <td>Argélia</td>\n",
       "      <td>2009</td>\n",
       "      <td>0</td>\n",
       "    </tr>\n",
       "    <tr>\n",
       "      <th>3</th>\n",
       "      <td>Arábia Saudita</td>\n",
       "      <td>2009</td>\n",
       "      <td>0</td>\n",
       "    </tr>\n",
       "    <tr>\n",
       "      <th>4</th>\n",
       "      <td>Argentina</td>\n",
       "      <td>2009</td>\n",
       "      <td>38521731</td>\n",
       "    </tr>\n",
       "  </tbody>\n",
       "</table>\n",
       "</div>"
      ],
      "text/plain": [
       "             País   Ano  Valor(US$)\n",
       "0   Africa do Sul  2009     1931449\n",
       "1        Alemanha  2009      291876\n",
       "2         Argélia  2009           0\n",
       "3  Arábia Saudita  2009           0\n",
       "4       Argentina  2009    38521731"
      ]
     },
     "execution_count": 11,
     "metadata": {},
     "output_type": "execute_result"
    }
   ],
   "source": [
    "importacao_melt_valor.head()"
   ]
  },
  {
   "cell_type": "code",
   "execution_count": 12,
   "id": "166f9555",
   "metadata": {},
   "outputs": [
    {
     "data": {
      "application/vnd.microsoft.datawrangler.viewer.v0+json": {
       "columns": [
        {
         "name": "index",
         "rawType": "int64",
         "type": "integer"
        },
        {
         "name": "País",
         "rawType": "object",
         "type": "string"
        },
        {
         "name": "Ano",
         "rawType": "object",
         "type": "string"
        },
        {
         "name": "Quantidade",
         "rawType": "int64",
         "type": "integer"
        },
        {
         "name": "Valor(US$)",
         "rawType": "int64",
         "type": "integer"
        }
       ],
       "ref": "46fa2098-45ef-4b5b-96a8-ba4ba2e89e37",
       "rows": [
        [
         "0",
         "Africa do Sul",
         "2009",
         "493093",
         "1931449"
        ],
        [
         "1",
         "Alemanha",
         "2009",
         "56075",
         "291876"
        ],
        [
         "2",
         "Argélia",
         "2009",
         "0",
         "0"
        ],
        [
         "3",
         "Arábia Saudita",
         "2009",
         "0",
         "0"
        ],
        [
         "4",
         "Argentina",
         "2009",
         "13902750",
         "38521731"
        ]
       ],
       "shape": {
        "columns": 4,
        "rows": 5
       }
      },
      "text/html": [
       "<div>\n",
       "<style scoped>\n",
       "    .dataframe tbody tr th:only-of-type {\n",
       "        vertical-align: middle;\n",
       "    }\n",
       "\n",
       "    .dataframe tbody tr th {\n",
       "        vertical-align: top;\n",
       "    }\n",
       "\n",
       "    .dataframe thead th {\n",
       "        text-align: right;\n",
       "    }\n",
       "</style>\n",
       "<table border=\"1\" class=\"dataframe\">\n",
       "  <thead>\n",
       "    <tr style=\"text-align: right;\">\n",
       "      <th></th>\n",
       "      <th>País</th>\n",
       "      <th>Ano</th>\n",
       "      <th>Quantidade</th>\n",
       "      <th>Valor(US$)</th>\n",
       "    </tr>\n",
       "  </thead>\n",
       "  <tbody>\n",
       "    <tr>\n",
       "      <th>0</th>\n",
       "      <td>Africa do Sul</td>\n",
       "      <td>2009</td>\n",
       "      <td>493093</td>\n",
       "      <td>1931449</td>\n",
       "    </tr>\n",
       "    <tr>\n",
       "      <th>1</th>\n",
       "      <td>Alemanha</td>\n",
       "      <td>2009</td>\n",
       "      <td>56075</td>\n",
       "      <td>291876</td>\n",
       "    </tr>\n",
       "    <tr>\n",
       "      <th>2</th>\n",
       "      <td>Argélia</td>\n",
       "      <td>2009</td>\n",
       "      <td>0</td>\n",
       "      <td>0</td>\n",
       "    </tr>\n",
       "    <tr>\n",
       "      <th>3</th>\n",
       "      <td>Arábia Saudita</td>\n",
       "      <td>2009</td>\n",
       "      <td>0</td>\n",
       "      <td>0</td>\n",
       "    </tr>\n",
       "    <tr>\n",
       "      <th>4</th>\n",
       "      <td>Argentina</td>\n",
       "      <td>2009</td>\n",
       "      <td>13902750</td>\n",
       "      <td>38521731</td>\n",
       "    </tr>\n",
       "  </tbody>\n",
       "</table>\n",
       "</div>"
      ],
      "text/plain": [
       "             País   Ano  Quantidade  Valor(US$)\n",
       "0   Africa do Sul  2009      493093     1931449\n",
       "1        Alemanha  2009       56075      291876\n",
       "2         Argélia  2009           0           0\n",
       "3  Arábia Saudita  2009           0           0\n",
       "4       Argentina  2009    13902750    38521731"
      ]
     },
     "execution_count": 12,
     "metadata": {},
     "output_type": "execute_result"
    }
   ],
   "source": [
    "#unindo as tabelas de quantidade importada e valor importado\n",
    "importacao = pd.merge(importacao_melt_qtd,importacao_melt_valor,on =['País','Ano'])\n",
    "importacao.head()"
   ]
  },
  {
   "cell_type": "code",
   "execution_count": 13,
   "id": "c1cb568c",
   "metadata": {},
   "outputs": [],
   "source": [
    "importacao = importacao.set_index('País')"
   ]
  },
  {
   "cell_type": "code",
   "execution_count": 14,
   "id": "26ddf792",
   "metadata": {},
   "outputs": [
    {
     "name": "stdout",
     "output_type": "stream",
     "text": [
      "YF.download() has changed argument auto_adjust default to True\n"
     ]
    },
    {
     "name": "stderr",
     "output_type": "stream",
     "text": [
      "[*********************100%***********************]  1 of 1 completed\n"
     ]
    },
    {
     "data": {
      "application/vnd.microsoft.datawrangler.viewer.v0+json": {
       "columns": [
        {
         "name": "index",
         "rawType": "int64",
         "type": "integer"
        },
        {
         "name": "Ano",
         "rawType": "int32",
         "type": "integer"
        },
        {
         "name": "Cotação Média (USD-BRL)",
         "rawType": "float64",
         "type": "float"
        }
       ],
       "ref": "168a3c19-e362-4ea2-9ee5-b01dbfc956b4",
       "rows": [
        [
         "0",
         "2009",
         "1.9888507714567258"
        ],
        [
         "1",
         "2010",
         "1.75473153591156"
        ],
        [
         "2",
         "2011",
         "1.6691803117516417"
        ],
        [
         "3",
         "2012",
         "1.9525773959141581"
        ],
        [
         "4",
         "2013",
         "2.154575287145077"
        ]
       ],
       "shape": {
        "columns": 2,
        "rows": 5
       }
      },
      "text/html": [
       "<div>\n",
       "<style scoped>\n",
       "    .dataframe tbody tr th:only-of-type {\n",
       "        vertical-align: middle;\n",
       "    }\n",
       "\n",
       "    .dataframe tbody tr th {\n",
       "        vertical-align: top;\n",
       "    }\n",
       "\n",
       "    .dataframe thead th {\n",
       "        text-align: right;\n",
       "    }\n",
       "</style>\n",
       "<table border=\"1\" class=\"dataframe\">\n",
       "  <thead>\n",
       "    <tr style=\"text-align: right;\">\n",
       "      <th></th>\n",
       "      <th>Ano</th>\n",
       "      <th>Cotação Média (USD-BRL)</th>\n",
       "    </tr>\n",
       "  </thead>\n",
       "  <tbody>\n",
       "    <tr>\n",
       "      <th>0</th>\n",
       "      <td>2009</td>\n",
       "      <td>1.988851</td>\n",
       "    </tr>\n",
       "    <tr>\n",
       "      <th>1</th>\n",
       "      <td>2010</td>\n",
       "      <td>1.754732</td>\n",
       "    </tr>\n",
       "    <tr>\n",
       "      <th>2</th>\n",
       "      <td>2011</td>\n",
       "      <td>1.669180</td>\n",
       "    </tr>\n",
       "    <tr>\n",
       "      <th>3</th>\n",
       "      <td>2012</td>\n",
       "      <td>1.952577</td>\n",
       "    </tr>\n",
       "    <tr>\n",
       "      <th>4</th>\n",
       "      <td>2013</td>\n",
       "      <td>2.154575</td>\n",
       "    </tr>\n",
       "  </tbody>\n",
       "</table>\n",
       "</div>"
      ],
      "text/plain": [
       "    Ano  Cotação Média (USD-BRL)\n",
       "0  2009                 1.988851\n",
       "1  2010                 1.754732\n",
       "2  2011                 1.669180\n",
       "3  2012                 1.952577\n",
       "4  2013                 2.154575"
      ]
     },
     "execution_count": 14,
     "metadata": {},
     "output_type": "execute_result"
    }
   ],
   "source": [
    "import yfinance as yf\n",
    "import pandas as pd\n",
    "# Baixar dados do USD-BRL\n",
    "dolar_yahoo = yf.download(\"USDBRL=X\", start=\"2009-01-01\")['Close']\n",
    "\n",
    "# Converter para DataFrame\n",
    "dolar_yahoo = dolar_yahoo.reset_index()\n",
    "dolar_yahoo.columns = ['data', 'cotacao']\n",
    "\n",
    "# Converter 'data' para datetime e extrair o ano\n",
    "dolar_yahoo['data'] = pd.to_datetime(dolar_yahoo['data'])\n",
    "dolar_yahoo['ano'] = dolar_yahoo['data'].dt.year\n",
    "\n",
    "# Calcular média anual\n",
    "media_anual = dolar_yahoo.groupby('ano')['cotacao'].mean().reset_index()\n",
    "\n",
    "# Saída formatada\n",
    "media_anual.columns = ['Ano', 'Cotação Média (USD-BRL)']\n",
    "\n",
    "media_anual.head()"
   ]
  },
  {
   "cell_type": "code",
   "execution_count": 15,
   "id": "5a06622e",
   "metadata": {},
   "outputs": [],
   "source": [
    "importacao['Ano'] = importacao['Ano'].astype(int)"
   ]
  },
  {
   "cell_type": "code",
   "execution_count": 16,
   "id": "01f22b13",
   "metadata": {},
   "outputs": [
    {
     "data": {
      "application/vnd.microsoft.datawrangler.viewer.v0+json": {
       "columns": [
        {
         "name": "index",
         "rawType": "int64",
         "type": "integer"
        },
        {
         "name": "Ano",
         "rawType": "int64",
         "type": "integer"
        },
        {
         "name": "Quantidade",
         "rawType": "int64",
         "type": "integer"
        },
        {
         "name": "Valor(US$)",
         "rawType": "int64",
         "type": "integer"
        },
        {
         "name": "Cotação Média (USD-BRL)",
         "rawType": "float64",
         "type": "float"
        }
       ],
       "ref": "e3b4669c-93cd-43ee-84c8-784bdee59a4b",
       "rows": [
        [
         "0",
         "2009",
         "493093",
         "1931449",
         "1.9888507714567258"
        ],
        [
         "1",
         "2009",
         "56075",
         "291876",
         "1.9888507714567258"
        ],
        [
         "2",
         "2009",
         "0",
         "0",
         "1.9888507714567258"
        ],
        [
         "3",
         "2009",
         "0",
         "0",
         "1.9888507714567258"
        ],
        [
         "4",
         "2009",
         "13902750",
         "38521731",
         "1.9888507714567258"
        ]
       ],
       "shape": {
        "columns": 4,
        "rows": 5
       }
      },
      "text/html": [
       "<div>\n",
       "<style scoped>\n",
       "    .dataframe tbody tr th:only-of-type {\n",
       "        vertical-align: middle;\n",
       "    }\n",
       "\n",
       "    .dataframe tbody tr th {\n",
       "        vertical-align: top;\n",
       "    }\n",
       "\n",
       "    .dataframe thead th {\n",
       "        text-align: right;\n",
       "    }\n",
       "</style>\n",
       "<table border=\"1\" class=\"dataframe\">\n",
       "  <thead>\n",
       "    <tr style=\"text-align: right;\">\n",
       "      <th></th>\n",
       "      <th>Ano</th>\n",
       "      <th>Quantidade</th>\n",
       "      <th>Valor(US$)</th>\n",
       "      <th>Cotação Média (USD-BRL)</th>\n",
       "    </tr>\n",
       "  </thead>\n",
       "  <tbody>\n",
       "    <tr>\n",
       "      <th>0</th>\n",
       "      <td>2009</td>\n",
       "      <td>493093</td>\n",
       "      <td>1931449</td>\n",
       "      <td>1.988851</td>\n",
       "    </tr>\n",
       "    <tr>\n",
       "      <th>1</th>\n",
       "      <td>2009</td>\n",
       "      <td>56075</td>\n",
       "      <td>291876</td>\n",
       "      <td>1.988851</td>\n",
       "    </tr>\n",
       "    <tr>\n",
       "      <th>2</th>\n",
       "      <td>2009</td>\n",
       "      <td>0</td>\n",
       "      <td>0</td>\n",
       "      <td>1.988851</td>\n",
       "    </tr>\n",
       "    <tr>\n",
       "      <th>3</th>\n",
       "      <td>2009</td>\n",
       "      <td>0</td>\n",
       "      <td>0</td>\n",
       "      <td>1.988851</td>\n",
       "    </tr>\n",
       "    <tr>\n",
       "      <th>4</th>\n",
       "      <td>2009</td>\n",
       "      <td>13902750</td>\n",
       "      <td>38521731</td>\n",
       "      <td>1.988851</td>\n",
       "    </tr>\n",
       "  </tbody>\n",
       "</table>\n",
       "</div>"
      ],
      "text/plain": [
       "    Ano  Quantidade  Valor(US$)  Cotação Média (USD-BRL)\n",
       "0  2009      493093     1931449                 1.988851\n",
       "1  2009       56075      291876                 1.988851\n",
       "2  2009           0           0                 1.988851\n",
       "3  2009           0           0                 1.988851\n",
       "4  2009    13902750    38521731                 1.988851"
      ]
     },
     "execution_count": 16,
     "metadata": {},
     "output_type": "execute_result"
    }
   ],
   "source": [
    "dados_finais = pd.merge(importacao, media_anual, on='Ano', how='left')\n",
    "dados_finais.head()"
   ]
  },
  {
   "cell_type": "code",
   "execution_count": 17,
   "id": "299ab62c",
   "metadata": {},
   "outputs": [],
   "source": [
    "dados_agrupados = dados_finais.groupby('Ano').agg({\n",
    "    'Quantidade': 'sum',\n",
    "    'Valor(US$)': 'sum',\n",
    "    'Cotação Média (USD-BRL)': 'mean'\n",
    "}).reset_index()\n"
   ]
  },
  {
   "cell_type": "code",
   "execution_count": null,
   "id": "680d16d5",
   "metadata": {},
   "outputs": [
    {
     "data": {
      "text/plain": [
       "<Figure size 1400x800 with 0 Axes>"
      ]
     },
     "metadata": {},
     "output_type": "display_data"
    },
    {
     "data": {
      "image/png": "[encoded data removed]",
      "text/plain": [
       "<Figure size 1500x700 with 2 Axes>"
      ]
     },
     "metadata": {},
     "output_type": "display_data"
    }
   ],
   "source": [
    "\n",
    "dados = dados_agrupados\n",
    "dados['Quantidade em litros'] = dados['Quantidade']  # Convertendo kg para litros (1 kg = 1 L para vinho)\n",
    "dados['Valor em US$'] = dados['Valor(US$)']  # Valor já está em US$     \n",
    "dados['Cotação Média (USD-BRL)'] = dados['Cotação Média (USD-BRL)']  # Cotação média do dólar\n",
    "# Configurações do estilo\n",
    "\n",
    "plt.figure(figsize=(14, 8))\n",
    "\n",
    "# Criar figura e eixos\n",
    "fig, ax1 = plt.subplots(figsize=(15, 7))\n",
    "\n",
    "# Converter para milhões\n",
    "dados['Quant (mi L)'] = dados['Quantidade em litros'] / 1e6\n",
    "dados['Valor (mi US$)'] = dados['Valor em US$'] / 1e6\n",
    "dados['Preço Médio (US$/L)'] = dados['Valor (mi US$)'] / dados['Quant (mi L)']\n",
    "\n",
    "# Gráfico de barras agrupadas\n",
    "width = 0.35  # Largura das barras\n",
    "x = dados['Ano']\n",
    "\n",
    "bar1 = ax1.bar(x - width/2, dados['Quant (mi L)'], width, \n",
    "               color=\"#000000\", alpha=0.8, label='Quantidade (mi L)')\n",
    "bar2 = ax1.bar(x + width/2, dados['Valor (mi US$)'], width, \n",
    "               color=\"#ff0000\", alpha=0.8, label='Valor (mi US$)')\n",
    "\n",
    "# Configurações do eixo primário\n",
    "ax1.set_xlabel('Ano', fontsize=12, labelpad=10)\n",
    "ax1.set_ylabel('Milhões (Litros/US$)', fontsize=12)\n",
    "ax1.set_xticks(x)\n",
    "ax1.xaxis.set_major_formatter(ticker.FormatStrFormatter('%d'))\n",
    "ax1.grid(axis='y', linestyle=':', alpha=0.7)\n",
    "\n",
    "# Eixo secundário para cotação\n",
    "ax2 = ax1.twinx()\n",
    "line = ax2.plot(x, dados['Cotação Média (USD-BRL)'], \n",
    "                color='#2ecc71', marker='o', linewidth=2.5, \n",
    "                markersize=8, label='Cotação (R$/US$)')\n",
    "\n",
    "line2 = ax2.plot(x, dados['Preço Médio (US$/L)'],\n",
    "                color='#9b59b6', linestyle='--', marker='x', \n",
    "                linewidth=2.5, markersize=8, label='Preço Médio (US$/L)')\n",
    "\n",
    "# Configurações do eixo secundário\n",
    "ax2.set_ylabel('Cotação Média (R$/US$)', fontsize=12)\n",
    "ax2.set_ylim(1, 6)\n",
    "ax2.grid(visible=False)\n",
    "\n",
    "# Adicionar valores nas barras (apenas para valores relevantes)\n",
    "for rect in bar1 + bar2:\n",
    "    height = rect.get_height()\n",
    "    if height > 0:  # Só mostra label se o valor for > 0\n",
    "        ax1.annotate(f'{height:.1f}',\n",
    "                    xy=(rect.get_x() + rect.get_width()/2, height),\n",
    "                    xytext=(0, 3),\n",
    "                    textcoords=\"offset points\",\n",
    "                    ha='center', va='bottom',\n",
    "                    fontsize=9)\n",
    "\n",
    "# Adicionar valores na linha de cotação\n",
    "for i, txt in enumerate(dados['Cotação Média (USD-BRL)']):\n",
    "    ax2.annotate(f'{txt:.2f}', \n",
    "                 (x[i], dados['Cotação Média (USD-BRL)'][i]), \n",
    "                 textcoords=\"offset points\", \n",
    "                 xytext=(5,5), \n",
    "                 ha='left',\n",
    "                 fontsize=9)\n",
    "    \n",
    "for i, txt in enumerate(dados['Preço Médio (US$/L)']):\n",
    "    ax2.annotate(f'{txt:.2f}', \n",
    "                 (x[i], dados['Preço Médio (US$/L)'][i]), \n",
    "                 textcoords=\"offset points\", \n",
    "                 xytext=(5,5), \n",
    "                 ha='left',\n",
    "                 fontsize=9)\n",
    "\n",
    "# Título e legendas\n",
    "plt.title('Exportações de Vinho Brasileiro (2010-2024)\\nQuantidade, Valor e Cotação do Dólar', \n",
    "          fontsize=14, pad=20, fontweight='bold')\n",
    "\n",
    "# Unir legendas\n",
    "lines1, labels1 = ax1.get_legend_handles_labels()\n",
    "lines2, labels2 = ax2.get_legend_handles_labels()\n",
    "ax1.legend(lines1 + lines2, labels1 + labels2, \n",
    "           loc='upper left', \n",
    "           bbox_to_anchor=(0.01, 0.97),\n",
    "           frameon=True)\n",
    "\n",
    "# Ajustar layout\n",
    "plt.tight_layout()\n",
    "plt.show()"
   ]
  },
  {
   "cell_type": "code",
   "execution_count": 19,
   "id": "c2875000",
   "metadata": {},
   "outputs": [
    {
     "data": {
      "image/png": "[encoded data removed]",
      "text/plain": [
       "<Figure size 1200x600 with 1 Axes>"
      ]
     },
     "metadata": {},
     "output_type": "display_data"
    }
   ],
   "source": [
    "import pandas as pd\n",
    "import matplotlib.pyplot as plt\n",
    "import numpy as np\n",
    "\n",
    "# Criar coluna de período com indexação booleana vetorizada\n",
    "importacao[\"Período\"] = np.where(importacao[\"Ano\"] <= 2017, \"2009–2017\", \"2017–2023\")\n",
    "\n",
    "# Agrupar por país e período\n",
    "tabela = importacao.groupby([\"País\", \"Período\"])[\"Quantidade\"].sum().unstack(fill_value=0)\n",
    "\n",
    "# Selecionar top 7 países com maior volume total\n",
    "totais = tabela.sum(axis=1)\n",
    "tabela = tabela.loc[totais.nlargest(7).index]\n",
    "\n",
    "# Ordenar do maior para o menor e inverter para maior no topo\n",
    "ordem = tabela.sum(axis=1).sort_values(ascending=False).index[::-1]\n",
    "tabela = tabela.loc[ordem]\n",
    "\n",
    "# Converter para milhões\n",
    "tabela_milhoes = tabela / 1_000_000\n",
    "\n",
    "# Plotar gráfico\n",
    "ax = tabela_milhoes.plot(kind=\"barh\", stacked=True, figsize=(12, 6), color=[\"gray\", \"black\"])\n",
    "\n",
    "# Coordenadas dos centros para os rótulos internos\n",
    "centros = tabela_milhoes.cumsum(axis=1) - tabela_milhoes / 2\n",
    "\n",
    "# Expandir coordenadas em arrays vetorizados\n",
    "x_coords = centros.to_numpy().flatten()\n",
    "y_coords = np.repeat(np.arange(len(centros)), centros.shape[1])\n",
    "labels = tabela_milhoes.to_numpy().flatten()\n",
    "\n",
    "# Criar máscara de rótulos visíveis (> 0)\n",
    "mask = labels > 0\n",
    "x_coords_visible = x_coords[mask]\n",
    "y_coords_visible = y_coords[mask]\n",
    "labels_visible = np.round(labels[mask], 1).astype(str)\n",
    "\n",
    "# Determinar cores (segunda coluna recebe branco)\n",
    "cor_rótulos = np.tile(np.array([\"black\", \"white\"]), len(tabela))[:len(labels)]\n",
    "cor_rótulos_visíveis = cor_rótulos[mask]\n",
    "\n",
    "# Adicionar rótulos internos vetorizadamente\n",
    "for i in range(len(labels_visible)):\n",
    "    ax.annotate(labels_visible[i], (x_coords_visible[i], y_coords_visible[i]),\n",
    "                ha='center', va='center', fontsize=12, fontweight='bold', color=cor_rótulos_visíveis[i])\n",
    "\n",
    "# Rótulo total final\n",
    "totais_finais = tabela_milhoes.sum(axis=1).to_numpy()\n",
    "x_totais = totais_finais + 0.5\n",
    "y_totais = np.arange(len(totais_finais))\n",
    "label_totais = np.round(totais_finais, 1).astype(str) + \" MM\"\n",
    "\n",
    "# Adicionar rótulos totais vetorizadamente\n",
    "for i in range(len(label_totais)):\n",
    "    ax.annotate(label_totais[i], (x_totais[i], y_totais[i]),\n",
    "                ha='left', va='center', fontsize=8, fontweight='bold', color='black')\n",
    "\n",
    "# Estilo do gráfico\n",
    "plt.title(\"Importações de Vinho por País de Origem (2009–2017 vs 2017–2023)\")\n",
    "plt.xlabel(\"Milhões de Litros\")\n",
    "plt.ylabel(\"País\")\n",
    "ax.spines['top'].set_visible(False)\n",
    "ax.spines['right'].set_visible(False)\n",
    "ax.spines['left'].set_visible(False)\n",
    "ax.grid(axis='x', visible=False)\n",
    "plt.grid(axis='y', visible=False)\n",
    "plt.grid(axis='x', linestyle= '--', alpha=0.5,visible=False)\n",
    "plt.tight_layout()\n",
    "plt.show()"
   ]
  },
  {
   "cell_type": "code",
   "execution_count": 27,
   "id": "6eaf4053",
   "metadata": {},
   "outputs": [
    {
     "name": "stdout",
     "output_type": "stream",
     "text": [
      "Quantidade total exportada de vinho pelo Brasil: 1514.09 litros\n",
      "Valor total exportado de vinho pelo Brasil: 4733.75 US$\n"
     ]
    },
    {
     "data": {
      "application/vnd.microsoft.datawrangler.viewer.v0+json": {
       "columns": [
        {
         "name": "index",
         "rawType": "int64",
         "type": "integer"
        },
        {
         "name": "Ano",
         "rawType": "int64",
         "type": "integer"
        },
        {
         "name": "Quantidade",
         "rawType": "int64",
         "type": "integer"
        },
        {
         "name": "Valor(US$)",
         "rawType": "int64",
         "type": "integer"
        },
        {
         "name": "Cotação Média (USD-BRL)",
         "rawType": "float64",
         "type": "float"
        },
        {
         "name": "Período",
         "rawType": "object",
         "type": "string"
        }
       ],
       "ref": "39940a9d-6bea-44a0-9257-70c7d476075f",
       "rows": [
        [
         "0",
         "2009",
         "493093",
         "1931449",
         "1.9888507714567258",
         "2009–2017"
        ],
        [
         "1",
         "2009",
         "56075",
         "291876",
         "1.9888507714567258",
         "2009–2017"
        ],
        [
         "2",
         "2009",
         "0",
         "0",
         "1.9888507714567258",
         "2009–2017"
        ],
        [
         "3",
         "2009",
         "0",
         "0",
         "1.9888507714567258",
         "2009–2017"
        ],
        [
         "4",
         "2009",
         "13902750",
         "38521731",
         "1.9888507714567258",
         "2009–2017"
        ]
       ],
       "shape": {
        "columns": 5,
        "rows": 5
       }
      },
      "text/html": [
       "<div>\n",
       "<style scoped>\n",
       "    .dataframe tbody tr th:only-of-type {\n",
       "        vertical-align: middle;\n",
       "    }\n",
       "\n",
       "    .dataframe tbody tr th {\n",
       "        vertical-align: top;\n",
       "    }\n",
       "\n",
       "    .dataframe thead th {\n",
       "        text-align: right;\n",
       "    }\n",
       "</style>\n",
       "<table border=\"1\" class=\"dataframe\">\n",
       "  <thead>\n",
       "    <tr style=\"text-align: right;\">\n",
       "      <th></th>\n",
       "      <th>Ano</th>\n",
       "      <th>Quantidade</th>\n",
       "      <th>Valor(US$)</th>\n",
       "      <th>Cotação Média (USD-BRL)</th>\n",
       "      <th>Período</th>\n",
       "    </tr>\n",
       "  </thead>\n",
       "  <tbody>\n",
       "    <tr>\n",
       "      <th>0</th>\n",
       "      <td>2009</td>\n",
       "      <td>493093</td>\n",
       "      <td>1931449</td>\n",
       "      <td>1.988851</td>\n",
       "      <td>2009–2017</td>\n",
       "    </tr>\n",
       "    <tr>\n",
       "      <th>1</th>\n",
       "      <td>2009</td>\n",
       "      <td>56075</td>\n",
       "      <td>291876</td>\n",
       "      <td>1.988851</td>\n",
       "      <td>2009–2017</td>\n",
       "    </tr>\n",
       "    <tr>\n",
       "      <th>2</th>\n",
       "      <td>2009</td>\n",
       "      <td>0</td>\n",
       "      <td>0</td>\n",
       "      <td>1.988851</td>\n",
       "      <td>2009–2017</td>\n",
       "    </tr>\n",
       "    <tr>\n",
       "      <th>3</th>\n",
       "      <td>2009</td>\n",
       "      <td>0</td>\n",
       "      <td>0</td>\n",
       "      <td>1.988851</td>\n",
       "      <td>2009–2017</td>\n",
       "    </tr>\n",
       "    <tr>\n",
       "      <th>4</th>\n",
       "      <td>2009</td>\n",
       "      <td>13902750</td>\n",
       "      <td>38521731</td>\n",
       "      <td>1.988851</td>\n",
       "      <td>2009–2017</td>\n",
       "    </tr>\n",
       "  </tbody>\n",
       "</table>\n",
       "</div>"
      ],
      "text/plain": [
       "    Ano  Quantidade  Valor(US$)  Cotação Média (USD-BRL)    Período\n",
       "0  2009      493093     1931449                 1.988851  2009–2017\n",
       "1  2009       56075      291876                 1.988851  2009–2017\n",
       "2  2009           0           0                 1.988851  2009–2017\n",
       "3  2009           0           0                 1.988851  2009–2017\n",
       "4  2009    13902750    38521731                 1.988851  2009–2017"
      ]
     },
     "execution_count": 27,
     "metadata": {},
     "output_type": "execute_result"
    }
   ],
   "source": [
    "#Estatisticas\n",
    "\n",
    "quantidade_total = dados_finais['Quantidade'].sum()/ 1000000 # Convertendo para milhões de litros\n",
    "print(f\"Quantidade total exportada de vinho pelo Brasil: {quantidade_total:.2f} litros\")\n",
    "valor_total = dados_finais['Valor(US$)'].sum() / 1000000  # Convertendo para milhões de dólares\n",
    "print(f\"Valor total exportado de vinho pelo Brasil: {valor_total:.2f} US$\")\n",
    "\n",
    "dados_finais.head()\n"
   ]
  },
  {
   "cell_type": "code",
   "execution_count": 29,
   "id": "73f16b99",
   "metadata": {},
   "outputs": [
    {
     "data": {
      "application/vnd.microsoft.datawrangler.viewer.v0+json": {
       "columns": [
        {
         "name": "País",
         "rawType": "object",
         "type": "string"
        },
        {
         "name": "2009–2017",
         "rawType": "float64",
         "type": "float"
        },
        {
         "name": "2018–2023",
         "rawType": "float64",
         "type": "float"
        },
        {
         "name": "Total (L)",
         "rawType": "int64",
         "type": "integer"
        }
       ],
       "ref": "3d3cb8cf-863d-4514-9c4d-dd7ceba372bc",
       "rows": [
        [
         "Africa do Sul",
         "0.9",
         "0.61",
         "11314410"
        ],
        [
         "Argentina",
         "18.55",
         "16.58",
         "264857594"
        ],
        [
         "Austrália",
         "0.59",
         "0.2",
         "5765459"
        ],
        [
         "Chile",
         "42.89",
         "46.52",
         "678841769"
        ],
        [
         "Espanha",
         "3.85",
         "4.98",
         "67463620"
        ],
        [
         "Estados Unidos",
         "0.74",
         "0.32",
         "7803862"
        ],
        [
         "França",
         "4.54",
         "3.91",
         "63600166"
        ],
        [
         "Itália",
         "12.44",
         "7.38",
         "147303132"
        ],
        [
         "Portugal",
         "12.68",
         "16.6",
         "223799606"
        ],
        [
         "Uruguai",
         "2.25",
         "2.44",
         "35574576"
        ]
       ],
       "shape": {
        "columns": 3,
        "rows": 10
       }
      },
      "text/html": [
       "<div>\n",
       "<style scoped>\n",
       "    .dataframe tbody tr th:only-of-type {\n",
       "        vertical-align: middle;\n",
       "    }\n",
       "\n",
       "    .dataframe tbody tr th {\n",
       "        vertical-align: top;\n",
       "    }\n",
       "\n",
       "    .dataframe thead th {\n",
       "        text-align: right;\n",
       "    }\n",
       "</style>\n",
       "<table border=\"1\" class=\"dataframe\">\n",
       "  <thead>\n",
       "    <tr style=\"text-align: right;\">\n",
       "      <th>Período</th>\n",
       "      <th>2009–2017</th>\n",
       "      <th>2018–2023</th>\n",
       "      <th>Total (L)</th>\n",
       "    </tr>\n",
       "    <tr>\n",
       "      <th>País</th>\n",
       "      <th></th>\n",
       "      <th></th>\n",
       "      <th></th>\n",
       "    </tr>\n",
       "  </thead>\n",
       "  <tbody>\n",
       "    <tr>\n",
       "      <th>Africa do Sul</th>\n",
       "      <td>0.90</td>\n",
       "      <td>0.61</td>\n",
       "      <td>11314410</td>\n",
       "    </tr>\n",
       "    <tr>\n",
       "      <th>Argentina</th>\n",
       "      <td>18.55</td>\n",
       "      <td>16.58</td>\n",
       "      <td>264857594</td>\n",
       "    </tr>\n",
       "    <tr>\n",
       "      <th>Austrália</th>\n",
       "      <td>0.59</td>\n",
       "      <td>0.20</td>\n",
       "      <td>5765459</td>\n",
       "    </tr>\n",
       "    <tr>\n",
       "      <th>Chile</th>\n",
       "      <td>42.89</td>\n",
       "      <td>46.52</td>\n",
       "      <td>678841769</td>\n",
       "    </tr>\n",
       "    <tr>\n",
       "      <th>Espanha</th>\n",
       "      <td>3.85</td>\n",
       "      <td>4.98</td>\n",
       "      <td>67463620</td>\n",
       "    </tr>\n",
       "    <tr>\n",
       "      <th>Estados Unidos</th>\n",
       "      <td>0.74</td>\n",
       "      <td>0.32</td>\n",
       "      <td>7803862</td>\n",
       "    </tr>\n",
       "    <tr>\n",
       "      <th>França</th>\n",
       "      <td>4.54</td>\n",
       "      <td>3.91</td>\n",
       "      <td>63600166</td>\n",
       "    </tr>\n",
       "    <tr>\n",
       "      <th>Itália</th>\n",
       "      <td>12.44</td>\n",
       "      <td>7.38</td>\n",
       "      <td>147303132</td>\n",
       "    </tr>\n",
       "    <tr>\n",
       "      <th>Portugal</th>\n",
       "      <td>12.68</td>\n",
       "      <td>16.60</td>\n",
       "      <td>223799606</td>\n",
       "    </tr>\n",
       "    <tr>\n",
       "      <th>Uruguai</th>\n",
       "      <td>2.25</td>\n",
       "      <td>2.44</td>\n",
       "      <td>35574576</td>\n",
       "    </tr>\n",
       "  </tbody>\n",
       "</table>\n",
       "</div>"
      ],
      "text/plain": [
       "Período         2009–2017  2018–2023  Total (L)\n",
       "País                                           \n",
       "Africa do Sul        0.90       0.61   11314410\n",
       "Argentina           18.55      16.58  264857594\n",
       "Austrália            0.59       0.20    5765459\n",
       "Chile               42.89      46.52  678841769\n",
       "Espanha              3.85       4.98   67463620\n",
       "Estados Unidos       0.74       0.32    7803862\n",
       "França               4.54       3.91   63600166\n",
       "Itália              12.44       7.38  147303132\n",
       "Portugal            12.68      16.60  223799606\n",
       "Uruguai              2.25       2.44   35574576"
      ]
     },
     "execution_count": 29,
     "metadata": {},
     "output_type": "execute_result"
    }
   ],
   "source": [
    "# \n",
    "importacao['Ano'] = importacao['Ano'].astype(int)\n",
    "importacao[\"Período\"] = np.where(importacao[\"Ano\"] <= 2017, \"2009–2017\", \"2018–2023\")\n",
    "# 4. Calcular o volume total exportado por país e período\n",
    "soma_por_pais_periodo = importacao.groupby([\"Período\", \"País\"])[\"Quantidade\"].sum()\n",
    "\n",
    "# 5. Transformar em tabela com países nas colunas e períodos nas linhas\n",
    "tabela_volume = soma_por_pais_periodo.unstack().fillna(0)\n",
    "\n",
    "# 6. Calcular o share (%) por país em cada período\n",
    "tabela_share_percentual = tabela_volume.divide(tabela_volume.sum(axis=1), axis=0) * 100\n",
    "tabela_share_percentual = tabela_share_percentual.round(2)\n",
    "\n",
    "# 7. Identificar os Top 5 países com maior participação em cada período\n",
    "top5_2009_2017 = tabela_share_percentual.loc[\"2009–2017\"].sort_values(ascending=False).head(10).index\n",
    "top5_2018_2023 = tabela_share_percentual.loc[\"2018–2023\"].sort_values(ascending=False).head(10).index\n",
    "# Obter a união dos países top 10 de ambos os períodos\n",
    "top_paises = top5_2009_2017.union(top5_2018_2023)\n",
    "\n",
    "# 8. Filtrar e transpor a tabela para ter países nas linhas e períodos nas colunas\n",
    "tabela_share_ordenada = tabela_share_percentual[top_paises].T\n",
    "\n",
    "total_geral_por_pais = tabela_volume.loc[\"2009–2017\"] + tabela_volume.loc[\"2018–2023\"]\n",
    "\n",
    "# Adicionar a coluna de total geral (litros)\n",
    "tabela_share_ordenada[\"Total (L)\"] = total_geral_por_pais[tabela_share_ordenada.index]\n",
    "\n",
    "tabela_share_ordenada.head(15)"
   ]
  },
  {
   "cell_type": "code",
   "execution_count": null,
   "id": "1470147e",
   "metadata": {},
   "outputs": [],
   "source": []
  }
 ],
 "metadata": {
  "kernelspec": {
   "display_name": "Python 3",
   "language": "python",
   "name": "python3"
  },
  "language_info": {
   "codemirror_mode": {
    "name": "ipython",
    "version": 3
   },
   "file_extension": ".py",
   "mimetype": "text/x-python",
   "name": "python",
   "nbconvert_exporter": "python",
   "pygments_lexer": "ipython3",
   "version": "3.13.2"
  }
 },
 "nbformat": 4,
 "nbformat_minor": 5
}
