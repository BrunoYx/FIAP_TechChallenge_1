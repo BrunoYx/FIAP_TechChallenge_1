{
 "cells": [
  {
   "cell_type": "code",
   "execution_count": 17,
   "id": "b25c0aad",
   "metadata": {},
   "outputs": [
    {
     "name": "stderr",
     "output_type": "stream",
     "text": [
      "<>:4: SyntaxWarning: invalid escape sequence '\\D'\n",
      "<>:4: SyntaxWarning: invalid escape sequence '\\D'\n",
      "C:\\Users\\bruno\\AppData\\Local\\Temp\\ipykernel_23184\\2669081548.py:4: SyntaxWarning: invalid escape sequence '\\D'\n",
      "  pop_df = pd.read_csv('Dados\\Dados_ONU\\population-older-than-18-years.csv')\n",
      "C:\\Users\\bruno\\AppData\\Local\\Temp\\ipykernel_23184\\2669081548.py:20: SettingWithCopyWarning: \n",
      "A value is trying to be set on a copy of a slice from a DataFrame.\n",
      "Try using .loc[row_indexer,col_indexer] = value instead\n",
      "\n",
      "See the caveats in the documentation: https://pandas.pydata.org/pandas-docs/stable/user_guide/indexing.html#returning-a-view-versus-a-copy\n",
      "  pop_continentes['Continete'] = pop_continentes['Entity'].replace({\n"
     ]
    },
    {
     "data": {
      "application/vnd.microsoft.datawrangler.viewer.v0+json": {
       "columns": [
        {
         "name": "index",
         "rawType": "int64",
         "type": "integer"
        },
        {
         "name": "Entity",
         "rawType": "object",
         "type": "string"
        },
        {
         "name": "População 2016",
         "rawType": "int64",
         "type": "integer"
        },
        {
         "name": "População 2023",
         "rawType": "int64",
         "type": "integer"
        },
        {
         "name": "Crescimento Absoluto",
         "rawType": "int64",
         "type": "integer"
        },
        {
         "name": "Crescimento Percentual (%)",
         "rawType": "float64",
         "type": "float"
        }
       ],
       "ref": "81a06e6e-44d9-4d54-a305-24c40ef5a482",
       "rows": [
        [
         "0",
         "Europe (UN)",
         "605789156",
         "604391262",
         "-1397894",
         "-0.23075586384382224"
        ],
        [
         "1",
         "Northern America (UN)",
         "301391697",
         "282775701",
         "-18615996",
         "-6.176678450435215"
        ],
        [
         "2",
         "Americas (UN)",
         "778051082",
         "717592138",
         "-60458944",
         "-7.7705622932351375"
        ],
        [
         "3",
         "Asia (UN)",
         "3458166525",
         "3179444849",
         "-278721676",
         "-8.059810711400024"
        ],
        [
         "4",
         "Latin America and the Caribbean (UN)",
         "476659343",
         "434816377",
         "-41842966",
         "-8.778379489353679"
        ],
        [
         "5",
         "Oceania (UN)",
         "33235938",
         "29723793",
         "-3512145",
         "-10.567311203914269"
        ],
        [
         "6",
         "Africa (UN)",
         "800622581",
         "656365901",
         "-144256680",
         "-18.018062870500025"
        ]
       ],
       "shape": {
        "columns": 5,
        "rows": 7
       }
      },
      "text/html": [
       "<div>\n",
       "<style scoped>\n",
       "    .dataframe tbody tr th:only-of-type {\n",
       "        vertical-align: middle;\n",
       "    }\n",
       "\n",
       "    .dataframe tbody tr th {\n",
       "        vertical-align: top;\n",
       "    }\n",
       "\n",
       "    .dataframe thead th {\n",
       "        text-align: right;\n",
       "    }\n",
       "</style>\n",
       "<table border=\"1\" class=\"dataframe\">\n",
       "  <thead>\n",
       "    <tr style=\"text-align: right;\">\n",
       "      <th></th>\n",
       "      <th>Entity</th>\n",
       "      <th>População 2016</th>\n",
       "      <th>População 2023</th>\n",
       "      <th>Crescimento Absoluto</th>\n",
       "      <th>Crescimento Percentual (%)</th>\n",
       "    </tr>\n",
       "  </thead>\n",
       "  <tbody>\n",
       "    <tr>\n",
       "      <th>0</th>\n",
       "      <td>Europe (UN)</td>\n",
       "      <td>605789156</td>\n",
       "      <td>604391262</td>\n",
       "      <td>-1397894</td>\n",
       "      <td>-0.230756</td>\n",
       "    </tr>\n",
       "    <tr>\n",
       "      <th>1</th>\n",
       "      <td>Northern America (UN)</td>\n",
       "      <td>301391697</td>\n",
       "      <td>282775701</td>\n",
       "      <td>-18615996</td>\n",
       "      <td>-6.176678</td>\n",
       "    </tr>\n",
       "    <tr>\n",
       "      <th>2</th>\n",
       "      <td>Americas (UN)</td>\n",
       "      <td>778051082</td>\n",
       "      <td>717592138</td>\n",
       "      <td>-60458944</td>\n",
       "      <td>-7.770562</td>\n",
       "    </tr>\n",
       "    <tr>\n",
       "      <th>3</th>\n",
       "      <td>Asia (UN)</td>\n",
       "      <td>3458166525</td>\n",
       "      <td>3179444849</td>\n",
       "      <td>-278721676</td>\n",
       "      <td>-8.059811</td>\n",
       "    </tr>\n",
       "    <tr>\n",
       "      <th>4</th>\n",
       "      <td>Latin America and the Caribbean (UN)</td>\n",
       "      <td>476659343</td>\n",
       "      <td>434816377</td>\n",
       "      <td>-41842966</td>\n",
       "      <td>-8.778379</td>\n",
       "    </tr>\n",
       "    <tr>\n",
       "      <th>5</th>\n",
       "      <td>Oceania (UN)</td>\n",
       "      <td>33235938</td>\n",
       "      <td>29723793</td>\n",
       "      <td>-3512145</td>\n",
       "      <td>-10.567311</td>\n",
       "    </tr>\n",
       "    <tr>\n",
       "      <th>6</th>\n",
       "      <td>Africa (UN)</td>\n",
       "      <td>800622581</td>\n",
       "      <td>656365901</td>\n",
       "      <td>-144256680</td>\n",
       "      <td>-18.018063</td>\n",
       "    </tr>\n",
       "  </tbody>\n",
       "</table>\n",
       "</div>"
      ],
      "text/plain": [
       "                                 Entity  População 2016  População 2023  \\\n",
       "0                           Europe (UN)       605789156       604391262   \n",
       "1                 Northern America (UN)       301391697       282775701   \n",
       "2                         Americas (UN)       778051082       717592138   \n",
       "3                             Asia (UN)      3458166525      3179444849   \n",
       "4  Latin America and the Caribbean (UN)       476659343       434816377   \n",
       "5                          Oceania (UN)        33235938        29723793   \n",
       "6                           Africa (UN)       800622581       656365901   \n",
       "\n",
       "   Crescimento Absoluto  Crescimento Percentual (%)  \n",
       "0              -1397894                   -0.230756  \n",
       "1             -18615996                   -6.176678  \n",
       "2             -60458944                   -7.770562  \n",
       "3            -278721676                   -8.059811  \n",
       "4             -41842966                   -8.778379  \n",
       "5              -3512145                  -10.567311  \n",
       "6            -144256680                  -18.018063  "
      ]
     },
     "execution_count": 17,
     "metadata": {},
     "output_type": "execute_result"
    }
   ],
   "source": [
    "import pandas as pd\n",
    "\n",
    "# Carregar os dados de população maior de 18 anos\n",
    "pop_df = pd.read_csv('Dados\\Dados_ONU\\population-older-than-18-years.csv')\n",
    "\n",
    "# Definir os nomes dos continentes conforme presentes no dataset\n",
    "continentes_un = [\n",
    "'Africa (UN)',\n",
    "'Americas (UN)',\n",
    "'Asia (UN)',\n",
    "'Europe (UN)',\n",
    "'Latin America and the Caribbean (UN)',\n",
    "'Northern America (UN)',\n",
    "'Oceania (UN)'\n",
    "\n",
    "]\n",
    "\n",
    "# Filtrar os dados para os continentes selecionados\n",
    "pop_continentes = pop_df[pop_df['Entity'].isin(continentes_un)]\n",
    "pop_continentes['Continete'] = pop_continentes['Entity'].replace({\n",
    "    'Africa (UN)': 'África',\n",
    "    'Americas (UN)': 'Américas',\n",
    "    'Asia (UN)': 'Ásia',\n",
    "    'Europe (UN)': 'Europa',\n",
    "    'Latin America and the Caribbean (UN)': 'América Latina e Caribe',\n",
    "    'Northern America (UN)': 'América do Norte',\n",
    "    'Oceania (UN)': 'Oceania'\n",
    "})\n",
    "# Determinar ano final e inicial para análise de 7 anos\n",
    "ano_final = pop_continentes['Year'].max()\n",
    "ano_inicial = ano_final - 7\n",
    "\n",
    "# Obter dados dos dois anos\n",
    "cont_pop_final = pop_continentes[pop_continentes['Year'] == ano_final][['Entity', '18+ years']].rename(columns={'18+ years': 'População 2016'})\n",
    "cont_pop_inicio = pop_continentes[pop_continentes['Year'] == ano_inicial][['Entity', '18+ years']].rename(columns={'18+ years': 'População 2023'})\n",
    "\n",
    "# Juntar e calcular crescimento absoluto e percentual\n",
    "cont_variacao = pd.merge(cont_pop_final, cont_pop_inicio, on='Entity')\n",
    "cont_variacao['Crescimento Absoluto'] = cont_variacao['População 2023'] - cont_variacao['População 2016']\n",
    "cont_variacao['Crescimento Percentual (%)'] = (cont_variacao['Crescimento Absoluto'] / cont_variacao['População 2016']) * 100\n",
    "\n",
    "# Ordenar por crescimento percentual\n",
    "cont_variacao_sorted = cont_variacao.sort_values(by='Crescimento Percentual (%)', ascending=False).reset_index(drop=True)\n",
    "cont_variacao_sorted.head(10)"
   ]
  },
  {
   "cell_type": "code",
   "execution_count": 12,
   "id": "3c6daa81",
   "metadata": {},
   "outputs": [
    {
     "name": "stdout",
     "output_type": "stream",
     "text": [
      "2016\n"
     ]
    }
   ],
   "source": [
    "print(ano_inicial)"
   ]
  },
  {
   "cell_type": "code",
   "execution_count": null,
   "id": "79532fbd",
   "metadata": {},
   "outputs": [],
   "source": []
  }
 ],
 "metadata": {
  "kernelspec": {
   "display_name": "Python 3",
   "language": "python",
   "name": "python3"
  },
  "language_info": {
   "codemirror_mode": {
    "name": "ipython",
    "version": 3
   },
   "file_extension": ".py",
   "mimetype": "text/x-python",
   "name": "python",
   "nbconvert_exporter": "python",
   "pygments_lexer": "ipython3",
   "version": "3.13.2"
  }
 },
 "nbformat": 4,
 "nbformat_minor": 5
}
