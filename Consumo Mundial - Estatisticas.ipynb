{
 "cells": [
  {
   "cell_type": "code",
   "execution_count": null,
   "id": "b059531a",
   "metadata": {},
   "outputs": [],
   "source": [
    "import pandas as pd\n",
    "import matplotlib.pyplot as plt\n",
    "import matplotlib.ticker as ticker\n",
    "import seaborn as sns\n",
    "\n",
    "df = pd.read_excel('Dados/Dados_Oiv/Dados_Oiv.xlsx', \n",
    "                   engine='openpyxl')\n",
    "df.head()"
   ]
  },
  {
   "cell_type": "code",
   "execution_count": null,
   "id": "2e72b85c",
   "metadata": {},
   "outputs": [],
   "source": [
    "\n",
    "\n",
    "# Filtrar dados para a região global e remover valores nulos\n",
    "df_global = df[df[\"Region/Country\"] == \"Global\"].dropna(subset=[\"Quantity\"])\n",
    "\n",
    "df_global.head()"
   ]
  },
  {
   "cell_type": "code",
   "execution_count": null,
   "id": "57d9929d",
   "metadata": {},
   "outputs": [],
   "source": [
    "\n",
    "# Filtrar dados para a região global e remover valores nulos\n",
    "df_global = df[df[\"Region/Country\"] == \"Global\"].dropna(subset=[\"Quantity\"])\n",
    "\n",
    "# Converter quantidade de 1000 hl para litros (1 hl = 100 L → 1000 hl = 100,000 L)\n",
    "df_global[\"Quantity_Liters\"] = df_global[\"Quantity\"] * 100000\n",
    "\n",
    "# Filtrar os últimos 15 anos (assumindo que o último ano é 2024)\n",
    "anos_validos = list(range(2010, 2025))\n",
    "df_global = df_global[df_global[\"Year\"].isin(anos_validos)]\n",
    "\n",
    "# Função para calcular as estatísticas formatadas\n",
    "def calcular_estatisticas_formatado(df, variavel):\n",
    "    df_filtrado = df[df[\"Variable\"] == variavel]\n",
    "    volume_total = df_filtrado[\"Quantity_Liters\"].sum() / 1e9  # bilhões de litros\n",
    "    media_anual = df_filtrado[\"Quantity_Liters\"].mean() / 1e6  # milhões de litros\n",
    "    volume_ultimo_ano = df_filtrado[df_filtrado[\"Year\"] == df_filtrado[\"Year\"].max()][\"Quantity_Liters\"].sum() / 1e6\n",
    "    volume_ano_anterior = df_filtrado[df_filtrado[\"Year\"] == df_filtrado[\"Year\"].max() - 1][\"Quantity_Liters\"].sum() / 1e6\n",
    "    crescimento = ((volume_ultimo_ano - volume_ano_anterior) / volume_ano_anterior * 100) if volume_ano_anterior > 0 else None\n",
    "    return {\n",
    "        \"Volume Total (Bilhões L)\": round(volume_total, 2),\n",
    "        \"Média Anual (Milhões L)\": round(media_anual, 2),\n",
    "        \"Volume Último Ano (Milhões L)\": round(volume_ultimo_ano, 2),\n",
    "        \"Crescimento Último Ano (%)\": round(crescimento, 2) if crescimento is not None else None\n",
    "    }\n",
    "\n",
    "# Calcular estatísticas para cada alavanca\n",
    "estatisticas_producao = calcular_estatisticas_formatado(df_global, \"Production\")\n",
    "estatisticas_importacao = calcular_estatisticas_formatado(df_global, \"Imports\")\n",
    "estatisticas_exportacao = calcular_estatisticas_formatado(df_global, \"Exports\")\n",
    "estatisticas_consumo = calcular_estatisticas_formatado(df_global, \"Consumption\")\n",
    "\n",
    "# Criar DataFrame consolidado\n",
    "tabela_resultado_formatada = pd.DataFrame({\n",
    "    \"Produção\": estatisticas_producao,\n",
    "    \"Importação\": estatisticas_importacao,\n",
    "    \"Exportação\": estatisticas_exportacao,\n",
    "    \"Consumo\": estatisticas_consumo\n",
    "}).T"
   ]
  },
  {
   "cell_type": "code",
   "execution_count": null,
   "id": "d15bb046",
   "metadata": {},
   "outputs": [],
   "source": [
    "tabela_resultado_formatada.head()"
   ]
  },
  {
   "cell_type": "code",
   "execution_count": null,
   "id": "faa0deef",
   "metadata": {},
   "outputs": [],
   "source": [
    "# Ajustar a tabela para melhor visualização (como print)\n",
    "tabela_formatada_print = tabela_resultado_formatada.copy()\n",
    "tabela_formatada_print.reset_index(inplace=True)\n",
    "tabela_formatada_print.rename(columns={\"index\": \"Alavanca\"}, inplace=True)\n",
    "\n",
    "# Formatando os valores para exibição (ex: 10.000,00 com vírgula e %)\n",
    "tabela_formatada_print[\"Volume Total (Bilhões L)\"] = tabela_formatada_print[\"Volume Total (Bilhões L)\"].map(\"{:,.2f}\".format)\n",
    "tabela_formatada_print[\"Média Anual (Milhões L)\"] = tabela_formatada_print[\"Média Anual (Milhões L)\"].map(\"{:,.2f}\".format)\n",
    "tabela_formatada_print[\"Volume Último Ano (Milhões L)\"] = tabela_formatada_print[\"Volume Último Ano (Milhões L)\"].map(\"{:,.2f}\".format)\n",
    "tabela_formatada_print[\"Crescimento Último Ano (%)\"] = tabela_formatada_print[\"Crescimento Último Ano (%)\"].map(\"{:.2f}%\".format)\n",
    "\n",
    "display(tabela_formatada_print)\n"
   ]
  },
  {
   "cell_type": "code",
   "execution_count": null,
   "id": "940d3bca",
   "metadata": {},
   "outputs": [],
   "source": []
  }
 ],
 "metadata": {
  "kernelspec": {
   "display_name": "Python 3",
   "language": "python",
   "name": "python3"
  },
  "language_info": {
   "codemirror_mode": {
    "name": "ipython",
    "version": 3
   },
   "file_extension": ".py",
   "mimetype": "text/x-python",
   "name": "python",
   "nbconvert_exporter": "python",
   "pygments_lexer": "ipython3",
   "version": "3.13.2"
  }
 },
 "nbformat": 4,
 "nbformat_minor": 5
}
